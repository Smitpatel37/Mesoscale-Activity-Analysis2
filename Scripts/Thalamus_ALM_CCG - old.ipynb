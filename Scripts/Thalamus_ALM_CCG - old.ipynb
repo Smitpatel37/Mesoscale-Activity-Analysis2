{
 "cells": [
  {
   "cell_type": "markdown",
   "id": "04d4f966",
   "metadata": {},
   "source": [
    "# File Structure \n",
    "- Project/MAT/'mat files'"
   ]
  },
  {
   "cell_type": "code",
   "execution_count": 1,
   "id": "d2803f46",
   "metadata": {},
   "outputs": [],
   "source": [
    "import scipy.io\n",
    "mat = scipy.io.loadmat('../MAT/medialALM_mask_150um3Dgauss_Bilateral.mat') #Projection zones file\n",
    "# ALM_mat = scipy.io.loadmat('../MAT/MouseLightData_ALM_100um.mat')"
   ]
  },
  {
   "cell_type": "code",
   "execution_count": null,
   "id": "9beeadb6",
   "metadata": {},
   "outputs": [],
   "source": [
    "import numpy as np\n",
    "from mpl_toolkits import mplot3d\n",
    "import matplotlib.pyplot as plt\n",
    "import pandas as pd\n",
    "# %pip install nibabel\n",
    "import nibabel as nib\n",
    "plt.style.use('seaborn-poster')\n",
    "vox = mat['F_smooth']"
   ]
  },
  {
   "cell_type": "markdown",
   "id": "86fa659c",
   "metadata": {},
   "source": [
    "# Prepping Data"
   ]
  },
  {
   "cell_type": "code",
   "execution_count": 3,
   "id": "8deeb000",
   "metadata": {},
   "outputs": [
    {
     "data": {
      "text/plain": [
       "array(['left ALM', 'left Thalamus', 'left Midbrain'], dtype=object)"
      ]
     },
     "execution_count": 3,
     "metadata": {},
     "output_type": "execute_result"
    }
   ],
   "source": [
    "import glob\n",
    "from pynwb import NWBHDF5IO, NWBFile, TimeSeries\n",
    "import ast\n",
    "\n",
    "nwb_files = glob.glob(\"..\\M440959\\*.nwb\")\n",
    "nwb_io = []\n",
    "\n",
    "for name in nwb_files:\n",
    "    io = NWBHDF5IO(name, mode=\"r\").read()\n",
    "    nwb_io.append(io)\n",
    "    \n",
    "pre_start,pre_stop,sample_start,sample_stop,delay_start,delay_stop,go_start,go_stop = [],[],[],[],[],[],[],[]\n",
    "for name in nwb_files:  \n",
    "    with NWBHDF5IO(name, \"r\") as io:\n",
    "        read_nwbfile = io.read()\n",
    "        #print(read_nwbfile.acquisition[\"BehavioralEvents\"][\"trialend_start_times\"].timestamps[:4])\n",
    "        #print(read_nwbfile.acquisition[\"BehavioralEvents\"][\"trialend_stop_times\"].timestamps[:4])\n",
    "        pre_start.append(read_nwbfile.acquisition[\"BehavioralEvents\"][\"presample_start_times\"].timestamps[:])\n",
    "        pre_stop.append(read_nwbfile.acquisition[\"BehavioralEvents\"][\"presample_stop_times\"].timestamps[:])\n",
    "        sample_start.append(read_nwbfile.acquisition[\"BehavioralEvents\"][\"sample_start_times\"].timestamps[:])\n",
    "        sample_stop.append(read_nwbfile.acquisition[\"BehavioralEvents\"][\"sample_stop_times\"].timestamps[:])\n",
    "        delay_start.append(read_nwbfile.acquisition[\"BehavioralEvents\"][\"delay_start_times\"].timestamps[:])\n",
    "        delay_stop.append(read_nwbfile.acquisition[\"BehavioralEvents\"][\"delay_stop_times\"].timestamps[:])\n",
    "        go_start.append(read_nwbfile.acquisition[\"BehavioralEvents\"][\"go_start_times\"].timestamps[:])\n",
    "        go_stop.append(read_nwbfile.acquisition[\"BehavioralEvents\"][\"go_stop_times\"].timestamps[:])\n",
    "      \n",
    "      \n",
    "def Clean_data(pre_start,pre_stop,sample_start,sample_stop,delay_start,delay_stop,go_start,go_stop):\n",
    "    for i in range(len(pre_start)):\n",
    "        sample_start[i] = np.intersect1d(pre_stop[i], sample_start[i])\n",
    "        sample_stop[i] = np.intersect1d(sample_stop[i], delay_start[i])\n",
    "        delay_start[i] = np.intersect1d(delay_start[i], sample_stop[i])\n",
    "        delay_stop[i] = np.intersect1d(delay_stop[i], go_start[i])\n",
    "    return pre_start,pre_stop,sample_start,sample_stop,delay_start,delay_stop,go_start,go_stop\n",
    "\n",
    "pre_start,pre_stop,sample_start,sample_stop,delay_start,delay_stop,go_start,go_stop = Clean_data(pre_start,pre_stop,sample_start,sample_stop,delay_start,delay_stop,go_start,go_stop)\n",
    "    \n",
    "trials_df = []\n",
    "for i in range(len(nwb_files)):\n",
    "    trials_df.append(nwb_io[i].trials.to_dataframe().drop(['trial','task','trial_uid', 'photostim_power','photostim_duration','auto_water', 'free_water'],axis=1))\n",
    "    trials_df[i] = trials_df[i].assign(pre_start = pre_start[i],\n",
    "                         pre_stop = pre_stop[i],\n",
    "                         sample_start = pre_stop[i],\n",
    "                         sample_stop = sample_stop[i],\n",
    "                         delay_start = delay_start[i],\n",
    "                         delay_stop = delay_stop[i],\n",
    "                         go_start = go_start[i],\n",
    "                         go_stop = go_stop[i])\n",
    "    trials_df[i]['ses_no'] = i+1\n",
    "units_df = []\n",
    "for i in range(len(nwb_files)):\n",
    "    units_df.append(nwb_io[i].units.to_dataframe())\n",
    "#     units_df.append(nwb_io[i].units.to_dataframe().query(\"unit_quality == 'good'\").reset_index())\n",
    "    units_df[i]['ses_no'] = i+1\n",
    "    units_df[i]['Region'] = units_df[i].electrodes.apply(lambda x: ast.literal_eval(x.location.values[0])['brain_regions'])\n",
    "\n",
    "unit_result = pd.DataFrame()\n",
    "trial_result = pd.DataFrame()\n",
    "\n",
    "for i in range(len(nwb_files)):\n",
    "    trial_result = pd.concat([trial_result, trials_df[i]])\n",
    "    unit_result = pd.concat([unit_result, units_df[i]])\n",
    "\n",
    "unit_result.Region.unique()"
   ]
  },
  {
   "cell_type": "code",
   "execution_count": 4,
   "id": "99c1ccd3",
   "metadata": {},
   "outputs": [
    {
     "data": {
      "text/html": [
       "<div>\n",
       "<style scoped>\n",
       "    .dataframe tbody tr th:only-of-type {\n",
       "        vertical-align: middle;\n",
       "    }\n",
       "\n",
       "    .dataframe tbody tr th {\n",
       "        vertical-align: top;\n",
       "    }\n",
       "\n",
       "    .dataframe thead th {\n",
       "        text-align: right;\n",
       "    }\n",
       "</style>\n",
       "<table border=\"1\" class=\"dataframe\">\n",
       "  <thead>\n",
       "    <tr style=\"text-align: right;\">\n",
       "      <th></th>\n",
       "      <th>start_time</th>\n",
       "      <th>stop_time</th>\n",
       "      <th>photostim_onset</th>\n",
       "      <th>task_protocol</th>\n",
       "      <th>trial_instruction</th>\n",
       "      <th>early_lick</th>\n",
       "      <th>outcome</th>\n",
       "      <th>pre_start</th>\n",
       "      <th>pre_stop</th>\n",
       "      <th>sample_start</th>\n",
       "      <th>sample_stop</th>\n",
       "      <th>delay_start</th>\n",
       "      <th>delay_stop</th>\n",
       "      <th>go_start</th>\n",
       "      <th>go_stop</th>\n",
       "      <th>ses_no</th>\n",
       "    </tr>\n",
       "    <tr>\n",
       "      <th>id</th>\n",
       "      <th></th>\n",
       "      <th></th>\n",
       "      <th></th>\n",
       "      <th></th>\n",
       "      <th></th>\n",
       "      <th></th>\n",
       "      <th></th>\n",
       "      <th></th>\n",
       "      <th></th>\n",
       "      <th></th>\n",
       "      <th></th>\n",
       "      <th></th>\n",
       "      <th></th>\n",
       "      <th></th>\n",
       "      <th></th>\n",
       "      <th></th>\n",
       "    </tr>\n",
       "  </thead>\n",
       "  <tbody>\n",
       "    <tr>\n",
       "      <th>0</th>\n",
       "      <td>0.0000</td>\n",
       "      <td>5.1223</td>\n",
       "      <td>N/A</td>\n",
       "      <td>1</td>\n",
       "      <td>left</td>\n",
       "      <td>no early</td>\n",
       "      <td>hit</td>\n",
       "      <td>0.5000</td>\n",
       "      <td>0.5100</td>\n",
       "      <td>0.5100</td>\n",
       "      <td>1.9283</td>\n",
       "      <td>1.9283</td>\n",
       "      <td>3.1283</td>\n",
       "      <td>3.1283</td>\n",
       "      <td>3.1783</td>\n",
       "      <td>2</td>\n",
       "    </tr>\n",
       "    <tr>\n",
       "      <th>1</th>\n",
       "      <td>6.9136</td>\n",
       "      <td>11.7023</td>\n",
       "      <td>N/A</td>\n",
       "      <td>1</td>\n",
       "      <td>left</td>\n",
       "      <td>no early</td>\n",
       "      <td>hit</td>\n",
       "      <td>7.4136</td>\n",
       "      <td>7.4236</td>\n",
       "      <td>7.4236</td>\n",
       "      <td>8.7712</td>\n",
       "      <td>8.7712</td>\n",
       "      <td>9.9712</td>\n",
       "      <td>9.9712</td>\n",
       "      <td>10.0212</td>\n",
       "      <td>2</td>\n",
       "    </tr>\n",
       "    <tr>\n",
       "      <th>2</th>\n",
       "      <td>13.5671</td>\n",
       "      <td>18.3250</td>\n",
       "      <td>N/A</td>\n",
       "      <td>1</td>\n",
       "      <td>left</td>\n",
       "      <td>no early</td>\n",
       "      <td>hit</td>\n",
       "      <td>14.0671</td>\n",
       "      <td>14.0771</td>\n",
       "      <td>14.0771</td>\n",
       "      <td>15.4221</td>\n",
       "      <td>15.4221</td>\n",
       "      <td>16.6221</td>\n",
       "      <td>16.6221</td>\n",
       "      <td>16.6721</td>\n",
       "      <td>2</td>\n",
       "    </tr>\n",
       "    <tr>\n",
       "      <th>3</th>\n",
       "      <td>20.1132</td>\n",
       "      <td>25.0088</td>\n",
       "      <td>N/A</td>\n",
       "      <td>1</td>\n",
       "      <td>left</td>\n",
       "      <td>no early</td>\n",
       "      <td>hit</td>\n",
       "      <td>20.6132</td>\n",
       "      <td>20.6232</td>\n",
       "      <td>20.6232</td>\n",
       "      <td>22.0057</td>\n",
       "      <td>22.0057</td>\n",
       "      <td>23.2057</td>\n",
       "      <td>23.2057</td>\n",
       "      <td>23.2557</td>\n",
       "      <td>2</td>\n",
       "    </tr>\n",
       "    <tr>\n",
       "      <th>7</th>\n",
       "      <td>47.0590</td>\n",
       "      <td>51.9274</td>\n",
       "      <td>N/A</td>\n",
       "      <td>1</td>\n",
       "      <td>right</td>\n",
       "      <td>no early</td>\n",
       "      <td>hit</td>\n",
       "      <td>47.5590</td>\n",
       "      <td>47.5690</td>\n",
       "      <td>47.5690</td>\n",
       "      <td>49.0310</td>\n",
       "      <td>49.0310</td>\n",
       "      <td>50.2310</td>\n",
       "      <td>50.2310</td>\n",
       "      <td>50.2810</td>\n",
       "      <td>2</td>\n",
       "    </tr>\n",
       "    <tr>\n",
       "      <th>...</th>\n",
       "      <td>...</td>\n",
       "      <td>...</td>\n",
       "      <td>...</td>\n",
       "      <td>...</td>\n",
       "      <td>...</td>\n",
       "      <td>...</td>\n",
       "      <td>...</td>\n",
       "      <td>...</td>\n",
       "      <td>...</td>\n",
       "      <td>...</td>\n",
       "      <td>...</td>\n",
       "      <td>...</td>\n",
       "      <td>...</td>\n",
       "      <td>...</td>\n",
       "      <td>...</td>\n",
       "      <td>...</td>\n",
       "    </tr>\n",
       "    <tr>\n",
       "      <th>509</th>\n",
       "      <td>3616.2004</td>\n",
       "      <td>3621.0991</td>\n",
       "      <td>N/A</td>\n",
       "      <td>1</td>\n",
       "      <td>left</td>\n",
       "      <td>no early</td>\n",
       "      <td>hit</td>\n",
       "      <td>3616.7004</td>\n",
       "      <td>3616.7104</td>\n",
       "      <td>3616.7104</td>\n",
       "      <td>3618.0980</td>\n",
       "      <td>3618.0980</td>\n",
       "      <td>3619.2980</td>\n",
       "      <td>3619.2980</td>\n",
       "      <td>3619.3480</td>\n",
       "      <td>2</td>\n",
       "    </tr>\n",
       "    <tr>\n",
       "      <th>511</th>\n",
       "      <td>3633.1094</td>\n",
       "      <td>3637.9340</td>\n",
       "      <td>N/A</td>\n",
       "      <td>1</td>\n",
       "      <td>left</td>\n",
       "      <td>no early</td>\n",
       "      <td>hit</td>\n",
       "      <td>3633.6094</td>\n",
       "      <td>3633.6194</td>\n",
       "      <td>3633.6194</td>\n",
       "      <td>3635.0440</td>\n",
       "      <td>3635.0440</td>\n",
       "      <td>3636.2440</td>\n",
       "      <td>3636.2440</td>\n",
       "      <td>3636.2940</td>\n",
       "      <td>2</td>\n",
       "    </tr>\n",
       "    <tr>\n",
       "      <th>512</th>\n",
       "      <td>3640.2459</td>\n",
       "      <td>3645.0135</td>\n",
       "      <td>1.917</td>\n",
       "      <td>1</td>\n",
       "      <td>right</td>\n",
       "      <td>no early</td>\n",
       "      <td>hit</td>\n",
       "      <td>3640.7459</td>\n",
       "      <td>3640.7559</td>\n",
       "      <td>3640.7559</td>\n",
       "      <td>3642.1629</td>\n",
       "      <td>3642.1629</td>\n",
       "      <td>3643.3629</td>\n",
       "      <td>3643.3629</td>\n",
       "      <td>3643.4129</td>\n",
       "      <td>2</td>\n",
       "    </tr>\n",
       "    <tr>\n",
       "      <th>517</th>\n",
       "      <td>3678.6254</td>\n",
       "      <td>3683.5835</td>\n",
       "      <td>N/A</td>\n",
       "      <td>1</td>\n",
       "      <td>left</td>\n",
       "      <td>no early</td>\n",
       "      <td>hit</td>\n",
       "      <td>3679.1254</td>\n",
       "      <td>3679.1354</td>\n",
       "      <td>3679.1354</td>\n",
       "      <td>3680.6462</td>\n",
       "      <td>3680.6462</td>\n",
       "      <td>3681.8462</td>\n",
       "      <td>3681.8462</td>\n",
       "      <td>3681.8962</td>\n",
       "      <td>2</td>\n",
       "    </tr>\n",
       "    <tr>\n",
       "      <th>520</th>\n",
       "      <td>3700.6841</td>\n",
       "      <td>3705.6419</td>\n",
       "      <td>N/A</td>\n",
       "      <td>1</td>\n",
       "      <td>left</td>\n",
       "      <td>no early</td>\n",
       "      <td>hit</td>\n",
       "      <td>3701.1841</td>\n",
       "      <td>3701.1941</td>\n",
       "      <td>3701.1941</td>\n",
       "      <td>3702.6939</td>\n",
       "      <td>3702.6939</td>\n",
       "      <td>3703.8939</td>\n",
       "      <td>3703.8939</td>\n",
       "      <td>3703.9439</td>\n",
       "      <td>2</td>\n",
       "    </tr>\n",
       "  </tbody>\n",
       "</table>\n",
       "<p>242 rows × 16 columns</p>\n",
       "</div>"
      ],
      "text/plain": [
       "     start_time  stop_time photostim_onset  task_protocol trial_instruction  \\\n",
       "id                                                                            \n",
       "0        0.0000     5.1223             N/A              1              left   \n",
       "1        6.9136    11.7023             N/A              1              left   \n",
       "2       13.5671    18.3250             N/A              1              left   \n",
       "3       20.1132    25.0088             N/A              1              left   \n",
       "7       47.0590    51.9274             N/A              1             right   \n",
       "..          ...        ...             ...            ...               ...   \n",
       "509   3616.2004  3621.0991             N/A              1              left   \n",
       "511   3633.1094  3637.9340             N/A              1              left   \n",
       "512   3640.2459  3645.0135           1.917              1             right   \n",
       "517   3678.6254  3683.5835             N/A              1              left   \n",
       "520   3700.6841  3705.6419             N/A              1              left   \n",
       "\n",
       "    early_lick outcome  pre_start   pre_stop  sample_start  sample_stop  \\\n",
       "id                                                                        \n",
       "0     no early     hit     0.5000     0.5100        0.5100       1.9283   \n",
       "1     no early     hit     7.4136     7.4236        7.4236       8.7712   \n",
       "2     no early     hit    14.0671    14.0771       14.0771      15.4221   \n",
       "3     no early     hit    20.6132    20.6232       20.6232      22.0057   \n",
       "7     no early     hit    47.5590    47.5690       47.5690      49.0310   \n",
       "..         ...     ...        ...        ...           ...          ...   \n",
       "509   no early     hit  3616.7004  3616.7104     3616.7104    3618.0980   \n",
       "511   no early     hit  3633.6094  3633.6194     3633.6194    3635.0440   \n",
       "512   no early     hit  3640.7459  3640.7559     3640.7559    3642.1629   \n",
       "517   no early     hit  3679.1254  3679.1354     3679.1354    3680.6462   \n",
       "520   no early     hit  3701.1841  3701.1941     3701.1941    3702.6939   \n",
       "\n",
       "     delay_start  delay_stop   go_start    go_stop  ses_no  \n",
       "id                                                          \n",
       "0         1.9283      3.1283     3.1283     3.1783       2  \n",
       "1         8.7712      9.9712     9.9712    10.0212       2  \n",
       "2        15.4221     16.6221    16.6221    16.6721       2  \n",
       "3        22.0057     23.2057    23.2057    23.2557       2  \n",
       "7        49.0310     50.2310    50.2310    50.2810       2  \n",
       "..           ...         ...        ...        ...     ...  \n",
       "509    3618.0980   3619.2980  3619.2980  3619.3480       2  \n",
       "511    3635.0440   3636.2440  3636.2440  3636.2940       2  \n",
       "512    3642.1629   3643.3629  3643.3629  3643.4129       2  \n",
       "517    3680.6462   3681.8462  3681.8462  3681.8962       2  \n",
       "520    3702.6939   3703.8939  3703.8939  3703.9439       2  \n",
       "\n",
       "[242 rows x 16 columns]"
      ]
     },
     "execution_count": 4,
     "metadata": {},
     "output_type": "execute_result"
    }
   ],
   "source": [
    "trials_Data = trial_result.query(\"outcome == 'hit' \")  #photostim_onset == 'N/A' and \n",
    "trials_Data_L = trials_Data.query(\"early_lick == 'no early' \")\n",
    "trials_Data_L = trials_Data_L.query(\" ses_no == 2 \")\n",
    "trials_Data_L\n",
    "\n",
    "# ADDITIONAL QUERIES\n",
    "# trials_Data = trials_Data.query(\" (delay_stop - delay_start) > 1 and (delay_stop - delay_start) < 1.3\")\n",
    "# trials_Data = trials_Data.query(\" (stop_time - start_time) < 5.3\")\n",
    "# trials_Data[ trials_Data['trial_instruction'] == 'left'].reset_index().query(\" ses_no == 2 \")"
   ]
  },
  {
   "cell_type": "code",
   "execution_count": 20,
   "id": "5e318bad",
   "metadata": {},
   "outputs": [
    {
     "data": {
      "text/html": [
       "<div>\n",
       "<style scoped>\n",
       "    .dataframe tbody tr th:only-of-type {\n",
       "        vertical-align: middle;\n",
       "    }\n",
       "\n",
       "    .dataframe tbody tr th {\n",
       "        vertical-align: top;\n",
       "    }\n",
       "\n",
       "    .dataframe thead th {\n",
       "        text-align: right;\n",
       "    }\n",
       "</style>\n",
       "<table border=\"1\" class=\"dataframe\">\n",
       "  <thead>\n",
       "    <tr style=\"text-align: right;\">\n",
       "      <th></th>\n",
       "      <th>unit</th>\n",
       "      <th>sampling_rate</th>\n",
       "      <th>unit_quality</th>\n",
       "      <th>unit_posx</th>\n",
       "      <th>unit_posy</th>\n",
       "      <th>unit_amp</th>\n",
       "      <th>unit_snr</th>\n",
       "      <th>isi_violation</th>\n",
       "      <th>avg_firing_rate</th>\n",
       "      <th>drift_metric</th>\n",
       "      <th>...</th>\n",
       "      <th>anno_name</th>\n",
       "      <th>is_good_trials</th>\n",
       "      <th>spike_times</th>\n",
       "      <th>obs_intervals</th>\n",
       "      <th>electrodes</th>\n",
       "      <th>electrode_group</th>\n",
       "      <th>waveform_mean</th>\n",
       "      <th>waveform_sd</th>\n",
       "      <th>ses_no</th>\n",
       "      <th>Region</th>\n",
       "    </tr>\n",
       "    <tr>\n",
       "      <th>id</th>\n",
       "      <th></th>\n",
       "      <th></th>\n",
       "      <th></th>\n",
       "      <th></th>\n",
       "      <th></th>\n",
       "      <th></th>\n",
       "      <th></th>\n",
       "      <th></th>\n",
       "      <th></th>\n",
       "      <th></th>\n",
       "      <th></th>\n",
       "      <th></th>\n",
       "      <th></th>\n",
       "      <th></th>\n",
       "      <th></th>\n",
       "      <th></th>\n",
       "      <th></th>\n",
       "      <th></th>\n",
       "      <th></th>\n",
       "      <th></th>\n",
       "      <th></th>\n",
       "    </tr>\n",
       "  </thead>\n",
       "  <tbody>\n",
       "    <tr>\n",
       "      <th>0</th>\n",
       "      <td>0</td>\n",
       "      <td>30000</td>\n",
       "      <td>good</td>\n",
       "      <td>27.0</td>\n",
       "      <td>120.0</td>\n",
       "      <td>79.973083</td>\n",
       "      <td>3.839977</td>\n",
       "      <td>0.127551</td>\n",
       "      <td>4.577090</td>\n",
       "      <td>0.850966</td>\n",
       "      <td>...</td>\n",
       "      <td></td>\n",
       "      <td>[True, True, True, True, True, True, True, Tru...</td>\n",
       "      <td>[0.7801871832175418, 1.062222055991222, 1.6876...</td>\n",
       "      <td>[[0.0, 5.1223], [6.9136, 11.7023], [13.5671, 1...</td>\n",
       "      <td>l...</td>\n",
       "      <td>17216703352 1-301 pynwb.ecephys.ElectrodeGroup...</td>\n",
       "      <td>[0.3791360294117647, 0.07878151260504201, 0.28...</td>\n",
       "      <td>[nan]</td>\n",
       "      <td>2</td>\n",
       "      <td>left ALM</td>\n",
       "    </tr>\n",
       "    <tr>\n",
       "      <th>1</th>\n",
       "      <td>1</td>\n",
       "      <td>30000</td>\n",
       "      <td>good</td>\n",
       "      <td>59.0</td>\n",
       "      <td>120.0</td>\n",
       "      <td>133.676258</td>\n",
       "      <td>4.844900</td>\n",
       "      <td>1.000000</td>\n",
       "      <td>2.427770</td>\n",
       "      <td>0.313590</td>\n",
       "      <td>...</td>\n",
       "      <td></td>\n",
       "      <td>[True, True, True, True, True, True, True, Tru...</td>\n",
       "      <td>[11.048305879202925, 17.53857166907453, 17.598...</td>\n",
       "      <td>[[0.0, 5.1223], [6.9136, 11.7023], [13.5671, 1...</td>\n",
       "      <td>l...</td>\n",
       "      <td>17216703352 1-301 pynwb.ecephys.ElectrodeGroup...</td>\n",
       "      <td>[1.4335808580858085, 0.7915635313531353, 0.363...</td>\n",
       "      <td>[nan]</td>\n",
       "      <td>2</td>\n",
       "      <td>left ALM</td>\n",
       "    </tr>\n",
       "    <tr>\n",
       "      <th>2</th>\n",
       "      <td>2</td>\n",
       "      <td>30000</td>\n",
       "      <td>multi</td>\n",
       "      <td>27.0</td>\n",
       "      <td>160.0</td>\n",
       "      <td>98.935309</td>\n",
       "      <td>3.525485</td>\n",
       "      <td>0.261468</td>\n",
       "      <td>7.622420</td>\n",
       "      <td>0.590999</td>\n",
       "      <td>...</td>\n",
       "      <td></td>\n",
       "      <td>[True, True, True, True, True, True, True, Tru...</td>\n",
       "      <td>[0.09491677611656968, 0.16195047534217766, 0.3...</td>\n",
       "      <td>[[0.0, 5.1223], [6.9136, 11.7023], [13.5671, 1...</td>\n",
       "      <td>l...</td>\n",
       "      <td>17216703352 1-301 pynwb.ecephys.ElectrodeGroup...</td>\n",
       "      <td>[-0.48589939024390244, -0.37633384146341464, -...</td>\n",
       "      <td>[nan]</td>\n",
       "      <td>2</td>\n",
       "      <td>left ALM</td>\n",
       "    </tr>\n",
       "    <tr>\n",
       "      <th>3</th>\n",
       "      <td>3</td>\n",
       "      <td>30000</td>\n",
       "      <td>good</td>\n",
       "      <td>43.0</td>\n",
       "      <td>180.0</td>\n",
       "      <td>96.232888</td>\n",
       "      <td>3.391361</td>\n",
       "      <td>0.001715</td>\n",
       "      <td>6.522770</td>\n",
       "      <td>0.554765</td>\n",
       "      <td>...</td>\n",
       "      <td></td>\n",
       "      <td>[True, True, True, True, True, True, True, Tru...</td>\n",
       "      <td>[1.160889261216384, 2.781531440554946, 3.19526...</td>\n",
       "      <td>[[0.0, 5.1223], [6.9136, 11.7023], [13.5671, 1...</td>\n",
       "      <td>l...</td>\n",
       "      <td>17216703352 1-301 pynwb.ecephys.ElectrodeGroup...</td>\n",
       "      <td>[-1.6336681166837257, -2.0031026100307066, -1....</td>\n",
       "      <td>[nan]</td>\n",
       "      <td>2</td>\n",
       "      <td>left ALM</td>\n",
       "    </tr>\n",
       "    <tr>\n",
       "      <th>4</th>\n",
       "      <td>4</td>\n",
       "      <td>30000</td>\n",
       "      <td>good</td>\n",
       "      <td>27.0</td>\n",
       "      <td>200.0</td>\n",
       "      <td>92.239949</td>\n",
       "      <td>3.515121</td>\n",
       "      <td>0.021369</td>\n",
       "      <td>16.798500</td>\n",
       "      <td>0.296667</td>\n",
       "      <td>...</td>\n",
       "      <td></td>\n",
       "      <td>[True, True, True, True, True, True, True, Tru...</td>\n",
       "      <td>[0.027449741192337118, 0.04358316258726225, 0....</td>\n",
       "      <td>[[0.0, 5.1223], [6.9136, 11.7023], [13.5671, 1...</td>\n",
       "      <td>l...</td>\n",
       "      <td>17216703352 1-301 pynwb.ecephys.ElectrodeGroup...</td>\n",
       "      <td>[0.3945390781563127, -0.030529809619238478, 0....</td>\n",
       "      <td>[nan]</td>\n",
       "      <td>2</td>\n",
       "      <td>left ALM</td>\n",
       "    </tr>\n",
       "    <tr>\n",
       "      <th>...</th>\n",
       "      <td>...</td>\n",
       "      <td>...</td>\n",
       "      <td>...</td>\n",
       "      <td>...</td>\n",
       "      <td>...</td>\n",
       "      <td>...</td>\n",
       "      <td>...</td>\n",
       "      <td>...</td>\n",
       "      <td>...</td>\n",
       "      <td>...</td>\n",
       "      <td>...</td>\n",
       "      <td>...</td>\n",
       "      <td>...</td>\n",
       "      <td>...</td>\n",
       "      <td>...</td>\n",
       "      <td>...</td>\n",
       "      <td>...</td>\n",
       "      <td>...</td>\n",
       "      <td>...</td>\n",
       "      <td>...</td>\n",
       "      <td>...</td>\n",
       "    </tr>\n",
       "    <tr>\n",
       "      <th>180</th>\n",
       "      <td>183</td>\n",
       "      <td>30000</td>\n",
       "      <td>multi</td>\n",
       "      <td>59.0</td>\n",
       "      <td>2080.0</td>\n",
       "      <td>66.387195</td>\n",
       "      <td>2.532532</td>\n",
       "      <td>0.209699</td>\n",
       "      <td>2.890070</td>\n",
       "      <td>0.397529</td>\n",
       "      <td>...</td>\n",
       "      <td></td>\n",
       "      <td>[True, True, True, True, True, True, True, Tru...</td>\n",
       "      <td>[0.015116340539191864, 0.028983082895160717, 0...</td>\n",
       "      <td>[[0.0, 5.1223], [6.9136, 11.7023], [13.5671, 1...</td>\n",
       "      <td>...</td>\n",
       "      <td>17216703352 1-301 pynwb.ecephys.ElectrodeGroup...</td>\n",
       "      <td>[2.7843940548780486, 3.0130525914634148, 2.458...</td>\n",
       "      <td>[nan]</td>\n",
       "      <td>2</td>\n",
       "      <td>left ALM</td>\n",
       "    </tr>\n",
       "    <tr>\n",
       "      <th>181</th>\n",
       "      <td>184</td>\n",
       "      <td>30000</td>\n",
       "      <td>multi</td>\n",
       "      <td>59.0</td>\n",
       "      <td>2080.0</td>\n",
       "      <td>113.495662</td>\n",
       "      <td>4.330282</td>\n",
       "      <td>0.202085</td>\n",
       "      <td>1.778400</td>\n",
       "      <td>0.361503</td>\n",
       "      <td>...</td>\n",
       "      <td>Frontal pole, layer 5</td>\n",
       "      <td>[True, True, True, True, True, True, True, Tru...</td>\n",
       "      <td>[0.017749688246214923, 1.3704570717740165, 1.6...</td>\n",
       "      <td>[[0.0, 5.1223], [6.9136, 11.7023], [13.5671, 1...</td>\n",
       "      <td>...</td>\n",
       "      <td>17216703352 1-301 pynwb.ecephys.ElectrodeGroup...</td>\n",
       "      <td>[6.030658517350157, 5.133576498422713, 3.68197...</td>\n",
       "      <td>[nan]</td>\n",
       "      <td>2</td>\n",
       "      <td>left ALM</td>\n",
       "    </tr>\n",
       "    <tr>\n",
       "      <th>182</th>\n",
       "      <td>185</td>\n",
       "      <td>30000</td>\n",
       "      <td>good</td>\n",
       "      <td>43.0</td>\n",
       "      <td>2180.0</td>\n",
       "      <td>90.684912</td>\n",
       "      <td>3.698110</td>\n",
       "      <td>0.000000</td>\n",
       "      <td>1.045400</td>\n",
       "      <td>0.470359</td>\n",
       "      <td>...</td>\n",
       "      <td>Frontal pole, layer 5</td>\n",
       "      <td>[True, True, True, True, True, True, True, Tru...</td>\n",
       "      <td>[44.571768159347045, 54.24238618870378, 54.628...</td>\n",
       "      <td>[[0.0, 5.1223], [6.9136, 11.7023], [13.5671, 1...</td>\n",
       "      <td>...</td>\n",
       "      <td>17216703352 1-301 pynwb.ecephys.ElectrodeGroup...</td>\n",
       "      <td>[3.4676955521472395, 3.5515720858895707, 2.777...</td>\n",
       "      <td>[nan]</td>\n",
       "      <td>2</td>\n",
       "      <td>left ALM</td>\n",
       "    </tr>\n",
       "    <tr>\n",
       "      <th>183</th>\n",
       "      <td>186</td>\n",
       "      <td>30000</td>\n",
       "      <td>multi</td>\n",
       "      <td>43.0</td>\n",
       "      <td>2420.0</td>\n",
       "      <td>42.424751</td>\n",
       "      <td>1.807393</td>\n",
       "      <td>0.000000</td>\n",
       "      <td>0.087116</td>\n",
       "      <td>0.077346</td>\n",
       "      <td>...</td>\n",
       "      <td></td>\n",
       "      <td>[True, True, True, True, True, True, True, Tru...</td>\n",
       "      <td>[10.36200213312831, 10.417435769036906, 16.045...</td>\n",
       "      <td>[[0.0, 5.1223], [6.9136, 11.7023], [13.5671, 1...</td>\n",
       "      <td>...</td>\n",
       "      <td>17216703352 1-301 pynwb.ecephys.ElectrodeGroup...</td>\n",
       "      <td>[2.408454754601227, 2.7032208588957056, 2.3581...</td>\n",
       "      <td>[nan]</td>\n",
       "      <td>2</td>\n",
       "      <td>left ALM</td>\n",
       "    </tr>\n",
       "    <tr>\n",
       "      <th>184</th>\n",
       "      <td>187</td>\n",
       "      <td>30000</td>\n",
       "      <td>good</td>\n",
       "      <td>11.0</td>\n",
       "      <td>2740.0</td>\n",
       "      <td>57.729945</td>\n",
       "      <td>4.469136</td>\n",
       "      <td>1.000000</td>\n",
       "      <td>0.207369</td>\n",
       "      <td>0.083524</td>\n",
       "      <td>...</td>\n",
       "      <td></td>\n",
       "      <td>[True, True, True, True, True, True, True, Tru...</td>\n",
       "      <td>[17.265303510819162, 37.779634718302006, 37.84...</td>\n",
       "      <td>[[0.0, 5.1223], [6.9136, 11.7023], [13.5671, 1...</td>\n",
       "      <td>...</td>\n",
       "      <td>17216703352 1-301 pynwb.ecephys.ElectrodeGroup...</td>\n",
       "      <td>[1.0601240335051547, 1.1688547036082475, 0.839...</td>\n",
       "      <td>[nan]</td>\n",
       "      <td>2</td>\n",
       "      <td>left ALM</td>\n",
       "    </tr>\n",
       "  </tbody>\n",
       "</table>\n",
       "<p>185 rows × 41 columns</p>\n",
       "</div>"
      ],
      "text/plain": [
       "     unit  sampling_rate unit_quality  unit_posx  unit_posy    unit_amp  \\\n",
       "id                                                                        \n",
       "0       0          30000         good       27.0      120.0   79.973083   \n",
       "1       1          30000         good       59.0      120.0  133.676258   \n",
       "2       2          30000        multi       27.0      160.0   98.935309   \n",
       "3       3          30000         good       43.0      180.0   96.232888   \n",
       "4       4          30000         good       27.0      200.0   92.239949   \n",
       "..    ...            ...          ...        ...        ...         ...   \n",
       "180   183          30000        multi       59.0     2080.0   66.387195   \n",
       "181   184          30000        multi       59.0     2080.0  113.495662   \n",
       "182   185          30000         good       43.0     2180.0   90.684912   \n",
       "183   186          30000        multi       43.0     2420.0   42.424751   \n",
       "184   187          30000         good       11.0     2740.0   57.729945   \n",
       "\n",
       "     unit_snr  isi_violation  avg_firing_rate  drift_metric  ...  \\\n",
       "id                                                           ...   \n",
       "0    3.839977       0.127551         4.577090      0.850966  ...   \n",
       "1    4.844900       1.000000         2.427770      0.313590  ...   \n",
       "2    3.525485       0.261468         7.622420      0.590999  ...   \n",
       "3    3.391361       0.001715         6.522770      0.554765  ...   \n",
       "4    3.515121       0.021369        16.798500      0.296667  ...   \n",
       "..        ...            ...              ...           ...  ...   \n",
       "180  2.532532       0.209699         2.890070      0.397529  ...   \n",
       "181  4.330282       0.202085         1.778400      0.361503  ...   \n",
       "182  3.698110       0.000000         1.045400      0.470359  ...   \n",
       "183  1.807393       0.000000         0.087116      0.077346  ...   \n",
       "184  4.469136       1.000000         0.207369      0.083524  ...   \n",
       "\n",
       "                 anno_name                                     is_good_trials  \\\n",
       "id                                                                              \n",
       "0                           [True, True, True, True, True, True, True, Tru...   \n",
       "1                           [True, True, True, True, True, True, True, Tru...   \n",
       "2                           [True, True, True, True, True, True, True, Tru...   \n",
       "3                           [True, True, True, True, True, True, True, Tru...   \n",
       "4                           [True, True, True, True, True, True, True, Tru...   \n",
       "..                     ...                                                ...   \n",
       "180                         [True, True, True, True, True, True, True, Tru...   \n",
       "181  Frontal pole, layer 5  [True, True, True, True, True, True, True, Tru...   \n",
       "182  Frontal pole, layer 5  [True, True, True, True, True, True, True, Tru...   \n",
       "183                         [True, True, True, True, True, True, True, Tru...   \n",
       "184                         [True, True, True, True, True, True, True, Tru...   \n",
       "\n",
       "                                           spike_times  \\\n",
       "id                                                       \n",
       "0    [0.7801871832175418, 1.062222055991222, 1.6876...   \n",
       "1    [11.048305879202925, 17.53857166907453, 17.598...   \n",
       "2    [0.09491677611656968, 0.16195047534217766, 0.3...   \n",
       "3    [1.160889261216384, 2.781531440554946, 3.19526...   \n",
       "4    [0.027449741192337118, 0.04358316258726225, 0....   \n",
       "..                                                 ...   \n",
       "180  [0.015116340539191864, 0.028983082895160717, 0...   \n",
       "181  [0.017749688246214923, 1.3704570717740165, 1.6...   \n",
       "182  [44.571768159347045, 54.24238618870378, 54.628...   \n",
       "183  [10.36200213312831, 10.417435769036906, 16.045...   \n",
       "184  [17.265303510819162, 37.779634718302006, 37.84...   \n",
       "\n",
       "                                         obs_intervals  \\\n",
       "id                                                       \n",
       "0    [[0.0, 5.1223], [6.9136, 11.7023], [13.5671, 1...   \n",
       "1    [[0.0, 5.1223], [6.9136, 11.7023], [13.5671, 1...   \n",
       "2    [[0.0, 5.1223], [6.9136, 11.7023], [13.5671, 1...   \n",
       "3    [[0.0, 5.1223], [6.9136, 11.7023], [13.5671, 1...   \n",
       "4    [[0.0, 5.1223], [6.9136, 11.7023], [13.5671, 1...   \n",
       "..                                                 ...   \n",
       "180  [[0.0, 5.1223], [6.9136, 11.7023], [13.5671, 1...   \n",
       "181  [[0.0, 5.1223], [6.9136, 11.7023], [13.5671, 1...   \n",
       "182  [[0.0, 5.1223], [6.9136, 11.7023], [13.5671, 1...   \n",
       "183  [[0.0, 5.1223], [6.9136, 11.7023], [13.5671, 1...   \n",
       "184  [[0.0, 5.1223], [6.9136, 11.7023], [13.5671, 1...   \n",
       "\n",
       "                                            electrodes  \\\n",
       "id                                                       \n",
       "0                                                 l...   \n",
       "1                                                 l...   \n",
       "2                                                 l...   \n",
       "3                                                 l...   \n",
       "4                                                 l...   \n",
       "..                                                 ...   \n",
       "180                                                ...   \n",
       "181                                                ...   \n",
       "182                                                ...   \n",
       "183                                                ...   \n",
       "184                                                ...   \n",
       "\n",
       "                                       electrode_group  \\\n",
       "id                                                       \n",
       "0    17216703352 1-301 pynwb.ecephys.ElectrodeGroup...   \n",
       "1    17216703352 1-301 pynwb.ecephys.ElectrodeGroup...   \n",
       "2    17216703352 1-301 pynwb.ecephys.ElectrodeGroup...   \n",
       "3    17216703352 1-301 pynwb.ecephys.ElectrodeGroup...   \n",
       "4    17216703352 1-301 pynwb.ecephys.ElectrodeGroup...   \n",
       "..                                                 ...   \n",
       "180  17216703352 1-301 pynwb.ecephys.ElectrodeGroup...   \n",
       "181  17216703352 1-301 pynwb.ecephys.ElectrodeGroup...   \n",
       "182  17216703352 1-301 pynwb.ecephys.ElectrodeGroup...   \n",
       "183  17216703352 1-301 pynwb.ecephys.ElectrodeGroup...   \n",
       "184  17216703352 1-301 pynwb.ecephys.ElectrodeGroup...   \n",
       "\n",
       "                                         waveform_mean  waveform_sd  ses_no  \\\n",
       "id                                                                            \n",
       "0    [0.3791360294117647, 0.07878151260504201, 0.28...        [nan]       2   \n",
       "1    [1.4335808580858085, 0.7915635313531353, 0.363...        [nan]       2   \n",
       "2    [-0.48589939024390244, -0.37633384146341464, -...        [nan]       2   \n",
       "3    [-1.6336681166837257, -2.0031026100307066, -1....        [nan]       2   \n",
       "4    [0.3945390781563127, -0.030529809619238478, 0....        [nan]       2   \n",
       "..                                                 ...          ...     ...   \n",
       "180  [2.7843940548780486, 3.0130525914634148, 2.458...        [nan]       2   \n",
       "181  [6.030658517350157, 5.133576498422713, 3.68197...        [nan]       2   \n",
       "182  [3.4676955521472395, 3.5515720858895707, 2.777...        [nan]       2   \n",
       "183  [2.408454754601227, 2.7032208588957056, 2.3581...        [nan]       2   \n",
       "184  [1.0601240335051547, 1.1688547036082475, 0.839...        [nan]       2   \n",
       "\n",
       "       Region  \n",
       "id             \n",
       "0    left ALM  \n",
       "1    left ALM  \n",
       "2    left ALM  \n",
       "3    left ALM  \n",
       "4    left ALM  \n",
       "..        ...  \n",
       "180  left ALM  \n",
       "181  left ALM  \n",
       "182  left ALM  \n",
       "183  left ALM  \n",
       "184  left ALM  \n",
       "\n",
       "[185 rows x 41 columns]"
      ]
     },
     "execution_count": 20,
     "metadata": {},
     "output_type": "execute_result"
    }
   ],
   "source": [
    "unit_result.query(\" Region == 'left ALM' and ses_no == 2\")"
   ]
  },
  {
   "cell_type": "code",
   "execution_count": 21,
   "id": "6eff5db3",
   "metadata": {},
   "outputs": [
    {
     "data": {
      "text/plain": [
       "left Thalamus    773\n",
       "left Midbrain    397\n",
       "left ALM         396\n",
       "Name: Region, dtype: int64"
      ]
     },
     "execution_count": 21,
     "metadata": {},
     "output_type": "execute_result"
    }
   ],
   "source": [
    "unit_result.Region.value_counts()"
   ]
  },
  {
   "cell_type": "code",
   "execution_count": 22,
   "id": "9e3ab668",
   "metadata": {},
   "outputs": [],
   "source": [
    "def plot_smooth_gauss(spike_data,sigma,color,dataset):\n",
    "    hist, edges = np.histogram(np.hstack(spike_data), bins=(np.arange(1001)/200) - 1)\n",
    "    freq = (hist/len(dataset))*200\n",
    "    width = np.diff(edges)\n",
    "    smooth_gauss = []\n",
    "\n",
    "    for i in edges[1:]:\n",
    "        gauss = np.exp((- ( edges[1:] - i) ** 2) / ( 2 * (sigma**2) ) )\n",
    "        gauss /=  sum(gauss)\n",
    "        smooth_gauss.append(sum(gauss*freq))\n",
    "    plt.plot(edges[1:],smooth_gauss,color=color)\n",
    "    \n",
    "def return_smooth_gauss(spike_data,sigma,dataset):\n",
    "    hist, edges = np.histogram(np.hstack(spike_data), bins=(np.arange(1001)/200) - 1)\n",
    "    freq = (hist/len(dataset))*200\n",
    "    width = np.diff(edges)\n",
    "    smooth_gauss = []\n",
    "\n",
    "    for i in edges[1:]:\n",
    "        gauss = np.exp((- ( edges[1:] - i) ** 2) / ( 2 * (sigma**2) ) )\n",
    "        gauss /=  sum(gauss)\n",
    "        smooth_gauss.append(sum(gauss*freq))\n",
    "    \n",
    "    return freq,edges[1:],smooth_gauss"
   ]
  },
  {
   "cell_type": "markdown",
   "id": "329bb4ff",
   "metadata": {},
   "source": [
    "# Getting CCF locs and checking Overlapping with MAT files"
   ]
  },
  {
   "cell_type": "code",
   "execution_count": 23,
   "id": "230cbda4",
   "metadata": {},
   "outputs": [],
   "source": [
    "units_Data = unit_result.query(\" Region == 'left Thalamus' and ses_no == 2\")\n",
    "\n",
    "def get_ccf(unit_number):\n",
    "    x = float(units_Data.electrodes[unit_number].reset_index().x.values)\n",
    "    y = float(units_Data.electrodes[unit_number].reset_index().y.values)\n",
    "    z = float(units_Data.electrodes[unit_number].reset_index().z.values)\n",
    "    return x, y, z"
   ]
  },
  {
   "cell_type": "code",
   "execution_count": 24,
   "id": "f3f03abd",
   "metadata": {},
   "outputs": [],
   "source": [
    "x,y,z=[],[],[]\n",
    "for i in list(units_Data.electrodes.reset_index().iloc[:,0]):\n",
    "    try:\n",
    "        x_ccf, y_ccf, z_ccf = get_ccf(i)\n",
    "        x.append(x_ccf)\n",
    "        y.append(y_ccf)\n",
    "        z.append(z_ccf)\n",
    "\n",
    "    except Exception as err:\n",
    "        pass"
   ]
  },
  {
   "cell_type": "code",
   "execution_count": 25,
   "id": "f34dff6f",
   "metadata": {},
   "outputs": [],
   "source": [
    "ccf_x = np.array(y)\n",
    "ccf_y = np.array(x)\n",
    "ccf_z = np.array(z)"
   ]
  },
  {
   "cell_type": "code",
   "execution_count": null,
   "id": "e8b6fcb7",
   "metadata": {},
   "outputs": [],
   "source": [
    "voxel_rd = 50\n",
    "\n",
    "r, c, v = np.where(vox >= 0.3)  #vox: First axis: dorsal-ventral, second axis: medial-lateral, third axis: anterior-posterior\n",
    "r = r * 20\n",
    "c = c * 20\n",
    "v = v * 20\n",
    "\n",
    "dorsal = np.where(ccf_y < 8000)[0]\n",
    "frontal = np.where(ccf_z < 8000)[0]\n",
    "frontal = np.intersect1d(dorsal, frontal)\n",
    "\n",
    "Thalidx = []\n",
    "for u in range(len(frontal)):\n",
    "    for thal in range(len(c)):\n",
    "        idx = frontal[u]\n",
    "        if ccf_x[idx] >= r[thal] - voxel_rd and ccf_x[idx] < r[thal] + voxel_rd and ccf_y[idx] >= c[thal] - voxel_rd and ccf_y[idx] < c[thal] + voxel_rd and ccf_z[idx] >= v[thal] - voxel_rd and ccf_z[idx] < v[thal] + voxel_rd:\n",
    "            Thalidx.append(idx)\n",
    "            break"
   ]
  },
  {
   "cell_type": "code",
   "execution_count": null,
   "id": "1d8dd298",
   "metadata": {},
   "outputs": [],
   "source": [
    "len(Thalidx),len(r),len(dorsal),len(ccf_x) #129 @0.1 #44 @ 0.2 #35 @0.3 #0 @0.5"
   ]
  },
  {
   "cell_type": "code",
   "execution_count": 15,
   "id": "1bbb5f80",
   "metadata": {},
   "outputs": [
    {
     "ename": "KeyError",
     "evalue": "'index'",
     "output_type": "error",
     "traceback": [
      "\u001b[1;31m---------------------------------------------------------------------------\u001b[0m",
      "\u001b[1;31mKeyError\u001b[0m                                  Traceback (most recent call last)",
      "\u001b[1;32mG:\\Anaconda\\lib\\site-packages\\pandas\\core\\indexes\\base.py\u001b[0m in \u001b[0;36mget_loc\u001b[1;34m(self, key, method, tolerance)\u001b[0m\n\u001b[0;32m   3360\u001b[0m             \u001b[1;32mtry\u001b[0m\u001b[1;33m:\u001b[0m\u001b[1;33m\u001b[0m\u001b[1;33m\u001b[0m\u001b[0m\n\u001b[1;32m-> 3361\u001b[1;33m                 \u001b[1;32mreturn\u001b[0m \u001b[0mself\u001b[0m\u001b[1;33m.\u001b[0m\u001b[0m_engine\u001b[0m\u001b[1;33m.\u001b[0m\u001b[0mget_loc\u001b[0m\u001b[1;33m(\u001b[0m\u001b[0mcasted_key\u001b[0m\u001b[1;33m)\u001b[0m\u001b[1;33m\u001b[0m\u001b[1;33m\u001b[0m\u001b[0m\n\u001b[0m\u001b[0;32m   3362\u001b[0m             \u001b[1;32mexcept\u001b[0m \u001b[0mKeyError\u001b[0m \u001b[1;32mas\u001b[0m \u001b[0merr\u001b[0m\u001b[1;33m:\u001b[0m\u001b[1;33m\u001b[0m\u001b[1;33m\u001b[0m\u001b[0m\n",
      "\u001b[1;32mG:\\Anaconda\\lib\\site-packages\\pandas\\_libs\\index.pyx\u001b[0m in \u001b[0;36mpandas._libs.index.IndexEngine.get_loc\u001b[1;34m()\u001b[0m\n",
      "\u001b[1;32mG:\\Anaconda\\lib\\site-packages\\pandas\\_libs\\index.pyx\u001b[0m in \u001b[0;36mpandas._libs.index.IndexEngine.get_loc\u001b[1;34m()\u001b[0m\n",
      "\u001b[1;32mpandas\\_libs\\hashtable_class_helper.pxi\u001b[0m in \u001b[0;36mpandas._libs.hashtable.PyObjectHashTable.get_item\u001b[1;34m()\u001b[0m\n",
      "\u001b[1;32mpandas\\_libs\\hashtable_class_helper.pxi\u001b[0m in \u001b[0;36mpandas._libs.hashtable.PyObjectHashTable.get_item\u001b[1;34m()\u001b[0m\n",
      "\u001b[1;31mKeyError\u001b[0m: 'index'",
      "\nThe above exception was the direct cause of the following exception:\n",
      "\u001b[1;31mKeyError\u001b[0m                                  Traceback (most recent call last)",
      "\u001b[1;32m~\\AppData\\Local\\Temp/ipykernel_548/2210679063.py\u001b[0m in \u001b[0;36m<module>\u001b[1;34m\u001b[0m\n\u001b[0;32m      2\u001b[0m \u001b[1;33m\u001b[0m\u001b[0m\n\u001b[0;32m      3\u001b[0m \u001b[0munits_Data\u001b[0m \u001b[1;33m=\u001b[0m \u001b[0munit_result\u001b[0m\u001b[1;33m.\u001b[0m\u001b[0mquery\u001b[0m\u001b[1;33m(\u001b[0m\u001b[1;34m\" Region == 'left ALM'  and ses_no == 1\"\u001b[0m\u001b[1;33m)\u001b[0m\u001b[1;33m\u001b[0m\u001b[1;33m\u001b[0m\u001b[0m\n\u001b[1;32m----> 4\u001b[1;33m \u001b[1;32mfor\u001b[0m \u001b[0mi\u001b[0m \u001b[1;32min\u001b[0m \u001b[0mlist\u001b[0m\u001b[1;33m(\u001b[0m\u001b[0munits_Data\u001b[0m\u001b[1;33m.\u001b[0m\u001b[0melectrodes\u001b[0m\u001b[1;33m.\u001b[0m\u001b[0mreset_index\u001b[0m\u001b[1;33m(\u001b[0m\u001b[1;33m)\u001b[0m\u001b[1;33m[\u001b[0m\u001b[1;34m'index'\u001b[0m\u001b[1;33m]\u001b[0m\u001b[1;33m[\u001b[0m\u001b[1;33m:\u001b[0m\u001b[1;33m]\u001b[0m\u001b[1;33m)\u001b[0m\u001b[1;33m:\u001b[0m\u001b[1;33m\u001b[0m\u001b[1;33m\u001b[0m\u001b[0m\n\u001b[0m\u001b[0;32m      5\u001b[0m     \u001b[1;32mtry\u001b[0m\u001b[1;33m:\u001b[0m\u001b[1;33m\u001b[0m\u001b[1;33m\u001b[0m\u001b[0m\n\u001b[0;32m      6\u001b[0m         \u001b[0mx_ccf\u001b[0m\u001b[1;33m,\u001b[0m \u001b[0my_ccf\u001b[0m\u001b[1;33m,\u001b[0m \u001b[0mz_ccf\u001b[0m \u001b[1;33m=\u001b[0m \u001b[0mget_ccf\u001b[0m\u001b[1;33m(\u001b[0m\u001b[0mi\u001b[0m\u001b[1;33m)\u001b[0m\u001b[1;33m\u001b[0m\u001b[1;33m\u001b[0m\u001b[0m\n",
      "\u001b[1;32mG:\\Anaconda\\lib\\site-packages\\pandas\\core\\frame.py\u001b[0m in \u001b[0;36m__getitem__\u001b[1;34m(self, key)\u001b[0m\n\u001b[0;32m   3456\u001b[0m             \u001b[1;32mif\u001b[0m \u001b[0mself\u001b[0m\u001b[1;33m.\u001b[0m\u001b[0mcolumns\u001b[0m\u001b[1;33m.\u001b[0m\u001b[0mnlevels\u001b[0m \u001b[1;33m>\u001b[0m \u001b[1;36m1\u001b[0m\u001b[1;33m:\u001b[0m\u001b[1;33m\u001b[0m\u001b[1;33m\u001b[0m\u001b[0m\n\u001b[0;32m   3457\u001b[0m                 \u001b[1;32mreturn\u001b[0m \u001b[0mself\u001b[0m\u001b[1;33m.\u001b[0m\u001b[0m_getitem_multilevel\u001b[0m\u001b[1;33m(\u001b[0m\u001b[0mkey\u001b[0m\u001b[1;33m)\u001b[0m\u001b[1;33m\u001b[0m\u001b[1;33m\u001b[0m\u001b[0m\n\u001b[1;32m-> 3458\u001b[1;33m             \u001b[0mindexer\u001b[0m \u001b[1;33m=\u001b[0m \u001b[0mself\u001b[0m\u001b[1;33m.\u001b[0m\u001b[0mcolumns\u001b[0m\u001b[1;33m.\u001b[0m\u001b[0mget_loc\u001b[0m\u001b[1;33m(\u001b[0m\u001b[0mkey\u001b[0m\u001b[1;33m)\u001b[0m\u001b[1;33m\u001b[0m\u001b[1;33m\u001b[0m\u001b[0m\n\u001b[0m\u001b[0;32m   3459\u001b[0m             \u001b[1;32mif\u001b[0m \u001b[0mis_integer\u001b[0m\u001b[1;33m(\u001b[0m\u001b[0mindexer\u001b[0m\u001b[1;33m)\u001b[0m\u001b[1;33m:\u001b[0m\u001b[1;33m\u001b[0m\u001b[1;33m\u001b[0m\u001b[0m\n\u001b[0;32m   3460\u001b[0m                 \u001b[0mindexer\u001b[0m \u001b[1;33m=\u001b[0m \u001b[1;33m[\u001b[0m\u001b[0mindexer\u001b[0m\u001b[1;33m]\u001b[0m\u001b[1;33m\u001b[0m\u001b[1;33m\u001b[0m\u001b[0m\n",
      "\u001b[1;32mG:\\Anaconda\\lib\\site-packages\\pandas\\core\\indexes\\base.py\u001b[0m in \u001b[0;36mget_loc\u001b[1;34m(self, key, method, tolerance)\u001b[0m\n\u001b[0;32m   3361\u001b[0m                 \u001b[1;32mreturn\u001b[0m \u001b[0mself\u001b[0m\u001b[1;33m.\u001b[0m\u001b[0m_engine\u001b[0m\u001b[1;33m.\u001b[0m\u001b[0mget_loc\u001b[0m\u001b[1;33m(\u001b[0m\u001b[0mcasted_key\u001b[0m\u001b[1;33m)\u001b[0m\u001b[1;33m\u001b[0m\u001b[1;33m\u001b[0m\u001b[0m\n\u001b[0;32m   3362\u001b[0m             \u001b[1;32mexcept\u001b[0m \u001b[0mKeyError\u001b[0m \u001b[1;32mas\u001b[0m \u001b[0merr\u001b[0m\u001b[1;33m:\u001b[0m\u001b[1;33m\u001b[0m\u001b[1;33m\u001b[0m\u001b[0m\n\u001b[1;32m-> 3363\u001b[1;33m                 \u001b[1;32mraise\u001b[0m \u001b[0mKeyError\u001b[0m\u001b[1;33m(\u001b[0m\u001b[0mkey\u001b[0m\u001b[1;33m)\u001b[0m \u001b[1;32mfrom\u001b[0m \u001b[0merr\u001b[0m\u001b[1;33m\u001b[0m\u001b[1;33m\u001b[0m\u001b[0m\n\u001b[0m\u001b[0;32m   3364\u001b[0m \u001b[1;33m\u001b[0m\u001b[0m\n\u001b[0;32m   3365\u001b[0m         \u001b[1;32mif\u001b[0m \u001b[0mis_scalar\u001b[0m\u001b[1;33m(\u001b[0m\u001b[0mkey\u001b[0m\u001b[1;33m)\u001b[0m \u001b[1;32mand\u001b[0m \u001b[0misna\u001b[0m\u001b[1;33m(\u001b[0m\u001b[0mkey\u001b[0m\u001b[1;33m)\u001b[0m \u001b[1;32mand\u001b[0m \u001b[1;32mnot\u001b[0m \u001b[0mself\u001b[0m\u001b[1;33m.\u001b[0m\u001b[0mhasnans\u001b[0m\u001b[1;33m:\u001b[0m\u001b[1;33m\u001b[0m\u001b[1;33m\u001b[0m\u001b[0m\n",
      "\u001b[1;31mKeyError\u001b[0m: 'index'"
     ]
    }
   ],
   "source": [
    "# NOW CHECKING OVERLAP FOR ALM\n",
    "x_alm, y_alm, z_alm = [],[],[]\n",
    "\n",
    "units_Data = unit_result.query(\" Region == 'left ALM'  and ses_no == 1\")\n",
    "for i in list(units_Data.electrodes.reset_index()['index'][:]):\n",
    "    try:\n",
    "        x_ccf, y_ccf, z_ccf = get_ccf(i)\n",
    "        x_alm.append(x_ccf)\n",
    "        y_alm.append(y_ccf)\n",
    "        z_alm.append(z_ccf)\n",
    "\n",
    "    except Exception as err:\n",
    "        pass"
   ]
  },
  {
   "cell_type": "code",
   "execution_count": 21,
   "id": "222ec212",
   "metadata": {},
   "outputs": [
    {
     "data": {
      "text/plain": [
       "39"
      ]
     },
     "execution_count": 21,
     "metadata": {},
     "output_type": "execute_result"
    }
   ],
   "source": [
    "len(x_alm)"
   ]
  },
  {
   "cell_type": "code",
   "execution_count": 23,
   "id": "234b4e1b",
   "metadata": {},
   "outputs": [],
   "source": [
    "%matplotlib widget\n",
    "\n",
    "ccf_x = np.array(x_alm)\n",
    "ccf_y = np.array(y_alm)\n",
    "ccf_z = np.array(z_alm)\n",
    "voxel_rd = 50\n",
    "V = np.array(nib.load('ALM_functionalData.nii').get_fdata())\n",
    "r, c, v = np.where(V != 0)\n",
    "v = -v + 114\n",
    "r = r * 100\n",
    "c = c * 100\n",
    "v = v * 100\n",
    "\n",
    "dorsal = np.where(ccf_y < 4000)[0]\n",
    "frontal = np.where(ccf_z < 4000)[0]\n",
    "frontal = np.intersect1d(dorsal, frontal)\n",
    "\n",
    "ALMidx = []\n",
    "for u in range(len(frontal)):\n",
    "    for alm in range(len(c)):\n",
    "        idx = frontal[u]\n",
    "        if ccf_x[idx] >= v[alm] - voxel_rd and ccf_x[idx] < v[alm] + voxel_rd and ccf_y[idx] >= c[alm] - voxel_rd and ccf_y[idx] < c[alm] + voxel_rd and ccf_z[idx] >= r[alm] - voxel_rd and ccf_z[idx] < r[alm] + voxel_rd:\n",
    "            ALMidx.append(idx)\n",
    "            break"
   ]
  },
  {
   "cell_type": "code",
   "execution_count": 25,
   "id": "2de0008a",
   "metadata": {},
   "outputs": [
    {
     "data": {
      "text/plain": [
       "(39, 6, 6)"
      ]
     },
     "execution_count": 25,
     "metadata": {},
     "output_type": "execute_result"
    }
   ],
   "source": [
    "len(ccf_x),len(ALMidx)"
   ]
  },
  {
   "cell_type": "markdown",
   "id": "56c007fc",
   "metadata": {},
   "source": [
    "# CCG Implementation"
   ]
  },
  {
   "cell_type": "code",
   "execution_count": 66,
   "id": "8de71122",
   "metadata": {},
   "outputs": [
    {
     "data": {
      "image/png": "[encoded data removed]",
      "text/plain": [
       "<Figure size 576x144 with 1 Axes>"
      ]
     },
     "metadata": {
      "needs_background": "light"
     },
     "output_type": "display_data"
    }
   ],
   "source": [
    "from scipy import stats\n",
    "import numpy as np\n",
    "import matplotlib.pyplot as plt\n",
    "from scipy import special\n",
    "tmax = 1\n",
    "max_rate = 80\n",
    "f_osc =  2\n",
    "bin_size = 1/30000\n",
    "time = np.arange(0, tmax, bin_size)\n",
    "\n",
    "rate = max_rate * (np.sin(2*np.pi*f_osc*time)+1)/2\n",
    "\n",
    "plt.figure(figsize=(8, 2))\n",
    "plt.plot(time, rate)\n",
    "plt.ylabel('rate (Hz)')\n",
    "plt.xlabel('time (s)');"
   ]
  },
  {
   "cell_type": "code",
   "execution_count": 20,
   "id": "f386b417",
   "metadata": {},
   "outputs": [
    {
     "data": {
      "application/vnd.jupyter.widget-view+json": {
       "model_id": "8d803e8ed0d844eb9c038916d3a2df3a",
       "version_major": 2,
       "version_minor": 0
      },
      "image/png": "[encoded data removed]",
      "text/html": [
       "\n",
       "            <div style=\"display: inline-block;\">\n",
       "                <div class=\"jupyter-widgets widget-label\" style=\"text-align: center;\">\n",
       "                    Figure\n",
       "                </div>\n",
       "                <img src='data:image/png;base64,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' width=800.0/>\n",
       "            </div>\n",
       "        "
      ],
      "text/plain": [
       "Canvas(toolbar=Toolbar(toolitems=[('Home', 'Reset original view', 'home', 'home'), ('Back', 'Back to previous …"
      ]
     },
     "metadata": {},
     "output_type": "display_data"
    }
   ],
   "source": [
    "shift = 20/1000   #in ms\n",
    "rate1 = max_rate * (np.sin(2*np.pi*f_osc*(time - shift))+1)/2\n",
    "plt.figure(figsize=(8, 2))\n",
    "plt.plot(time, rate1)\n",
    "plt.ylabel('rate (Hz)')\n",
    "plt.xlabel('time (s)');"
   ]
  },
  {
   "cell_type": "code",
   "execution_count": 184,
   "id": "f1b6209e",
   "metadata": {},
   "outputs": [
    {
     "data": {
      "text/plain": [
       "(4350, 3750)"
      ]
     },
     "execution_count": 184,
     "metadata": {},
     "output_type": "execute_result"
    }
   ],
   "source": [
    "list(rate1).index(rate1.max())*bin_size,list(rate).index(rate.max())*bin_size\n",
    "#checking the max point of both the signals"
   ]
  },
  {
   "cell_type": "code",
   "execution_count": 185,
   "id": "5837c555",
   "metadata": {},
   "outputs": [
    {
     "data": {
      "image/png": "[encoded data removed]",
      "text/plain": [
       "<Figure size 576x144 with 2 Axes>"
      ]
     },
     "metadata": {
      "needs_background": "light"
     },
     "output_type": "display_data"
    }
   ],
   "source": [
    "def inhomogeneous_poisson(rate, bin_size):\n",
    "    n_bins = len(rate)\n",
    "    spikes = np.random.rand(n_bins) < rate * bin_size\n",
    "    spike_times = np.nonzero(spikes)[0] * bin_size\n",
    "    return spike_times\n",
    "\n",
    "def inhomogeneous_poisson_generator(n_trials, rate, bin_size):\n",
    "    for i in range(n_trials):\n",
    "        yield inhomogeneous_poisson(rate, bin_size)\n",
    "\n",
    "def raster_plot_multi(spike_times):\n",
    "    for i, spt in enumerate(spike_times):\n",
    "        plt.vlines(spt, i, i+1)\n",
    "    plt.yticks([])\n",
    "    \n",
    "# Trial generator based on poisson sampling\n",
    "n_trials = 200\n",
    "\n",
    "plt.figure(figsize=(8,2))\n",
    "plt.plot(time, rate, lw=2)\n",
    "plt.ylabel('rate (Hz)')\n",
    "plt.xlabel('time (s)')\n",
    "spike_times = list(inhomogeneous_poisson_generator(n_trials, rate, bin_size))\n",
    "plt.twinx()\n",
    "raster_plot_multi(spike_times)"
   ]
  },
  {
   "cell_type": "code",
   "execution_count": 10,
   "id": "36aad870",
   "metadata": {},
   "outputs": [
    {
     "data": {
      "image/png": "[encoded data removed]",
      "text/plain": [
       "<Figure size 576x144 with 2 Axes>"
      ]
     },
     "metadata": {
      "needs_background": "light"
     },
     "output_type": "display_data"
    }
   ],
   "source": [
    "plt.figure(figsize=(8,2))\n",
    "plt.plot(time, rate1, lw=2)\n",
    "plt.ylabel('rate (Hz)')\n",
    "plt.xlabel('time (s)')\n",
    "spike_times1 = list(inhomogeneous_poisson_generator(n_trials, rate1, bin_size))\n",
    "plt.twinx()\n",
    "raster_plot_multi(spike_times1)"
   ]
  },
  {
   "cell_type": "code",
   "execution_count": 11,
   "id": "35c0305b",
   "metadata": {},
   "outputs": [],
   "source": [
    "spike_vec1 = np.zeros((n_trials, len(rate)))\n",
    "\n",
    "spike_vec2 = np.zeros((n_trials, len(rate1)))\n",
    "\n",
    "for j in range(0,n_trials):\n",
    "\n",
    "    spike_vec1[j, (spike_times[j]/bin_size).astype(int) ] = 1 \n",
    "    spike_vec2[j, (spike_times1[j]/bin_size).astype(int) ] = 1\n"
   ]
  },
  {
   "cell_type": "code",
   "execution_count": 57,
   "id": "bb0d46b4",
   "metadata": {},
   "outputs": [],
   "source": [
    "spikes = []\n",
    "spikes_shift = []\n",
    "for i, spt in enumerate(spike_times):\n",
    "    hist, edges = np.histogram(np.hstack(spt),bins = len(rate) ) #binwidth=0.033ms\n",
    "    spikes.append(hist)\n",
    "    \n",
    "for i, spt in enumerate(spike_times1):\n",
    "    hist1, edges = np.histogram(np.hstack(spt),bins = len(rate))\n",
    "    spikes_shift.append(hist1)"
   ]
  },
  {
   "cell_type": "code",
   "execution_count": 12,
   "id": "5a3a4bb2",
   "metadata": {},
   "outputs": [
    {
     "data": {
      "text/plain": [
       "(200, 30000)"
      ]
     },
     "execution_count": 12,
     "metadata": {},
     "output_type": "execute_result"
    }
   ],
   "source": [
    "np.array(spike_vec1).shape"
   ]
  },
  {
   "cell_type": "code",
   "execution_count": 13,
   "id": "5149dedb",
   "metadata": {},
   "outputs": [
    {
     "data": {
      "text/plain": [
       "[<matplotlib.lines.Line2D at 0x2dc7fceec40>]"
      ]
     },
     "execution_count": 13,
     "metadata": {},
     "output_type": "execute_result"
    },
    {
     "data": {
      "image/png": "[encoded data removed]",
      "text/plain": [
       "<Figure size 921.6x633.6 with 1 Axes>"
      ]
     },
     "metadata": {
      "needs_background": "light"
     },
     "output_type": "display_data"
    }
   ],
   "source": [
    "plt.plot(time,np.mean(spike_vec1,axis=0))"
   ]
  },
  {
   "cell_type": "markdown",
   "id": "95833161",
   "metadata": {},
   "source": [
    "# Manual CCG Implementation"
   ]
  },
  {
   "cell_type": "code",
   "execution_count": 294,
   "id": "ff199ea0",
   "metadata": {},
   "outputs": [
    {
     "data": {
      "text/plain": [
       "(59998,)"
      ]
     },
     "execution_count": 294,
     "metadata": {},
     "output_type": "execute_result"
    }
   ],
   "source": [
    "CCG_F1= []\n",
    "for j in range(len(spikes)):\n",
    "    CCG1 = []\n",
    "    for n in range(spikes[0].shape[0] - 1):\n",
    "        CCG1.append(spikes[j][(spikes[0].shape[0] -1 - n):].dot(spikes_shift[j][:n+1]))\n",
    "        \n",
    "    CCG1.append(spikes[j].dot(spikes_shift[j]))\n",
    "    \n",
    "    for n in range(spikes[0].shape[0] - 2):\n",
    "        CCG1.append(spikes[j][:(spikes[0].shape[0] -1 -n)].dot(spikes_shift[j][n+1:]))\n",
    "    CCG_F1.append(CCG1)\n",
    "CCG1 = np.sum(CCG_F1,axis=0)\n",
    "CCG1.shape"
   ]
  },
  {
   "cell_type": "code",
   "execution_count": 295,
   "id": "9e3edb72",
   "metadata": {
    "scrolled": true
   },
   "outputs": [
    {
     "data": {
      "text/plain": [
       "[<matplotlib.lines.Line2D at 0x2b98f1beca0>]"
      ]
     },
     "execution_count": 295,
     "metadata": {},
     "output_type": "execute_result"
    },
    {
     "data": {
      "image/png": "[encoded data removed]",
      "text/plain": [
       "<Figure size 921.6x633.6 with 1 Axes>"
      ]
     },
     "metadata": {
      "needs_background": "light"
     },
     "output_type": "display_data"
    }
   ],
   "source": [
    "tr = np.arange(-(spikes[0].shape[0] -1),(spikes[0].shape[0] -1))\n",
    "theta = spikes[0].shape[0] -np.abs(tr)\n",
    "plt.plot((tr*bin_size),CCG1)   #x-axis 1tick = 0.033ms\n",
    "#(np.arange(998)- spikes[0].shape[0])/100,\n",
    "#plt.plot(CCG/(theta*100*np.sqrt(np.mean(spikes)*np.mean(spikes_shift))))"
   ]
  },
  {
   "cell_type": "markdown",
   "id": "aeaceabb",
   "metadata": {},
   "source": [
    "# CCG From Paper(Siegel)"
   ]
  },
  {
   "cell_type": "code",
   "execution_count": 67,
   "id": "b207c230",
   "metadata": {},
   "outputs": [],
   "source": [
    "from scipy import stats\n",
    "import scipy\n",
    "\n",
    "def jitter(data, l):\n",
    "    \"\"\"\n",
    "    Jittering multidemntational logical data where \n",
    "    0 means no spikes in that time bin and 1 indicates a spike in that time bin.\n",
    "    \"\"\"\n",
    "    if len(np.shape(data))>3:\n",
    "        flag = 1\n",
    "        sd = np.shape(data)\n",
    "        data = np.reshape(data,(np.shape(data)[0],np.shape(data)[1],len(data.flatten())/(np.shape(data)[0]*np.shape(data)[1])), order='F')\n",
    "    else:\n",
    "        flag = 0\n",
    "\n",
    "    psth = np.mean(data,axis=1)\n",
    "    length = np.shape(data)[0]\n",
    "\n",
    "    if np.mod(np.shape(data)[0],l):\n",
    "        data[length:(length+np.mod(-np.shape(data)[0],l)),:,:] = 0\n",
    "        psth[length:(length+np.mod(-np.shape(data)[0],l)),:]   = 0\n",
    "\n",
    "    if np.shape(psth)[1]>1:\n",
    "        dataj = np.squeeze(np.sum(np.reshape(data,[l,np.shape(data)[0]//l,np.shape(data)[1],np.shape(data)[2]], order='F'), axis=0))\n",
    "        psthj = np.squeeze(np.sum(np.reshape(psth,[l,np.shape(psth)[0]//l,np.shape(psth)[1]], order='F'), axis=0))\n",
    "    else:\n",
    "        dataj = np.squeeze(np.sum(np.reshape(data,l,np.shape(data)[0]//l,np.shape(data)[1], order='F')))\n",
    "        psthj = np.sum(np.reshape(psth,l,np.shape(psth)[0]//l, order='F'))\n",
    "\n",
    "\n",
    "    if np.shape(data)[0] == l:\n",
    "        dataj = np.reshape(dataj,[1,np.shape(dataj)[0],np.shape(dataj)[1]], order='F');\n",
    "        psthj = np.reshape(psthj,[1,np.shape(psthj[0])], order='F');\n",
    "\n",
    "    psthj = np.reshape(psthj,[np.shape(psthj)[0],1,np.shape(psthj)[1]], order='F')\n",
    "    psthj[psthj==0] = 10e-10\n",
    "\n",
    "    corr = dataj/np.tile(psthj,[1, np.shape(dataj)[1], 1]);\n",
    "    corr = np.reshape(corr,[1,np.shape(corr)[0],np.shape(corr)[1],np.shape(corr)[2]], order='F')\n",
    "    corr = np.tile(corr,[l, 1, 1, 1])\n",
    "    corr = np.reshape(corr,[np.shape(corr)[0]*np.shape(corr)[1],np.shape(corr)[2],np.shape(corr)[3]], order='F');\n",
    "\n",
    "    psth = np.reshape(psth,[np.shape(psth)[0],1,np.shape(psth)[1]], order='F');\n",
    "    output = np.tile(psth,[1, np.shape(corr)[1], 1])*corr\n",
    "\n",
    "    output = output[:length,:,:]\n",
    "    return output\n",
    "\n",
    "\n",
    "def xcorrfft(a,b,NFFT):\n",
    "    CCG = np.fft.fftshift(np.fft.ifft(np.multiply(np.fft.fft(a,NFFT), np.conj(np.fft.fft(b,NFFT)))))\n",
    "    return CCG\n",
    "\n",
    "def nextpow2(n):\n",
    "    \"\"\"get the next power of 2 that's greater than n\"\"\"\n",
    "    m_f = np.log2(n)\n",
    "    m_i = np.ceil(m_f)\n",
    "    return 2**m_i\n",
    "\n",
    "def get_ccgjitter(spikes, FR, jitterwindow):\n",
    "    # spikes: neuron*ori*trial*time\n",
    "    assert np.shape(spikes)[0]==len(FR)\n",
    "\n",
    "    n_unit=np.shape(spikes)[0]\n",
    "    n_t = np.shape(spikes)[3]\n",
    "    # triangle function\n",
    "    t = np.arange(-(n_t-1),(n_t-1))\n",
    "    theta = n_t-np.abs(t)\n",
    "    NFFT = int(nextpow2(2*n_t))\n",
    "    target = np.array([int(i) for i in NFFT/2+np.arange((-n_t+2),n_t)])\n",
    "\n",
    "    ccgjitter = []\n",
    "    ccgraw = []\n",
    "    jittered = []\n",
    "    pair=0\n",
    "    \n",
    "    for i in np.arange(n_unit-1): # V1 cell\n",
    "        for m in np.arange(i+1,n_unit):  # V2 cell\n",
    "            if FR[i]>2 and FR[m]>2:\n",
    "                temp1 = np.squeeze(spikes[i,:,:,:])\n",
    "                temp2 = np.squeeze(spikes[m,:,:,:])\n",
    "                FR1 = np.squeeze(np.mean(np.sum(temp1,axis=2), axis=1))\n",
    "                FR2 = np.squeeze(np.mean(np.sum(temp2,axis=2), axis=1))\n",
    "                tempccg = xcorrfft(temp1,temp2,NFFT)\n",
    "                tempccg = np.squeeze(np.nanmean(tempccg[:,:,target],axis=1))\n",
    "\n",
    "#                 temp1 = np.rollaxis(np.rollaxis(temp1,2,0), 2,1)\n",
    "#                 temp2 = np.rollaxis(np.rollaxis(temp2,2,0), 2,1)\n",
    "#                 ttemp1 = jitter(temp1,jitterwindow);  \n",
    "#                 ttemp2 = jitter(temp2,jitterwindow);\n",
    "#                 tempjitter = xcorrfft(np.rollaxis(np.rollaxis(ttemp1,2,0), 2,1),np.rollaxis(np.rollaxis(ttemp2,2,0), 2,1),NFFT);  \n",
    "#                 tempjitter = np.squeeze(np.nanmean(tempjitter[:,:,target],axis=1))\n",
    "                \n",
    "                ccgraw.append(tempccg.T/np.multiply(np.tile(np.sqrt(FR[i]*FR[m]), (len(target), 1)), \n",
    "                    np.tile(theta.T.reshape(len(theta),1),(1,len(FR1)))))\n",
    "#                 jittered.append(tempjitter.T/np.multiply(np.tile(np.sqrt(FR[i]*FR[m]), (len(target), 1)), \n",
    "#                     np.tile(theta.T.reshape(len(theta),1),(1,len(FR1)))))\n",
    "                \n",
    "#                 ccgjitter.append((tempccg - tempjitter).T/np.multiply(np.tile(np.sqrt(FR[i]*FR[m]), (len(target), 1)), \n",
    "#                     np.tile(theta.T.reshape(len(theta),1),(1,len(FR1)))))\n",
    "\n",
    "#     ccgjitter = np.array(ccgjitter)\n",
    "    ccgraw = np.array(ccgraw)\n",
    "#     jittered = np.array(jittered)\n",
    "    return ccgraw,t\n"
   ]
  },
  {
   "cell_type": "code",
   "execution_count": 68,
   "id": "a670e91f",
   "metadata": {},
   "outputs": [],
   "source": [
    "#np.array(spikes).shape  #Neurons * Orientation * trials * timestamps(5s)"
   ]
  },
  {
   "cell_type": "code",
   "execution_count": 69,
   "id": "6fd60b8f",
   "metadata": {},
   "outputs": [],
   "source": [
    "# new_spikes = np.expand_dims(spike_vec1, axis=0)\n",
    "# new_spikes = np.expand_dims(new_spikes, axis=0)\n",
    "# new_spikes = np.hstack((new_spikes, new_spikes))\n",
    "# new_s_spikes = np.expand_dims(spike_vec2, axis=0)\n",
    "# new_s_spikes = np.expand_dims(new_s_spikes, axis=0)\n",
    "# new_s_spikes = np.hstack((new_s_spikes, new_s_spikes))\n",
    "# spik = np.vstack((new_spikes, new_s_spikes))\n",
    "\n",
    "# FR = spik.sum(-1).mean(1).mean(1)"
   ]
  },
  {
   "cell_type": "code",
   "execution_count": 23,
   "id": "fa838227",
   "metadata": {},
   "outputs": [],
   "source": [
    "# spik.shape #Our (Neurons * (2 Orientation with zero degree)(Dummy axis) * trials * timestamp)"
   ]
  },
  {
   "cell_type": "code",
   "execution_count": 24,
   "id": "670f99b9",
   "metadata": {},
   "outputs": [],
   "source": [
    "def return_smooth_gauss(spike_data,tr,sigma):\n",
    "    smooth_gauss = []\n",
    "\n",
    "    for i in np.arange(len(tr)):\n",
    "        gauss = np.exp((- ( np.arange(len(tr)) - i) ** 2) / ( 2 * (sigma**2) ) )\n",
    "        gauss /=  sum(gauss)\n",
    "        smooth_gauss.append(sum(gauss*spike_data))\n",
    "    \n",
    "    return tr,smooth_gauss\n",
    "\n",
    "from math import factorial\n",
    "def savitzky_golay(y, window_size, order, deriv=0, rate=1):\n",
    "    try:\n",
    "        window_size = np.abs(np.int(window_size))\n",
    "        order = np.abs(np.int(order))\n",
    "    except ValueError:\n",
    "        raise ValueError(\"window_size and order have to be of type int\") \n",
    "    if window_size % 2 != 1 or window_size < 1:\n",
    "        raise TypeError(\"window_size size must be a positive odd number\")\n",
    "    if window_size < order + 2:\n",
    "        raise TypeError(\"window_size is too small for the polynomials order\")\n",
    "    order_range = range(order+1)\n",
    "    half_window = (window_size -1) // 2\n",
    "     # precompute coefficients\n",
    "    b = np.mat([[k**i for i in order_range] for k in range(-half_window, half_window+1)]) \n",
    "    m = np.linalg.pinv(b).A[deriv] * rate**deriv * factorial(deriv)\n",
    "    # values taken from the signal itself\n",
    "    firstvals = y[0] - np.abs( y[1:half_window+1][::-1] - y[0] )\n",
    "    lastvals = y[-1] + np.abs(y[-half_window-1:-1][::-1] - y[-1])\n",
    "    y = np.concatenate((firstvals, y, lastvals))\n",
    "    return np.convolve( m[::-1], y, mode='valid')\n",
    "\n",
    "# edges,smooth_raw = return_smooth_gauss(raw[0].T[0],tr,0.01)"
   ]
  },
  {
   "cell_type": "code",
   "execution_count": 25,
   "id": "88f63b7d",
   "metadata": {},
   "outputs": [],
   "source": [
    "# smoothing_window = (1/bin_size)/1000   #ms\n",
    "# print(smoothing_window)\n",
    "# yhat = savitzky_golay(raw[0].T[0], smoothing_window+1, 7)  #(Data,window,poly order)\n",
    "# plt.plot(tr*bin_size,yhat)\n",
    "# plt.plot(tr*bin_size,raw[0].T[0],alpha=0.3)\n",
    "# plt.xlim(-0.05,0.05)\n",
    "# plt.ylim(0,0.15e-6)"
   ]
  },
  {
   "cell_type": "code",
   "execution_count": 26,
   "id": "63344fc6",
   "metadata": {},
   "outputs": [],
   "source": [
    "# plt.plot(tr*bin_size,ccgjitter[0].T[0])\n",
    "# plt.plot(tr*bin_size,raw[0].T[0],alpha=0.5)\n",
    "# # plt.xlim(-0.05,0.05)\n",
    "# plt.ylim(-1.5e-7,1.5e-7)"
   ]
  },
  {
   "cell_type": "code",
   "execution_count": 27,
   "id": "418d3a88",
   "metadata": {},
   "outputs": [],
   "source": [
    "# plt.plot(tr*bin_size,jit[0].T[0])"
   ]
  },
  {
   "cell_type": "markdown",
   "id": "3261d1d3",
   "metadata": {},
   "source": [
    "# For ALM and Thalamus\n"
   ]
  },
  {
   "cell_type": "code",
   "execution_count": 150,
   "id": "772ee09a",
   "metadata": {},
   "outputs": [],
   "source": [
    "units_Data = unit_result.query(\" Region == 'left Thalamus' and ses_no == 2\")\n",
    "# thal_spike = units_Data.reset_index().loc[Thalidx]\n",
    "\n",
    "thal_spike= units_Data[:2]\n",
    "# thal_spike = units_Data.loc[[160,\n",
    "# 161,\n",
    "# 162,\n",
    "# 163,\n",
    "# 164,\n",
    "# 165,\n",
    "# 166,\n",
    "# 167,\n",
    "# 168,\n",
    "# 169,\n",
    "# 170,\n",
    "# 171,\n",
    "# 172]]\n",
    "units_Data = unit_result.query(\" Region == 'left ALM'  and ses_no == 2\")\n",
    "ALM_spike = units_Data[:2] #.reset_index().loc[ALMidx]"
   ]
  },
  {
   "cell_type": "code",
   "execution_count": 151,
   "id": "06b803a4",
   "metadata": {},
   "outputs": [
    {
     "data": {
      "text/plain": [
       "(2, 2)"
      ]
     },
     "execution_count": 151,
     "metadata": {},
     "output_type": "execute_result"
    }
   ],
   "source": [
    "len(thal_spike),len(ALM_spike)"
   ]
  },
  {
   "cell_type": "markdown",
   "id": "66dcffc6",
   "metadata": {},
   "source": [
    "# Aligned with Delay"
   ]
  },
  {
   "cell_type": "code",
   "execution_count": 152,
   "id": "5019cf93",
   "metadata": {},
   "outputs": [],
   "source": [
    "after = 4.3     #(Change bins to vector, Done)\n",
    "before = -0.7\n",
    "bin_size = 1/2000\n",
    "def Spike_time(temp_unit):\n",
    " \n",
    "    spike_data_l = []\n",
    "    n_trials = len(trials_Data_L)\n",
    "    spike_vec1 = np.zeros((len(temp_unit),n_trials, int((1/bin_size) * (after-before)) ))\n",
    "   \n",
    "    \n",
    "    for unit in temp_unit.reset_index().iloc[:, 0]:\n",
    "        \n",
    "        unit_spike_times = temp_unit[\"spike_times\"][unit]\n",
    "        trial_spikes_l = []\n",
    "        i = 0\n",
    "        for time in trials_Data_L['sample_start'].round(3):\n",
    "            # Compute spike times relative to stimulus onset\n",
    "            aligned_spikes = unit_spike_times - time\n",
    "            # Keep only spike times in a given time window around the stimulus onset\n",
    "            aligned_spikes = aligned_spikes[aligned_spikes < after ]\n",
    "            aligned_spikes = aligned_spikes[before < aligned_spikes]\n",
    "            trial_spikes_l.append(aligned_spikes)\n",
    "        spike_data_l.append(trial_spikes_l)\n",
    "    for i in range(spike_vec1.shape[0]):\n",
    "        for j in range(0,n_trials-1):\n",
    "            spike_vec1[i, j, (spike_data_l[i][j]/bin_size).astype(int) ] = 1 \n",
    "    return spike_vec1\n",
    "    \n",
    "spike_alm = Spike_time(ALM_spike)\n",
    "spike_thal = Spike_time(thal_spike)"
   ]
  },
  {
   "cell_type": "markdown",
   "id": "e15c48e2",
   "metadata": {},
   "source": [
    "# Aligned with Go que"
   ]
  },
  {
   "cell_type": "code",
   "execution_count": 154,
   "id": "cbbc37a7",
   "metadata": {},
   "outputs": [],
   "source": [
    "after = 3.0     #(Change bins to vector, Done)\n",
    "before = -3.0\n",
    "bin_size = 1/2000\n",
    "def Spike_time(temp_unit):\n",
    " \n",
    "    spike_data_l = []\n",
    "    Time_vec = []\n",
    "    n_trials = len(trials_Data_L)\n",
    "    spike_vec1 = np.zeros((len(temp_unit),n_trials, int((1/bin_size) * (after-before)) ))\n",
    "   \n",
    "    \n",
    "    for unit in temp_unit.reset_index().iloc[:, 0]:\n",
    "        \n",
    "        unit_spike_times = temp_unit[\"spike_times\"][unit]\n",
    "        trial_spikes_l = []\n",
    "        i = 0\n",
    "        for time in trials_Data_L['go_start'].round(3):\n",
    "            # Compute spike times relative to stimulus onset\n",
    "            aligned_spikes = unit_spike_times - time\n",
    "            # Keep only spike times in a given time window around the stimulus onset\n",
    "            aligned_spikes = aligned_spikes[aligned_spikes < after ]\n",
    "            aligned_spikes = aligned_spikes[before < aligned_spikes]\n",
    "            trial_spikes_l.append(aligned_spikes)\n",
    "        spike_data_l.append(trial_spikes_l)\n",
    "    for i in range(spike_vec1.shape[0]):\n",
    "        for j in range(0,n_trials-1):\n",
    "            spike_vec1[i, j, ((spike_data_l[i][j]-before)/bin_size).astype(int) ] = 1 \n",
    "            Time_vec.append(np.multiply(np.where(spike_vec1[i][j] == 1),bin_size)+before)\n",
    "    return spike_vec1,Time_vec\n",
    "    \n",
    "spike_alm,time_alm = Spike_time(ALM_spike)\n",
    "spike_thal,time_thal = Spike_time(thal_spike)"
   ]
  },
  {
   "cell_type": "code",
   "execution_count": 155,
   "id": "18471528",
   "metadata": {},
   "outputs": [
    {
     "data": {
      "text/plain": [
       "array([[-2.348 , -2.066 , -1.4405, -1.2785, -0.5495, -0.4465, -0.2525,\n",
       "         0.0605,  0.3425,  0.7375,  1.3885]])"
      ]
     },
     "execution_count": 155,
     "metadata": {},
     "output_type": "execute_result"
    }
   ],
   "source": [
    "time_alm[0]"
   ]
  },
  {
   "cell_type": "code",
   "execution_count": 157,
   "id": "cd8f821d",
   "metadata": {},
   "outputs": [
    {
     "data": {
      "text/plain": [
       "(2, 268, 12000)"
      ]
     },
     "execution_count": 157,
     "metadata": {},
     "output_type": "execute_result"
    }
   ],
   "source": [
    "spike_alm.shape"
   ]
  },
  {
   "cell_type": "code",
   "execution_count": 177,
   "id": "8c80c4a7",
   "metadata": {},
   "outputs": [
    {
     "data": {
      "image/png": "[encoded data removed]",
      "text/plain": [
       "<Figure size 432x288 with 1 Axes>"
      ]
     },
     "metadata": {
      "needs_background": "light"
     },
     "output_type": "display_data"
    },
    {
     "data": {
      "image/png": "[encoded data removed]",
      "text/plain": [
       "<Figure size 432x288 with 1 Axes>"
      ]
     },
     "metadata": {
      "needs_background": "light"
     },
     "output_type": "display_data"
    },
    {
     "data": {
      "image/png": "[encoded data removed]",
      "text/plain": [
       "<Figure size 432x288 with 1 Axes>"
      ]
     },
     "metadata": {
      "needs_background": "light"
     },
     "output_type": "display_data"
    },
    {
     "data": {
      "image/png": "[encoded data removed]",
      "text/plain": [
       "<Figure size 432x288 with 1 Axes>"
      ]
     },
     "metadata": {
      "needs_background": "light"
     },
     "output_type": "display_data"
    },
    {
     "data": {
      "image/png": "[encoded data removed]",
      "text/plain": [
       "<Figure size 432x288 with 1 Axes>"
      ]
     },
     "metadata": {
      "needs_background": "light"
     },
     "output_type": "display_data"
    }
   ],
   "source": [
    "for i in range(5):\n",
    "    plt.figure()\n",
    "    plt.plot(np.arange(0,6,bin_size)-3,spike_alm[1][i])\n",
    "    plt.title(\"Unit:1 Trial:%s\"%i)\n",
    "    plt.xlim(-3,3)\n",
    "    plt.savefig('Unit_1_Trial_%s.png' % (i))\n",
    "    plt.show()"
   ]
  },
  {
   "cell_type": "code",
   "execution_count": 76,
   "id": "1b33b46c",
   "metadata": {},
   "outputs": [],
   "source": [
    "spike_alm1 = spike_alm.T[ int(1.35/bin_size): int(2.55/bin_size)+1].T\n",
    "spike_thal1 = spike_thal.T[ int(1.35/bin_size): int(2.55/bin_size)+1].T"
   ]
  },
  {
   "cell_type": "code",
   "execution_count": 77,
   "id": "dbf62d9a",
   "metadata": {},
   "outputs": [
    {
     "data": {
      "text/plain": [
       "(186, 172, 2400)"
      ]
     },
     "execution_count": 77,
     "metadata": {},
     "output_type": "execute_result"
    }
   ],
   "source": [
    "spike_thal1.shape  #previously 150alm,145thal"
   ]
  },
  {
   "cell_type": "code",
   "execution_count": 78,
   "id": "95f734a7",
   "metadata": {},
   "outputs": [],
   "source": [
    "%matplotlib inline\n",
    "\n",
    "# new_spikes = np.expand_dims(spike_alm[0], axis=0)\n",
    "# new_spikes = np.expand_dims(new_spikes, axis=0)\n",
    "# new_spikes = np.hstack((new_spikes, new_spikes))\n",
    "\n",
    "# FR = new_spikes.sum(-1).mean(1).mean(1)"
   ]
  },
  {
   "cell_type": "code",
   "execution_count": 79,
   "id": "f626fc91",
   "metadata": {},
   "outputs": [
    {
     "data": {
      "text/plain": [
       "(81, 172, 2400)"
      ]
     },
     "execution_count": 79,
     "metadata": {},
     "output_type": "execute_result"
    }
   ],
   "source": [
    "spike_alm1.shape"
   ]
  },
  {
   "cell_type": "code",
   "execution_count": 29,
   "id": "b56e8e8e",
   "metadata": {},
   "outputs": [],
   "source": [
    "# ind=[]\n",
    "# for i in range(101):\n",
    "#     a = np.where(spike_alm[1][i]==1)\n",
    "#     ind.append(a)"
   ]
  },
  {
   "cell_type": "code",
   "execution_count": 220,
   "id": "71eea019",
   "metadata": {},
   "outputs": [
    {
     "data": {
      "image/png": "[encoded data removed]",
      "text/plain": [
       "<Figure size 432x288 with 1 Axes>"
      ]
     },
     "metadata": {
      "needs_background": "light"
     },
     "output_type": "display_data"
    }
   ],
   "source": [
    "# raster_plot_multi(ind)"
   ]
  },
  {
   "cell_type": "code",
   "execution_count": 159,
   "id": "2d0dc494",
   "metadata": {},
   "outputs": [],
   "source": [
    "def get_ccg_plot(spike_alm,spike_thal):\n",
    "    new_spikes = np.expand_dims(spike_alm, axis=0)\n",
    "    new_spikes = np.expand_dims(new_spikes, axis=0)\n",
    "    new_spikes = np.hstack((new_spikes, new_spikes))\n",
    "\n",
    "    new_s_spikes = np.expand_dims(spike_thal, axis=0)\n",
    "    new_s_spikes = np.expand_dims(new_s_spikes, axis=0)\n",
    "    new_s_spikes = np.hstack((new_s_spikes, new_s_spikes))\n",
    "    \n",
    "    spik = np.vstack((new_spikes, new_s_spikes))\n",
    "\n",
    "    FR = spik.sum(-1).mean(1).mean(1)\n",
    "    jitterwindow = 25/bin_size/1000  #in ms\n",
    "    \n",
    "    raw,tr = get_ccgjitter(spik, FR, jitterwindow= int(jitterwindow))\n",
    "    return raw,tr"
   ]
  },
  {
   "cell_type": "code",
   "execution_count": 160,
   "id": "db06ce45",
   "metadata": {},
   "outputs": [],
   "source": [
    "%matplotlib inline\n",
    "\n",
    "# raw = []\n",
    "# for i in range(len(spike_alm)):\n",
    "#     for j in range(len(spike_thal)):\n",
    "#         r,tr = get_ccg_plot(spike_alm[i],spike_thal[j])\n",
    "# #         ccg.append(c)\n",
    "#         raw.append(r)\n",
    "\n",
    "raw = []\n",
    "for i in range(1):\n",
    "    for j in range(1):\n",
    "        r,tr = get_ccg_plot(spike_alm[0],spike_alm[1])\n",
    "#         ccg.append(c)\n",
    "        raw.append(r)"
   ]
  },
  {
   "cell_type": "code",
   "execution_count": 32,
   "id": "70de755b",
   "metadata": {},
   "outputs": [],
   "source": [
    "# raw,tr = get_ccg_plot(spike_alm[2],spike_thal[29])"
   ]
  },
  {
   "cell_type": "code",
   "execution_count": 161,
   "id": "c541dc76",
   "metadata": {},
   "outputs": [
    {
     "data": {
      "text/plain": [
       "(1, 1, 23998, 2)"
      ]
     },
     "execution_count": 161,
     "metadata": {},
     "output_type": "execute_result"
    }
   ],
   "source": [
    "np.array(raw).shape"
   ]
  },
  {
   "cell_type": "code",
   "execution_count": 9,
   "id": "4b707676",
   "metadata": {},
   "outputs": [],
   "source": [
    "import pickle\n",
    "# with open('ALM_THAL_440959_with0.5ms.pkl', 'wb') as f:\n",
    "#     pickle.dump(raw, f)\n",
    "# with open('ALM_THAL_100_RAW_3.pkl', 'rb') as f:\n",
    "#     raw3 = pickle.load(f)\n",
    "# with open('ALM_THAL_100_RAW_2.pkl', 'rb') as f:\n",
    "#     raw2 = pickle.load(f)\n",
    "with open('ALM_THAL_440959_with0.5ms.pkl', 'rb') as f:\n",
    "    raw = pickle.load(f)"
   ]
  },
  {
   "cell_type": "code",
   "execution_count": 84,
   "id": "14de3b5d",
   "metadata": {},
   "outputs": [],
   "source": [
    "# bin_size=1/10000\n",
    "n_t = spike_alm.shape[2]\n",
    "tr = np.arange(-(n_t-1),(n_t-1))\n",
    "def get_slice(ccgs, rang1,rang2):\n",
    "    return (ccgs[0].T[0][int((n_t + (rang1/1000/bin_size))): int((n_t + (rang2/1000/bin_size)))])\n",
    "\n",
    "def get_peak(raws):\n",
    "    j = 0\n",
    "    for i in range(len(raws)):\n",
    "        if raws[i].shape[0] != 0:\n",
    "            sd=np.std(get_slice(raws[i],-50,50))\n",
    "            rel_max = np.max(get_slice(raws[i],-10,10))\n",
    "            rel_min = np.min(get_slice(raws[i],-10,10))\n",
    "            relpeak = rel_max-rel_min\n",
    "            if float(relpeak/sd)>6:\n",
    "                j = j+1\n",
    "                plt.figure()\n",
    "                plt.plot(tr*bin_size,raws[i][0].T[0])\n",
    "                plt.xlim(-0.05,0.05)\n",
    "                plt.ylim(0,rel_max*1.2)\n",
    "#                 plt.savefig('ALM_THAL_0.5ms_%s.png' % (i))\n",
    "                plt.show()\n",
    "    print(j)"
   ]
  },
  {
   "cell_type": "code",
   "execution_count": 166,
   "id": "9ff48246",
   "metadata": {
    "scrolled": true
   },
   "outputs": [
    {
     "name": "stderr",
     "output_type": "stream",
     "text": [
      "G:\\Anaconda\\lib\\site-packages\\matplotlib\\cbook\\__init__.py:1333: ComplexWarning: Casting complex values to real discards the imaginary part\n",
      "  return np.asarray(x, float)\n"
     ]
    },
    {
     "data": {
      "image/png": "[encoded data removed]",
      "text/plain": [
       "<Figure size 432x288 with 1 Axes>"
      ]
     },
     "metadata": {
      "needs_background": "light"
     },
     "output_type": "display_data"
    }
   ],
   "source": [
    "for i in range(len(raw)):\n",
    "    if raw[i].shape[0] != 0:\n",
    "        plt.figure()\n",
    "        plt.plot(tr*bin_size,raw[i][0].T[0])\n",
    "        plt.xlim(-6,6)\n",
    "#         plt.ylim(0,np.max(get_slice(raw[i],-5000,5000))*1.2)\n",
    "        plt.show()"
   ]
  },
  {
   "cell_type": "code",
   "execution_count": 85,
   "id": "2b781095",
   "metadata": {
    "scrolled": false
   },
   "outputs": [
    {
     "name": "stderr",
     "output_type": "stream",
     "text": [
      "C:\\Users\\smit3\\AppData\\Local\\Temp/ipykernel_3112/1511488111.py:15: ComplexWarning: Casting complex values to real discards the imaginary part\n",
      "  if float(relpeak/sd)>6:\n",
      "G:\\Anaconda\\lib\\site-packages\\matplotlib\\cbook\\__init__.py:1333: ComplexWarning: Casting complex values to real discards the imaginary part\n",
      "  return np.asarray(x, float)\n",
      "G:\\Anaconda\\lib\\site-packages\\matplotlib\\transforms.py:2837: ComplexWarning: Casting complex values to real discards the imaginary part\n",
      "  vmin, vmax = map(float, [vmin, vmax])\n"
     ]
    },
    {
     "data": {
      "image/png": "[encoded data removed]",
      "text/plain": [
       "<Figure size 432x288 with 1 Axes>"
      ]
     },
     "metadata": {
      "needs_background": "light"
     },
     "output_type": "display_data"
    },
    {
     "name": "stdout",
     "output_type": "stream",
     "text": [
      "1\n"
     ]
    },
    {
     "name": "stderr",
     "output_type": "stream",
     "text": [
      "C:\\Users\\smit3\\AppData\\Local\\Temp/ipykernel_3112/1511488111.py:15: ComplexWarning: Casting complex values to real discards the imaginary part\n",
      "  if float(relpeak/sd)>6:\n"
     ]
    }
   ],
   "source": [
    "get_peak(raw)"
   ]
  },
  {
   "cell_type": "code",
   "execution_count": null,
   "id": "3550959c",
   "metadata": {},
   "outputs": [],
   "source": []
  },
  {
   "cell_type": "markdown",
   "id": "2aea2bda",
   "metadata": {},
   "source": [
    "# Controlled Env"
   ]
  },
  {
   "cell_type": "code",
   "execution_count": 70,
   "id": "3960d731",
   "metadata": {},
   "outputs": [],
   "source": [
    "units_Data = unit_result.query(\" Region == 'left Thalamus'\")\n",
    "thal_spike = units_Data[:1]\n",
    "\n",
    "after = 4.3     #(Change bins to vector, Pending**)\n",
    "before = -0.7\n",
    "bin_size = 1/30000\n",
    "def Spike_time(temp_unit,i):\n",
    " \n",
    "    spike_data_l = []\n",
    "    n_trials = len(trials_Data_L)\n",
    "    spike_vec1 = np.zeros((len(temp_unit),n_trials, int((1/bin_size) * (after-before)) ))\n",
    "   \n",
    "    \n",
    "    for unit in temp_unit.reset_index()['index']:\n",
    "        if(i==1):\n",
    "            unit_spike_times = np.asarray(temp_unit[\"spike_times\"][unit]) + 0.005 \n",
    "        else:\n",
    "            unit_spike_times = np.asarray(temp_unit[\"spike_times\"][unit])\n",
    "        trial_spikes_l = []\n",
    "        i = 0\n",
    "        for time in trials_Data_L['sample_start'].round(3):\n",
    "            # Compute spike times relative to stimulus onset\n",
    "        \n",
    "            aligned_spikes = unit_spike_times - time\n",
    "            # Keep only spike times in a given time window around the stimulus onset\n",
    "            aligned_spikes = aligned_spikes[aligned_spikes < after ]\n",
    "            aligned_spikes = aligned_spikes[before < aligned_spikes]\n",
    "            trial_spikes_l.append(aligned_spikes)\n",
    "        spike_data_l.append(trial_spikes_l)\n",
    "    for i in range(spike_vec1.shape[0]):\n",
    "        for j in range(0,n_trials-1):\n",
    "            spike_vec1[i, j, (spike_data_l[i][j]/bin_size).astype(int) ] = 1 \n",
    "    return spike_vec1\n",
    "    \n",
    "spike_alm = Spike_time(thal_spike,0)\n",
    "spike_thal = Spike_time(thal_spike,1)"
   ]
  },
  {
   "cell_type": "code",
   "execution_count": 71,
   "id": "c4836fef",
   "metadata": {},
   "outputs": [
    {
     "data": {
      "text/plain": [
       "(79100.0, 79320.0)"
      ]
     },
     "execution_count": 71,
     "metadata": {},
     "output_type": "execute_result"
    },
    {
     "data": {
      "image/png": "[encoded data removed]",
      "text/plain": [
       "<Figure size 432x288 with 1 Axes>"
      ]
     },
     "metadata": {
      "needs_background": "light"
     },
     "output_type": "display_data"
    }
   ],
   "source": [
    "plt.plot(spike_thal[0][0])\n",
    "plt.plot(spike_alm[0][0],alpha=0.5)\n",
    "plt.xlim(79100,79320)"
   ]
  },
  {
   "cell_type": "code",
   "execution_count": 72,
   "id": "1829f474",
   "metadata": {},
   "outputs": [
    {
     "data": {
      "text/plain": [
       "(2, 2, 101, 150000)"
      ]
     },
     "execution_count": 72,
     "metadata": {},
     "output_type": "execute_result"
    }
   ],
   "source": [
    "new_spikes = np.expand_dims(spike_alm, axis=1)\n",
    "# new_spikes = np.expand_dims(new_spikes, axis=0)\n",
    "new_spikes = np.hstack((new_spikes, new_spikes))\n",
    "\n",
    "new_s_spikes = np.expand_dims(spike_thal, axis=1)\n",
    "# new_s_spikes = np.expand_dims(new_s_spikes, axis=0)\n",
    "new_s_spikes = np.hstack((new_s_spikes, new_s_spikes))\n",
    "\n",
    "spik = np.vstack((new_spikes, new_s_spikes))\n",
    "\n",
    "FR = spik.sum(-1).mean(1).mean(1)\n",
    "spik.shape"
   ]
  },
  {
   "cell_type": "code",
   "execution_count": 73,
   "id": "3e50fc21",
   "metadata": {},
   "outputs": [],
   "source": [
    "tr = np.arange(-(spike_alm[0][0].shape[0]-1),(spike_alm[0][0].shape[0]-1))\n",
    "theta = spike_alm[0][0].shape[0] -np.abs(tr)\n",
    "jitterwindow = 25/bin_size/1000  #in ms\n",
    "rawcon,jitcon,ccgjittercon = get_ccgjitter(spik, FR, jitterwindow= int(jitterwindow))"
   ]
  },
  {
   "cell_type": "code",
   "execution_count": 74,
   "id": "201cfba9",
   "metadata": {},
   "outputs": [
    {
     "data": {
      "text/plain": [
       "(1, 299998, 2)"
      ]
     },
     "execution_count": 74,
     "metadata": {},
     "output_type": "execute_result"
    }
   ],
   "source": [
    "ccgjittercon.shape"
   ]
  },
  {
   "cell_type": "code",
   "execution_count": 75,
   "id": "fdfdc5eb",
   "metadata": {},
   "outputs": [
    {
     "name": "stderr",
     "output_type": "stream",
     "text": [
      "G:\\Anaconda\\lib\\site-packages\\matplotlib\\cbook\\__init__.py:1333: ComplexWarning: Casting complex values to real discards the imaginary part\n",
      "  return np.asarray(x, float)\n"
     ]
    },
    {
     "data": {
      "text/plain": [
       "Text(0.5, 0, 'Time(s)')"
      ]
     },
     "execution_count": 75,
     "metadata": {},
     "output_type": "execute_result"
    },
    {
     "data": {
      "image/png": "[encoded data removed]",
      "text/plain": [
       "<Figure size 432x288 with 1 Axes>"
      ]
     },
     "metadata": {
      "needs_background": "light"
     },
     "output_type": "display_data"
    }
   ],
   "source": [
    "plt.plot(tr*bin_size,ccgjittercon[0].T[0])\n",
    "# plt.xlim(-0.01,0.01)\n",
    "plt.xlabel(\"Time(s)\")"
   ]
  },
  {
   "cell_type": "code",
   "execution_count": null,
   "id": "83c31990",
   "metadata": {},
   "outputs": [],
   "source": []
  }
 ],
 "metadata": {
  "kernelspec": {
   "display_name": "Python 3 (ipykernel)",
   "language": "python",
   "name": "python3"
  },
  "language_info": {
   "codemirror_mode": {
    "name": "ipython",
    "version": 3
   },
   "file_extension": ".py",
   "mimetype": "text/x-python",
   "name": "python",
   "nbconvert_exporter": "python",
   "pygments_lexer": "ipython3",
   "version": "3.9.7"
  }
 },
 "nbformat": 4,
 "nbformat_minor": 5
}
