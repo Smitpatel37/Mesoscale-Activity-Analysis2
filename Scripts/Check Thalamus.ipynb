{
 "cells": [
  {
   "cell_type": "code",
   "execution_count": 2,
   "id": "e403fe98",
   "metadata": {},
   "outputs": [],
   "source": [
    "from pynwb import NWBHDF5IO, NWBFile, TimeSeries\n",
    "from pynwb.behavior import Position, SpatialSeries\n",
    "from pynwb.epoch import TimeIntervals\n",
    "from pynwb.file import Subject\n",
    "import numpy as np\n",
    "import pandas as pd\n",
    "import matplotlib.pyplot as plt\n",
    "from matplotlib import animation\n",
    "import matplotlib.pyplot as plt\n",
    "from matplotlib.animation import FuncAnimation\n",
    "from itertools import count\n",
    "from nwbwidgets import nwb2widget\n",
    "import glob"
   ]
  },
  {
   "cell_type": "code",
   "execution_count": 1,
   "id": "b9df8c54",
   "metadata": {},
   "outputs": [],
   "source": [
    "import ast\n",
    "def thal_check(M_name):\n",
    "    nwb_files = glob.glob(\"..\\%s\\*.nwb\"%(M_name))\n",
    "    nwb_io = []\n",
    "\n",
    "    for name in nwb_files:\n",
    "        io = NWBHDF5IO(name, mode=\"r\").read()\n",
    "        nwb_io.append(io)\n",
    "\n",
    "#     trials_df = []\n",
    "#     for i in range(len(nwb_files)):\n",
    "#         trials_df.append(nwb_io[i].trials.to_dataframe().drop(['trial','task','trial_uid', 'photostim_power','photostim_duration','auto_water', 'free_water'],axis=1))\n",
    "#         trials_df[i]['ses_no'] = i+1\n",
    "        \n",
    "    units_df = []\n",
    "    for i in range(len(nwb_files)):\n",
    "        units_df.append(nwb_io[i].units.to_dataframe().query(\"classification == 'good'\").reset_index())\n",
    "#         units_df[i]['ses_no'] = i+1\n",
    "#         units_df[i]['Region'] = units_df[i].electrodes.apply(lambda x: ast.literal_eval(x.location.values[0])['brain_regions'])\n",
    "    \n",
    "    for i in range(len(nwb_files)):\n",
    "        print(i+1,units_df[i].electrodes.apply(lambda x: ast.literal_eval(x.location.values[0])['brain_regions']).value_counts())\n",
    "    return units_df"
   ]
  },
  {
   "cell_type": "code",
   "execution_count": 9,
   "id": "3ec9f43e",
   "metadata": {},
   "outputs": [
    {
     "name": "stdout",
     "output_type": "stream",
     "text": [
      "1 left ALM          182\n",
      "left Thalamus     145\n",
      "right ALM         132\n",
      "right Thalamus    132\n",
      "Name: electrodes, dtype: int64\n",
      "2 left ALM          183\n",
      "right Thalamus    182\n",
      "right ALM         181\n",
      "left Thalamus     168\n",
      "Name: electrodes, dtype: int64\n",
      "3 right ALM         240\n",
      "left ALM          187\n",
      "right Thalamus    174\n",
      "left Thalamus     155\n",
      "Name: electrodes, dtype: int64\n",
      "4 right ALM        177\n",
      "left ALM         163\n",
      "left Striatum    128\n",
      "left Midbrain     62\n",
      "Name: electrodes, dtype: int64\n",
      "5 left Striatum    169\n",
      "right ALM        160\n",
      "left ALM         107\n",
      "left Midbrain     75\n",
      "Name: electrodes, dtype: int64\n",
      "6 right Striatum    98\n",
      "right Midbrain    68\n",
      "left ALM          64\n",
      "right ALM         27\n",
      "Name: electrodes, dtype: int64\n",
      "7 right Striatum    161\n",
      "right Midbrain     60\n",
      "Name: electrodes, dtype: int64\n"
     ]
    }
   ],
   "source": [
    "dff = thal_check('M480135')"
   ]
  },
  {
   "cell_type": "code",
   "execution_count": null,
   "id": "2c6da73b",
   "metadata": {},
   "outputs": [],
   "source": [
    "M456772\n",
    "M479149 # thal and ALM not in one session\n",
    "M480927\n",
    "M480928\n",
    "M480133\n",
    "M480134\n",
    "M480135"
   ]
  },
  {
   "cell_type": "code",
   "execution_count": null,
   "id": "c8a86d62",
   "metadata": {},
   "outputs": [],
   "source": []
  }
 ],
 "metadata": {
  "kernelspec": {
   "display_name": "Python 3 (ipykernel)",
   "language": "python",
   "name": "python3"
  },
  "language_info": {
   "codemirror_mode": {
    "name": "ipython",
    "version": 3
   },
   "file_extension": ".py",
   "mimetype": "text/x-python",
   "name": "python",
   "nbconvert_exporter": "python",
   "pygments_lexer": "ipython3",
   "version": "3.9.7"
  }
 },
 "nbformat": 4,
 "nbformat_minor": 5
}
