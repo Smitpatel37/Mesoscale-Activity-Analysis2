{
 "cells": [
  {
   "cell_type": "markdown",
   "id": "d9e2e46c",
   "metadata": {},
   "source": [
    "# File Structure \n",
    "- Project/MAT/'mat files'"
   ]
  },
  {
   "cell_type": "code",
   "execution_count": 1,
   "id": "d2803f46",
   "metadata": {},
   "outputs": [],
   "source": [
    "import scipy.io\n",
    "mat = scipy.io.loadmat('../MAT/medialALM_mask_150um3Dgauss_Bilateral.mat') #Projection zones file\n",
    "# ALM_mat = scipy.io.loadmat('../MAT/MouseLightData_ALM_100um.mat')"
   ]
  },
  {
   "cell_type": "code",
   "execution_count": 28,
   "id": "9beeadb6",
   "metadata": {},
   "outputs": [],
   "source": [
    "import numpy as np\n",
    "from mpl_toolkits import mplot3d\n",
    "import matplotlib.pyplot as plt\n",
    "import pandas as pd\n",
    "%pip install nibabel\n",
    "import nibabel as nib\n",
    "plt.style.use('seaborn-poster')\n",
    "vox = mat['F_smooth']"
   ]
  },
  {
   "cell_type": "markdown",
   "id": "86fa659c",
   "metadata": {},
   "source": [
    "# Prepping Data"
   ]
  },
  {
   "cell_type": "code",
   "execution_count": 113,
   "id": "8deeb000",
   "metadata": {},
   "outputs": [
    {
     "data": {
      "text/plain": [
       "array(['left ALM', 'left Thalamus', 'left Midbrain'], dtype=object)"
      ]
     },
     "execution_count": 113,
     "metadata": {},
     "output_type": "execute_result"
    }
   ],
   "source": [
    "import glob\n",
    "from pynwb import NWBHDF5IO, NWBFile, TimeSeries\n",
    "import ast\n",
    "\n",
    "Subject_name = 'M440959'\n",
    "\n",
    "nwb_files = glob.glob(\"..\\%s\\*.nwb\"%(Subject_name))\n",
    "nwb_io = []\n",
    "\n",
    "for name in nwb_files:\n",
    "    io = NWBHDF5IO(name, mode=\"r\").read()\n",
    "    nwb_io.append(io)\n",
    "    \n",
    "pre_start,pre_stop,sample_start,sample_stop,delay_start,delay_stop,go_start,go_stop = [],[],[],[],[],[],[],[]\n",
    "for name in nwb_files:  \n",
    "    with NWBHDF5IO(name, \"r\") as io:\n",
    "        read_nwbfile = io.read()\n",
    "        #print(read_nwbfile.acquisition[\"BehavioralEvents\"][\"trialend_start_times\"].timestamps[:4])\n",
    "        #print(read_nwbfile.acquisition[\"BehavioralEvents\"][\"trialend_stop_times\"].timestamps[:4])\n",
    "        pre_start.append(read_nwbfile.acquisition[\"BehavioralEvents\"][\"presample_start_times\"].timestamps[:])\n",
    "        pre_stop.append(read_nwbfile.acquisition[\"BehavioralEvents\"][\"presample_stop_times\"].timestamps[:])\n",
    "        sample_start.append(read_nwbfile.acquisition[\"BehavioralEvents\"][\"sample_start_times\"].timestamps[:])\n",
    "        sample_stop.append(read_nwbfile.acquisition[\"BehavioralEvents\"][\"sample_stop_times\"].timestamps[:])\n",
    "        delay_start.append(read_nwbfile.acquisition[\"BehavioralEvents\"][\"delay_start_times\"].timestamps[:])\n",
    "        delay_stop.append(read_nwbfile.acquisition[\"BehavioralEvents\"][\"delay_stop_times\"].timestamps[:])\n",
    "        go_start.append(read_nwbfile.acquisition[\"BehavioralEvents\"][\"go_start_times\"].timestamps[:])\n",
    "        go_stop.append(read_nwbfile.acquisition[\"BehavioralEvents\"][\"go_stop_times\"].timestamps[:])\n",
    "      \n",
    "      \n",
    "def Clean_data(pre_start,pre_stop,sample_start,sample_stop,delay_start,delay_stop,go_start,go_stop):\n",
    "    for i in range(len(pre_start)):\n",
    "        sample_start[i] = np.intersect1d(pre_stop[i], sample_start[i])\n",
    "        sample_stop[i] = np.intersect1d(sample_stop[i], delay_start[i])\n",
    "        delay_start[i] = np.intersect1d(delay_start[i], sample_stop[i])\n",
    "        delay_stop[i] = np.intersect1d(delay_stop[i], go_start[i])\n",
    "    return pre_start,pre_stop,sample_start,sample_stop,delay_start,delay_stop,go_start,go_stop\n",
    "\n",
    "pre_start,pre_stop,sample_start,sample_stop,delay_start,delay_stop,go_start,go_stop = Clean_data(pre_start,pre_stop,sample_start,sample_stop,delay_start,delay_stop,go_start,go_stop)\n",
    "    \n",
    "trials_df = []\n",
    "for i in range(len(nwb_files)):\n",
    "    trials_df.append(nwb_io[i].trials.to_dataframe().drop(['trial','task','trial_uid', 'photostim_power','photostim_duration','auto_water', 'free_water'],axis=1))\n",
    "    trials_df[i] = trials_df[i].assign(pre_start = pre_start[i],\n",
    "                         pre_stop = pre_stop[i],\n",
    "                         sample_start = pre_stop[i],\n",
    "                         sample_stop = sample_stop[i],\n",
    "                         delay_start = delay_start[i],\n",
    "                         delay_stop = delay_stop[i],\n",
    "                         go_start = go_start[i],\n",
    "                         go_stop = go_stop[i])\n",
    "    trials_df[i]['ses_no'] = i+1\n",
    "units_df = []\n",
    "for i in range(len(nwb_files)):\n",
    "    units_df.append(nwb_io[i].units.to_dataframe())\n",
    "#     units_df.append(nwb_io[i].units.to_dataframe().query(\"unit_quality == 'good'\").reset_index())\n",
    "    units_df[i]['ses_no'] = i+1\n",
    "    units_df[i]['Region'] = units_df[i].electrodes.apply(lambda x: ast.literal_eval(x.location.values[0])['brain_regions'])\n",
    "\n",
    "unit_result = pd.DataFrame()\n",
    "trial_result = pd.DataFrame()\n",
    "\n",
    "for i in range(len(nwb_files)):\n",
    "    trial_result = pd.concat([trial_result, trials_df[i]])\n",
    "    unit_result = pd.concat([unit_result, units_df[i]])\n",
    "\n",
    "unit_result.Region.unique()"
   ]
  },
  {
   "cell_type": "code",
   "execution_count": 115,
   "id": "99c1ccd3",
   "metadata": {},
   "outputs": [
    {
     "data": {
      "text/html": [
       "<div>\n",
       "<style scoped>\n",
       "    .dataframe tbody tr th:only-of-type {\n",
       "        vertical-align: middle;\n",
       "    }\n",
       "\n",
       "    .dataframe tbody tr th {\n",
       "        vertical-align: top;\n",
       "    }\n",
       "\n",
       "    .dataframe thead th {\n",
       "        text-align: right;\n",
       "    }\n",
       "</style>\n",
       "<table border=\"1\" class=\"dataframe\">\n",
       "  <thead>\n",
       "    <tr style=\"text-align: right;\">\n",
       "      <th></th>\n",
       "      <th>start_time</th>\n",
       "      <th>stop_time</th>\n",
       "      <th>photostim_onset</th>\n",
       "      <th>task_protocol</th>\n",
       "      <th>trial_instruction</th>\n",
       "      <th>early_lick</th>\n",
       "      <th>outcome</th>\n",
       "      <th>pre_start</th>\n",
       "      <th>pre_stop</th>\n",
       "      <th>sample_start</th>\n",
       "      <th>sample_stop</th>\n",
       "      <th>delay_start</th>\n",
       "      <th>delay_stop</th>\n",
       "      <th>go_start</th>\n",
       "      <th>go_stop</th>\n",
       "      <th>ses_no</th>\n",
       "    </tr>\n",
       "    <tr>\n",
       "      <th>id</th>\n",
       "      <th></th>\n",
       "      <th></th>\n",
       "      <th></th>\n",
       "      <th></th>\n",
       "      <th></th>\n",
       "      <th></th>\n",
       "      <th></th>\n",
       "      <th></th>\n",
       "      <th></th>\n",
       "      <th></th>\n",
       "      <th></th>\n",
       "      <th></th>\n",
       "      <th></th>\n",
       "      <th></th>\n",
       "      <th></th>\n",
       "      <th></th>\n",
       "    </tr>\n",
       "  </thead>\n",
       "  <tbody>\n",
       "    <tr>\n",
       "      <th>0</th>\n",
       "      <td>0.0000</td>\n",
       "      <td>5.1223</td>\n",
       "      <td>N/A</td>\n",
       "      <td>1</td>\n",
       "      <td>left</td>\n",
       "      <td>no early</td>\n",
       "      <td>hit</td>\n",
       "      <td>0.5000</td>\n",
       "      <td>0.5100</td>\n",
       "      <td>0.5100</td>\n",
       "      <td>1.9283</td>\n",
       "      <td>1.9283</td>\n",
       "      <td>3.1283</td>\n",
       "      <td>3.1283</td>\n",
       "      <td>3.1783</td>\n",
       "      <td>2</td>\n",
       "    </tr>\n",
       "    <tr>\n",
       "      <th>1</th>\n",
       "      <td>6.9136</td>\n",
       "      <td>11.7023</td>\n",
       "      <td>N/A</td>\n",
       "      <td>1</td>\n",
       "      <td>left</td>\n",
       "      <td>no early</td>\n",
       "      <td>hit</td>\n",
       "      <td>7.4136</td>\n",
       "      <td>7.4236</td>\n",
       "      <td>7.4236</td>\n",
       "      <td>8.7712</td>\n",
       "      <td>8.7712</td>\n",
       "      <td>9.9712</td>\n",
       "      <td>9.9712</td>\n",
       "      <td>10.0212</td>\n",
       "      <td>2</td>\n",
       "    </tr>\n",
       "    <tr>\n",
       "      <th>2</th>\n",
       "      <td>13.5671</td>\n",
       "      <td>18.3250</td>\n",
       "      <td>N/A</td>\n",
       "      <td>1</td>\n",
       "      <td>left</td>\n",
       "      <td>no early</td>\n",
       "      <td>hit</td>\n",
       "      <td>14.0671</td>\n",
       "      <td>14.0771</td>\n",
       "      <td>14.0771</td>\n",
       "      <td>15.4221</td>\n",
       "      <td>15.4221</td>\n",
       "      <td>16.6221</td>\n",
       "      <td>16.6221</td>\n",
       "      <td>16.6721</td>\n",
       "      <td>2</td>\n",
       "    </tr>\n",
       "    <tr>\n",
       "      <th>3</th>\n",
       "      <td>20.1132</td>\n",
       "      <td>25.0088</td>\n",
       "      <td>N/A</td>\n",
       "      <td>1</td>\n",
       "      <td>left</td>\n",
       "      <td>no early</td>\n",
       "      <td>hit</td>\n",
       "      <td>20.6132</td>\n",
       "      <td>20.6232</td>\n",
       "      <td>20.6232</td>\n",
       "      <td>22.0057</td>\n",
       "      <td>22.0057</td>\n",
       "      <td>23.2057</td>\n",
       "      <td>23.2057</td>\n",
       "      <td>23.2557</td>\n",
       "      <td>2</td>\n",
       "    </tr>\n",
       "    <tr>\n",
       "      <th>7</th>\n",
       "      <td>47.0590</td>\n",
       "      <td>51.9274</td>\n",
       "      <td>N/A</td>\n",
       "      <td>1</td>\n",
       "      <td>right</td>\n",
       "      <td>no early</td>\n",
       "      <td>hit</td>\n",
       "      <td>47.5590</td>\n",
       "      <td>47.5690</td>\n",
       "      <td>47.5690</td>\n",
       "      <td>49.0310</td>\n",
       "      <td>49.0310</td>\n",
       "      <td>50.2310</td>\n",
       "      <td>50.2310</td>\n",
       "      <td>50.2810</td>\n",
       "      <td>2</td>\n",
       "    </tr>\n",
       "    <tr>\n",
       "      <th>...</th>\n",
       "      <td>...</td>\n",
       "      <td>...</td>\n",
       "      <td>...</td>\n",
       "      <td>...</td>\n",
       "      <td>...</td>\n",
       "      <td>...</td>\n",
       "      <td>...</td>\n",
       "      <td>...</td>\n",
       "      <td>...</td>\n",
       "      <td>...</td>\n",
       "      <td>...</td>\n",
       "      <td>...</td>\n",
       "      <td>...</td>\n",
       "      <td>...</td>\n",
       "      <td>...</td>\n",
       "      <td>...</td>\n",
       "    </tr>\n",
       "    <tr>\n",
       "      <th>509</th>\n",
       "      <td>3616.2004</td>\n",
       "      <td>3621.0991</td>\n",
       "      <td>N/A</td>\n",
       "      <td>1</td>\n",
       "      <td>left</td>\n",
       "      <td>no early</td>\n",
       "      <td>hit</td>\n",
       "      <td>3616.7004</td>\n",
       "      <td>3616.7104</td>\n",
       "      <td>3616.7104</td>\n",
       "      <td>3618.0980</td>\n",
       "      <td>3618.0980</td>\n",
       "      <td>3619.2980</td>\n",
       "      <td>3619.2980</td>\n",
       "      <td>3619.3480</td>\n",
       "      <td>2</td>\n",
       "    </tr>\n",
       "    <tr>\n",
       "      <th>511</th>\n",
       "      <td>3633.1094</td>\n",
       "      <td>3637.9340</td>\n",
       "      <td>N/A</td>\n",
       "      <td>1</td>\n",
       "      <td>left</td>\n",
       "      <td>no early</td>\n",
       "      <td>hit</td>\n",
       "      <td>3633.6094</td>\n",
       "      <td>3633.6194</td>\n",
       "      <td>3633.6194</td>\n",
       "      <td>3635.0440</td>\n",
       "      <td>3635.0440</td>\n",
       "      <td>3636.2440</td>\n",
       "      <td>3636.2440</td>\n",
       "      <td>3636.2940</td>\n",
       "      <td>2</td>\n",
       "    </tr>\n",
       "    <tr>\n",
       "      <th>512</th>\n",
       "      <td>3640.2459</td>\n",
       "      <td>3645.0135</td>\n",
       "      <td>1.917</td>\n",
       "      <td>1</td>\n",
       "      <td>right</td>\n",
       "      <td>no early</td>\n",
       "      <td>hit</td>\n",
       "      <td>3640.7459</td>\n",
       "      <td>3640.7559</td>\n",
       "      <td>3640.7559</td>\n",
       "      <td>3642.1629</td>\n",
       "      <td>3642.1629</td>\n",
       "      <td>3643.3629</td>\n",
       "      <td>3643.3629</td>\n",
       "      <td>3643.4129</td>\n",
       "      <td>2</td>\n",
       "    </tr>\n",
       "    <tr>\n",
       "      <th>517</th>\n",
       "      <td>3678.6254</td>\n",
       "      <td>3683.5835</td>\n",
       "      <td>N/A</td>\n",
       "      <td>1</td>\n",
       "      <td>left</td>\n",
       "      <td>no early</td>\n",
       "      <td>hit</td>\n",
       "      <td>3679.1254</td>\n",
       "      <td>3679.1354</td>\n",
       "      <td>3679.1354</td>\n",
       "      <td>3680.6462</td>\n",
       "      <td>3680.6462</td>\n",
       "      <td>3681.8462</td>\n",
       "      <td>3681.8462</td>\n",
       "      <td>3681.8962</td>\n",
       "      <td>2</td>\n",
       "    </tr>\n",
       "    <tr>\n",
       "      <th>520</th>\n",
       "      <td>3700.6841</td>\n",
       "      <td>3705.6419</td>\n",
       "      <td>N/A</td>\n",
       "      <td>1</td>\n",
       "      <td>left</td>\n",
       "      <td>no early</td>\n",
       "      <td>hit</td>\n",
       "      <td>3701.1841</td>\n",
       "      <td>3701.1941</td>\n",
       "      <td>3701.1941</td>\n",
       "      <td>3702.6939</td>\n",
       "      <td>3702.6939</td>\n",
       "      <td>3703.8939</td>\n",
       "      <td>3703.8939</td>\n",
       "      <td>3703.9439</td>\n",
       "      <td>2</td>\n",
       "    </tr>\n",
       "  </tbody>\n",
       "</table>\n",
       "<p>242 rows × 16 columns</p>\n",
       "</div>"
      ],
      "text/plain": [
       "     start_time  stop_time photostim_onset  task_protocol trial_instruction  \\\n",
       "id                                                                            \n",
       "0        0.0000     5.1223             N/A              1              left   \n",
       "1        6.9136    11.7023             N/A              1              left   \n",
       "2       13.5671    18.3250             N/A              1              left   \n",
       "3       20.1132    25.0088             N/A              1              left   \n",
       "7       47.0590    51.9274             N/A              1             right   \n",
       "..          ...        ...             ...            ...               ...   \n",
       "509   3616.2004  3621.0991             N/A              1              left   \n",
       "511   3633.1094  3637.9340             N/A              1              left   \n",
       "512   3640.2459  3645.0135           1.917              1             right   \n",
       "517   3678.6254  3683.5835             N/A              1              left   \n",
       "520   3700.6841  3705.6419             N/A              1              left   \n",
       "\n",
       "    early_lick outcome  pre_start   pre_stop  sample_start  sample_stop  \\\n",
       "id                                                                        \n",
       "0     no early     hit     0.5000     0.5100        0.5100       1.9283   \n",
       "1     no early     hit     7.4136     7.4236        7.4236       8.7712   \n",
       "2     no early     hit    14.0671    14.0771       14.0771      15.4221   \n",
       "3     no early     hit    20.6132    20.6232       20.6232      22.0057   \n",
       "7     no early     hit    47.5590    47.5690       47.5690      49.0310   \n",
       "..         ...     ...        ...        ...           ...          ...   \n",
       "509   no early     hit  3616.7004  3616.7104     3616.7104    3618.0980   \n",
       "511   no early     hit  3633.6094  3633.6194     3633.6194    3635.0440   \n",
       "512   no early     hit  3640.7459  3640.7559     3640.7559    3642.1629   \n",
       "517   no early     hit  3679.1254  3679.1354     3679.1354    3680.6462   \n",
       "520   no early     hit  3701.1841  3701.1941     3701.1941    3702.6939   \n",
       "\n",
       "     delay_start  delay_stop   go_start    go_stop  ses_no  \n",
       "id                                                          \n",
       "0         1.9283      3.1283     3.1283     3.1783       2  \n",
       "1         8.7712      9.9712     9.9712    10.0212       2  \n",
       "2        15.4221     16.6221    16.6221    16.6721       2  \n",
       "3        22.0057     23.2057    23.2057    23.2557       2  \n",
       "7        49.0310     50.2310    50.2310    50.2810       2  \n",
       "..           ...         ...        ...        ...     ...  \n",
       "509    3618.0980   3619.2980  3619.2980  3619.3480       2  \n",
       "511    3635.0440   3636.2440  3636.2440  3636.2940       2  \n",
       "512    3642.1629   3643.3629  3643.3629  3643.4129       2  \n",
       "517    3680.6462   3681.8462  3681.8462  3681.8962       2  \n",
       "520    3702.6939   3703.8939  3703.8939  3703.9439       2  \n",
       "\n",
       "[242 rows x 16 columns]"
      ]
     },
     "execution_count": 115,
     "metadata": {},
     "output_type": "execute_result"
    }
   ],
   "source": [
    "trials_Data = trial_result.query(\"outcome == 'hit' \")  #photostim_onset == 'N/A' and \n",
    "trials_Data_L = trials_Data.query(\"early_lick == 'no early' \")\n",
    "trials_Data_L = trials_Data_L.query(\" ses_no == 2 \")\n",
    "trials_Data_L\n",
    "\n",
    "# ADDITIONAL QUERIES\n",
    "# trials_Data = trials_Data.query(\" (delay_stop - delay_start) > 1 and (delay_stop - delay_start) < 1.3\")\n",
    "# trials_Data = trials_Data.query(\" (stop_time - start_time) < 5.3\")\n",
    "# trials_Data[ trials_Data['trial_instruction'] == 'left'].reset_index().query(\" ses_no == 2 \")"
   ]
  },
  {
   "cell_type": "code",
   "execution_count": 116,
   "id": "5e318bad",
   "metadata": {},
   "outputs": [
    {
     "data": {
      "text/html": [
       "<div>\n",
       "<style scoped>\n",
       "    .dataframe tbody tr th:only-of-type {\n",
       "        vertical-align: middle;\n",
       "    }\n",
       "\n",
       "    .dataframe tbody tr th {\n",
       "        vertical-align: top;\n",
       "    }\n",
       "\n",
       "    .dataframe thead th {\n",
       "        text-align: right;\n",
       "    }\n",
       "</style>\n",
       "<table border=\"1\" class=\"dataframe\">\n",
       "  <thead>\n",
       "    <tr style=\"text-align: right;\">\n",
       "      <th></th>\n",
       "      <th>unit</th>\n",
       "      <th>sampling_rate</th>\n",
       "      <th>unit_quality</th>\n",
       "      <th>unit_posx</th>\n",
       "      <th>unit_posy</th>\n",
       "      <th>unit_amp</th>\n",
       "      <th>unit_snr</th>\n",
       "      <th>isi_violation</th>\n",
       "      <th>avg_firing_rate</th>\n",
       "      <th>drift_metric</th>\n",
       "      <th>...</th>\n",
       "      <th>anno_name</th>\n",
       "      <th>is_good_trials</th>\n",
       "      <th>spike_times</th>\n",
       "      <th>obs_intervals</th>\n",
       "      <th>electrodes</th>\n",
       "      <th>electrode_group</th>\n",
       "      <th>waveform_mean</th>\n",
       "      <th>waveform_sd</th>\n",
       "      <th>ses_no</th>\n",
       "      <th>Region</th>\n",
       "    </tr>\n",
       "    <tr>\n",
       "      <th>id</th>\n",
       "      <th></th>\n",
       "      <th></th>\n",
       "      <th></th>\n",
       "      <th></th>\n",
       "      <th></th>\n",
       "      <th></th>\n",
       "      <th></th>\n",
       "      <th></th>\n",
       "      <th></th>\n",
       "      <th></th>\n",
       "      <th></th>\n",
       "      <th></th>\n",
       "      <th></th>\n",
       "      <th></th>\n",
       "      <th></th>\n",
       "      <th></th>\n",
       "      <th></th>\n",
       "      <th></th>\n",
       "      <th></th>\n",
       "      <th></th>\n",
       "      <th></th>\n",
       "    </tr>\n",
       "  </thead>\n",
       "  <tbody>\n",
       "    <tr>\n",
       "      <th>0</th>\n",
       "      <td>0</td>\n",
       "      <td>30000</td>\n",
       "      <td>good</td>\n",
       "      <td>27.0</td>\n",
       "      <td>120.0</td>\n",
       "      <td>79.973083</td>\n",
       "      <td>3.839977</td>\n",
       "      <td>0.127551</td>\n",
       "      <td>4.577090</td>\n",
       "      <td>0.850966</td>\n",
       "      <td>...</td>\n",
       "      <td></td>\n",
       "      <td>[True, True, True, True, True, True, True, Tru...</td>\n",
       "      <td>[0.7801871832175418, 1.062222055991222, 1.6876...</td>\n",
       "      <td>[[0.0, 5.1223], [6.9136, 11.7023], [13.5671, 1...</td>\n",
       "      <td>l...</td>\n",
       "      <td>17216703352 1-301 pynwb.ecephys.ElectrodeGroup...</td>\n",
       "      <td>[0.3791360294117647, 0.07878151260504201, 0.28...</td>\n",
       "      <td>[nan]</td>\n",
       "      <td>2</td>\n",
       "      <td>left ALM</td>\n",
       "    </tr>\n",
       "    <tr>\n",
       "      <th>1</th>\n",
       "      <td>1</td>\n",
       "      <td>30000</td>\n",
       "      <td>good</td>\n",
       "      <td>59.0</td>\n",
       "      <td>120.0</td>\n",
       "      <td>133.676258</td>\n",
       "      <td>4.844900</td>\n",
       "      <td>1.000000</td>\n",
       "      <td>2.427770</td>\n",
       "      <td>0.313590</td>\n",
       "      <td>...</td>\n",
       "      <td></td>\n",
       "      <td>[True, True, True, True, True, True, True, Tru...</td>\n",
       "      <td>[11.048305879202925, 17.53857166907453, 17.598...</td>\n",
       "      <td>[[0.0, 5.1223], [6.9136, 11.7023], [13.5671, 1...</td>\n",
       "      <td>l...</td>\n",
       "      <td>17216703352 1-301 pynwb.ecephys.ElectrodeGroup...</td>\n",
       "      <td>[1.4335808580858085, 0.7915635313531353, 0.363...</td>\n",
       "      <td>[nan]</td>\n",
       "      <td>2</td>\n",
       "      <td>left ALM</td>\n",
       "    </tr>\n",
       "    <tr>\n",
       "      <th>2</th>\n",
       "      <td>2</td>\n",
       "      <td>30000</td>\n",
       "      <td>multi</td>\n",
       "      <td>27.0</td>\n",
       "      <td>160.0</td>\n",
       "      <td>98.935309</td>\n",
       "      <td>3.525485</td>\n",
       "      <td>0.261468</td>\n",
       "      <td>7.622420</td>\n",
       "      <td>0.590999</td>\n",
       "      <td>...</td>\n",
       "      <td></td>\n",
       "      <td>[True, True, True, True, True, True, True, Tru...</td>\n",
       "      <td>[0.09491677611656968, 0.16195047534217766, 0.3...</td>\n",
       "      <td>[[0.0, 5.1223], [6.9136, 11.7023], [13.5671, 1...</td>\n",
       "      <td>l...</td>\n",
       "      <td>17216703352 1-301 pynwb.ecephys.ElectrodeGroup...</td>\n",
       "      <td>[-0.48589939024390244, -0.37633384146341464, -...</td>\n",
       "      <td>[nan]</td>\n",
       "      <td>2</td>\n",
       "      <td>left ALM</td>\n",
       "    </tr>\n",
       "    <tr>\n",
       "      <th>3</th>\n",
       "      <td>3</td>\n",
       "      <td>30000</td>\n",
       "      <td>good</td>\n",
       "      <td>43.0</td>\n",
       "      <td>180.0</td>\n",
       "      <td>96.232888</td>\n",
       "      <td>3.391361</td>\n",
       "      <td>0.001715</td>\n",
       "      <td>6.522770</td>\n",
       "      <td>0.554765</td>\n",
       "      <td>...</td>\n",
       "      <td></td>\n",
       "      <td>[True, True, True, True, True, True, True, Tru...</td>\n",
       "      <td>[1.160889261216384, 2.781531440554946, 3.19526...</td>\n",
       "      <td>[[0.0, 5.1223], [6.9136, 11.7023], [13.5671, 1...</td>\n",
       "      <td>l...</td>\n",
       "      <td>17216703352 1-301 pynwb.ecephys.ElectrodeGroup...</td>\n",
       "      <td>[-1.6336681166837257, -2.0031026100307066, -1....</td>\n",
       "      <td>[nan]</td>\n",
       "      <td>2</td>\n",
       "      <td>left ALM</td>\n",
       "    </tr>\n",
       "    <tr>\n",
       "      <th>4</th>\n",
       "      <td>4</td>\n",
       "      <td>30000</td>\n",
       "      <td>good</td>\n",
       "      <td>27.0</td>\n",
       "      <td>200.0</td>\n",
       "      <td>92.239949</td>\n",
       "      <td>3.515121</td>\n",
       "      <td>0.021369</td>\n",
       "      <td>16.798500</td>\n",
       "      <td>0.296667</td>\n",
       "      <td>...</td>\n",
       "      <td></td>\n",
       "      <td>[True, True, True, True, True, True, True, Tru...</td>\n",
       "      <td>[0.027449741192337118, 0.04358316258726225, 0....</td>\n",
       "      <td>[[0.0, 5.1223], [6.9136, 11.7023], [13.5671, 1...</td>\n",
       "      <td>l...</td>\n",
       "      <td>17216703352 1-301 pynwb.ecephys.ElectrodeGroup...</td>\n",
       "      <td>[0.3945390781563127, -0.030529809619238478, 0....</td>\n",
       "      <td>[nan]</td>\n",
       "      <td>2</td>\n",
       "      <td>left ALM</td>\n",
       "    </tr>\n",
       "    <tr>\n",
       "      <th>...</th>\n",
       "      <td>...</td>\n",
       "      <td>...</td>\n",
       "      <td>...</td>\n",
       "      <td>...</td>\n",
       "      <td>...</td>\n",
       "      <td>...</td>\n",
       "      <td>...</td>\n",
       "      <td>...</td>\n",
       "      <td>...</td>\n",
       "      <td>...</td>\n",
       "      <td>...</td>\n",
       "      <td>...</td>\n",
       "      <td>...</td>\n",
       "      <td>...</td>\n",
       "      <td>...</td>\n",
       "      <td>...</td>\n",
       "      <td>...</td>\n",
       "      <td>...</td>\n",
       "      <td>...</td>\n",
       "      <td>...</td>\n",
       "      <td>...</td>\n",
       "    </tr>\n",
       "    <tr>\n",
       "      <th>180</th>\n",
       "      <td>183</td>\n",
       "      <td>30000</td>\n",
       "      <td>multi</td>\n",
       "      <td>59.0</td>\n",
       "      <td>2080.0</td>\n",
       "      <td>66.387195</td>\n",
       "      <td>2.532532</td>\n",
       "      <td>0.209699</td>\n",
       "      <td>2.890070</td>\n",
       "      <td>0.397529</td>\n",
       "      <td>...</td>\n",
       "      <td></td>\n",
       "      <td>[True, True, True, True, True, True, True, Tru...</td>\n",
       "      <td>[0.015116340539191864, 0.028983082895160717, 0...</td>\n",
       "      <td>[[0.0, 5.1223], [6.9136, 11.7023], [13.5671, 1...</td>\n",
       "      <td>...</td>\n",
       "      <td>17216703352 1-301 pynwb.ecephys.ElectrodeGroup...</td>\n",
       "      <td>[2.7843940548780486, 3.0130525914634148, 2.458...</td>\n",
       "      <td>[nan]</td>\n",
       "      <td>2</td>\n",
       "      <td>left ALM</td>\n",
       "    </tr>\n",
       "    <tr>\n",
       "      <th>181</th>\n",
       "      <td>184</td>\n",
       "      <td>30000</td>\n",
       "      <td>multi</td>\n",
       "      <td>59.0</td>\n",
       "      <td>2080.0</td>\n",
       "      <td>113.495662</td>\n",
       "      <td>4.330282</td>\n",
       "      <td>0.202085</td>\n",
       "      <td>1.778400</td>\n",
       "      <td>0.361503</td>\n",
       "      <td>...</td>\n",
       "      <td>Frontal pole, layer 5</td>\n",
       "      <td>[True, True, True, True, True, True, True, Tru...</td>\n",
       "      <td>[0.017749688246214923, 1.3704570717740165, 1.6...</td>\n",
       "      <td>[[0.0, 5.1223], [6.9136, 11.7023], [13.5671, 1...</td>\n",
       "      <td>...</td>\n",
       "      <td>17216703352 1-301 pynwb.ecephys.ElectrodeGroup...</td>\n",
       "      <td>[6.030658517350157, 5.133576498422713, 3.68197...</td>\n",
       "      <td>[nan]</td>\n",
       "      <td>2</td>\n",
       "      <td>left ALM</td>\n",
       "    </tr>\n",
       "    <tr>\n",
       "      <th>182</th>\n",
       "      <td>185</td>\n",
       "      <td>30000</td>\n",
       "      <td>good</td>\n",
       "      <td>43.0</td>\n",
       "      <td>2180.0</td>\n",
       "      <td>90.684912</td>\n",
       "      <td>3.698110</td>\n",
       "      <td>0.000000</td>\n",
       "      <td>1.045400</td>\n",
       "      <td>0.470359</td>\n",
       "      <td>...</td>\n",
       "      <td>Frontal pole, layer 5</td>\n",
       "      <td>[True, True, True, True, True, True, True, Tru...</td>\n",
       "      <td>[44.571768159347045, 54.24238618870378, 54.628...</td>\n",
       "      <td>[[0.0, 5.1223], [6.9136, 11.7023], [13.5671, 1...</td>\n",
       "      <td>...</td>\n",
       "      <td>17216703352 1-301 pynwb.ecephys.ElectrodeGroup...</td>\n",
       "      <td>[3.4676955521472395, 3.5515720858895707, 2.777...</td>\n",
       "      <td>[nan]</td>\n",
       "      <td>2</td>\n",
       "      <td>left ALM</td>\n",
       "    </tr>\n",
       "    <tr>\n",
       "      <th>183</th>\n",
       "      <td>186</td>\n",
       "      <td>30000</td>\n",
       "      <td>multi</td>\n",
       "      <td>43.0</td>\n",
       "      <td>2420.0</td>\n",
       "      <td>42.424751</td>\n",
       "      <td>1.807393</td>\n",
       "      <td>0.000000</td>\n",
       "      <td>0.087116</td>\n",
       "      <td>0.077346</td>\n",
       "      <td>...</td>\n",
       "      <td></td>\n",
       "      <td>[True, True, True, True, True, True, True, Tru...</td>\n",
       "      <td>[10.36200213312831, 10.417435769036906, 16.045...</td>\n",
       "      <td>[[0.0, 5.1223], [6.9136, 11.7023], [13.5671, 1...</td>\n",
       "      <td>...</td>\n",
       "      <td>17216703352 1-301 pynwb.ecephys.ElectrodeGroup...</td>\n",
       "      <td>[2.408454754601227, 2.7032208588957056, 2.3581...</td>\n",
       "      <td>[nan]</td>\n",
       "      <td>2</td>\n",
       "      <td>left ALM</td>\n",
       "    </tr>\n",
       "    <tr>\n",
       "      <th>184</th>\n",
       "      <td>187</td>\n",
       "      <td>30000</td>\n",
       "      <td>good</td>\n",
       "      <td>11.0</td>\n",
       "      <td>2740.0</td>\n",
       "      <td>57.729945</td>\n",
       "      <td>4.469136</td>\n",
       "      <td>1.000000</td>\n",
       "      <td>0.207369</td>\n",
       "      <td>0.083524</td>\n",
       "      <td>...</td>\n",
       "      <td></td>\n",
       "      <td>[True, True, True, True, True, True, True, Tru...</td>\n",
       "      <td>[17.265303510819162, 37.779634718302006, 37.84...</td>\n",
       "      <td>[[0.0, 5.1223], [6.9136, 11.7023], [13.5671, 1...</td>\n",
       "      <td>...</td>\n",
       "      <td>17216703352 1-301 pynwb.ecephys.ElectrodeGroup...</td>\n",
       "      <td>[1.0601240335051547, 1.1688547036082475, 0.839...</td>\n",
       "      <td>[nan]</td>\n",
       "      <td>2</td>\n",
       "      <td>left ALM</td>\n",
       "    </tr>\n",
       "  </tbody>\n",
       "</table>\n",
       "<p>185 rows × 41 columns</p>\n",
       "</div>"
      ],
      "text/plain": [
       "     unit  sampling_rate unit_quality  unit_posx  unit_posy    unit_amp  \\\n",
       "id                                                                        \n",
       "0       0          30000         good       27.0      120.0   79.973083   \n",
       "1       1          30000         good       59.0      120.0  133.676258   \n",
       "2       2          30000        multi       27.0      160.0   98.935309   \n",
       "3       3          30000         good       43.0      180.0   96.232888   \n",
       "4       4          30000         good       27.0      200.0   92.239949   \n",
       "..    ...            ...          ...        ...        ...         ...   \n",
       "180   183          30000        multi       59.0     2080.0   66.387195   \n",
       "181   184          30000        multi       59.0     2080.0  113.495662   \n",
       "182   185          30000         good       43.0     2180.0   90.684912   \n",
       "183   186          30000        multi       43.0     2420.0   42.424751   \n",
       "184   187          30000         good       11.0     2740.0   57.729945   \n",
       "\n",
       "     unit_snr  isi_violation  avg_firing_rate  drift_metric  ...  \\\n",
       "id                                                           ...   \n",
       "0    3.839977       0.127551         4.577090      0.850966  ...   \n",
       "1    4.844900       1.000000         2.427770      0.313590  ...   \n",
       "2    3.525485       0.261468         7.622420      0.590999  ...   \n",
       "3    3.391361       0.001715         6.522770      0.554765  ...   \n",
       "4    3.515121       0.021369        16.798500      0.296667  ...   \n",
       "..        ...            ...              ...           ...  ...   \n",
       "180  2.532532       0.209699         2.890070      0.397529  ...   \n",
       "181  4.330282       0.202085         1.778400      0.361503  ...   \n",
       "182  3.698110       0.000000         1.045400      0.470359  ...   \n",
       "183  1.807393       0.000000         0.087116      0.077346  ...   \n",
       "184  4.469136       1.000000         0.207369      0.083524  ...   \n",
       "\n",
       "                 anno_name                                     is_good_trials  \\\n",
       "id                                                                              \n",
       "0                           [True, True, True, True, True, True, True, Tru...   \n",
       "1                           [True, True, True, True, True, True, True, Tru...   \n",
       "2                           [True, True, True, True, True, True, True, Tru...   \n",
       "3                           [True, True, True, True, True, True, True, Tru...   \n",
       "4                           [True, True, True, True, True, True, True, Tru...   \n",
       "..                     ...                                                ...   \n",
       "180                         [True, True, True, True, True, True, True, Tru...   \n",
       "181  Frontal pole, layer 5  [True, True, True, True, True, True, True, Tru...   \n",
       "182  Frontal pole, layer 5  [True, True, True, True, True, True, True, Tru...   \n",
       "183                         [True, True, True, True, True, True, True, Tru...   \n",
       "184                         [True, True, True, True, True, True, True, Tru...   \n",
       "\n",
       "                                           spike_times  \\\n",
       "id                                                       \n",
       "0    [0.7801871832175418, 1.062222055991222, 1.6876...   \n",
       "1    [11.048305879202925, 17.53857166907453, 17.598...   \n",
       "2    [0.09491677611656968, 0.16195047534217766, 0.3...   \n",
       "3    [1.160889261216384, 2.781531440554946, 3.19526...   \n",
       "4    [0.027449741192337118, 0.04358316258726225, 0....   \n",
       "..                                                 ...   \n",
       "180  [0.015116340539191864, 0.028983082895160717, 0...   \n",
       "181  [0.017749688246214923, 1.3704570717740165, 1.6...   \n",
       "182  [44.571768159347045, 54.24238618870378, 54.628...   \n",
       "183  [10.36200213312831, 10.417435769036906, 16.045...   \n",
       "184  [17.265303510819162, 37.779634718302006, 37.84...   \n",
       "\n",
       "                                         obs_intervals  \\\n",
       "id                                                       \n",
       "0    [[0.0, 5.1223], [6.9136, 11.7023], [13.5671, 1...   \n",
       "1    [[0.0, 5.1223], [6.9136, 11.7023], [13.5671, 1...   \n",
       "2    [[0.0, 5.1223], [6.9136, 11.7023], [13.5671, 1...   \n",
       "3    [[0.0, 5.1223], [6.9136, 11.7023], [13.5671, 1...   \n",
       "4    [[0.0, 5.1223], [6.9136, 11.7023], [13.5671, 1...   \n",
       "..                                                 ...   \n",
       "180  [[0.0, 5.1223], [6.9136, 11.7023], [13.5671, 1...   \n",
       "181  [[0.0, 5.1223], [6.9136, 11.7023], [13.5671, 1...   \n",
       "182  [[0.0, 5.1223], [6.9136, 11.7023], [13.5671, 1...   \n",
       "183  [[0.0, 5.1223], [6.9136, 11.7023], [13.5671, 1...   \n",
       "184  [[0.0, 5.1223], [6.9136, 11.7023], [13.5671, 1...   \n",
       "\n",
       "                                            electrodes  \\\n",
       "id                                                       \n",
       "0                                                 l...   \n",
       "1                                                 l...   \n",
       "2                                                 l...   \n",
       "3                                                 l...   \n",
       "4                                                 l...   \n",
       "..                                                 ...   \n",
       "180                                                ...   \n",
       "181                                                ...   \n",
       "182                                                ...   \n",
       "183                                                ...   \n",
       "184                                                ...   \n",
       "\n",
       "                                       electrode_group  \\\n",
       "id                                                       \n",
       "0    17216703352 1-301 pynwb.ecephys.ElectrodeGroup...   \n",
       "1    17216703352 1-301 pynwb.ecephys.ElectrodeGroup...   \n",
       "2    17216703352 1-301 pynwb.ecephys.ElectrodeGroup...   \n",
       "3    17216703352 1-301 pynwb.ecephys.ElectrodeGroup...   \n",
       "4    17216703352 1-301 pynwb.ecephys.ElectrodeGroup...   \n",
       "..                                                 ...   \n",
       "180  17216703352 1-301 pynwb.ecephys.ElectrodeGroup...   \n",
       "181  17216703352 1-301 pynwb.ecephys.ElectrodeGroup...   \n",
       "182  17216703352 1-301 pynwb.ecephys.ElectrodeGroup...   \n",
       "183  17216703352 1-301 pynwb.ecephys.ElectrodeGroup...   \n",
       "184  17216703352 1-301 pynwb.ecephys.ElectrodeGroup...   \n",
       "\n",
       "                                         waveform_mean  waveform_sd  ses_no  \\\n",
       "id                                                                            \n",
       "0    [0.3791360294117647, 0.07878151260504201, 0.28...        [nan]       2   \n",
       "1    [1.4335808580858085, 0.7915635313531353, 0.363...        [nan]       2   \n",
       "2    [-0.48589939024390244, -0.37633384146341464, -...        [nan]       2   \n",
       "3    [-1.6336681166837257, -2.0031026100307066, -1....        [nan]       2   \n",
       "4    [0.3945390781563127, -0.030529809619238478, 0....        [nan]       2   \n",
       "..                                                 ...          ...     ...   \n",
       "180  [2.7843940548780486, 3.0130525914634148, 2.458...        [nan]       2   \n",
       "181  [6.030658517350157, 5.133576498422713, 3.68197...        [nan]       2   \n",
       "182  [3.4676955521472395, 3.5515720858895707, 2.777...        [nan]       2   \n",
       "183  [2.408454754601227, 2.7032208588957056, 2.3581...        [nan]       2   \n",
       "184  [1.0601240335051547, 1.1688547036082475, 0.839...        [nan]       2   \n",
       "\n",
       "       Region  \n",
       "id             \n",
       "0    left ALM  \n",
       "1    left ALM  \n",
       "2    left ALM  \n",
       "3    left ALM  \n",
       "4    left ALM  \n",
       "..        ...  \n",
       "180  left ALM  \n",
       "181  left ALM  \n",
       "182  left ALM  \n",
       "183  left ALM  \n",
       "184  left ALM  \n",
       "\n",
       "[185 rows x 41 columns]"
      ]
     },
     "execution_count": 116,
     "metadata": {},
     "output_type": "execute_result"
    }
   ],
   "source": [
    "unit_result.query(\" Region == 'left ALM' and ses_no == 2\")"
   ]
  },
  {
   "cell_type": "code",
   "execution_count": 117,
   "id": "6eff5db3",
   "metadata": {},
   "outputs": [
    {
     "data": {
      "text/plain": [
       "left Thalamus    773\n",
       "left Midbrain    397\n",
       "left ALM         396\n",
       "Name: Region, dtype: int64"
      ]
     },
     "execution_count": 117,
     "metadata": {},
     "output_type": "execute_result"
    }
   ],
   "source": [
    "unit_result.Region.value_counts()"
   ]
  },
  {
   "cell_type": "code",
   "execution_count": 118,
   "id": "9e3ab668",
   "metadata": {},
   "outputs": [],
   "source": [
    "def plot_smooth_gauss(spike_data,sigma,color,dataset):\n",
    "    hist, edges = np.histogram(np.hstack(spike_data), bins=(np.arange(1001)/200) - 1)\n",
    "    freq = (hist/len(dataset))*200\n",
    "    width = np.diff(edges)\n",
    "    smooth_gauss = []\n",
    "\n",
    "    for i in edges[1:]:\n",
    "        gauss = np.exp((- ( edges[1:] - i) ** 2) / ( 2 * (sigma**2) ) )\n",
    "        gauss /=  sum(gauss)\n",
    "        smooth_gauss.append(sum(gauss*freq))\n",
    "    plt.plot(edges[1:],smooth_gauss,color=color)\n",
    "    \n",
    "def return_smooth_gauss(spike_data,sigma,dataset):\n",
    "    hist, edges = np.histogram(np.hstack(spike_data), bins=(np.arange(1001)/200) - 1)\n",
    "    freq = (hist/len(dataset))*200\n",
    "    width = np.diff(edges)\n",
    "    smooth_gauss = []\n",
    "\n",
    "    for i in edges[1:]:\n",
    "        gauss = np.exp((- ( edges[1:] - i) ** 2) / ( 2 * (sigma**2) ) )\n",
    "        gauss /=  sum(gauss)\n",
    "        smooth_gauss.append(sum(gauss*freq))\n",
    "    \n",
    "    return freq,edges[1:],smooth_gauss"
   ]
  },
  {
   "cell_type": "markdown",
   "id": "329bb4ff",
   "metadata": {},
   "source": [
    "# Getting CCF locations and checking Overlapping with MAT files"
   ]
  },
  {
   "cell_type": "code",
   "execution_count": 119,
   "id": "230cbda4",
   "metadata": {},
   "outputs": [],
   "source": [
    "units_Data = unit_result.query(\" Region == 'left Thalamus' and ses_no == 1\")\n",
    "\n",
    "def get_ccf(unit_number):\n",
    "    x = float(units_Data.electrodes[unit_number].reset_index().x.values)\n",
    "    y = float(units_Data.electrodes[unit_number].reset_index().y.values)\n",
    "    z = float(units_Data.electrodes[unit_number].reset_index().z.values)\n",
    "    return x, y, z"
   ]
  },
  {
   "cell_type": "code",
   "execution_count": 120,
   "id": "f3f03abd",
   "metadata": {},
   "outputs": [],
   "source": [
    "x,y,z=[],[],[]\n",
    "for i in list(units_Data.electrodes.reset_index().iloc[:,0]):\n",
    "    try:\n",
    "        x_ccf, y_ccf, z_ccf = get_ccf(i)\n",
    "        x.append(x_ccf)\n",
    "        y.append(y_ccf)\n",
    "        z.append(z_ccf)\n",
    "\n",
    "    except Exception as err:\n",
    "        pass"
   ]
  },
  {
   "cell_type": "code",
   "execution_count": 25,
   "id": "f34dff6f",
   "metadata": {},
   "outputs": [],
   "source": [
    "ccf_x = np.array(y)\n",
    "ccf_y = np.array(x)\n",
    "ccf_z = np.array(z)"
   ]
  },
  {
   "cell_type": "code",
   "execution_count": 26,
   "id": "e8b6fcb7",
   "metadata": {},
   "outputs": [],
   "source": [
    "voxel_rd = 50\n",
    "\n",
    "r, c, v = np.where(vox >= 0.1)  #vox: First axis: dorsal-ventral, second axis: medial-lateral, third axis: anterior-posterior\n",
    "r = r * 20\n",
    "c = c * 20\n",
    "v = v * 20\n",
    "\n",
    "dorsal = np.where(ccf_y < 8000)[0]\n",
    "frontal = np.where(ccf_z < 8000)[0]\n",
    "frontal = np.intersect1d(dorsal, frontal)\n",
    "\n",
    "Thalidx = []\n",
    "for u in range(len(frontal)):\n",
    "    for thal in range(len(c)):\n",
    "        idx = frontal[u]\n",
    "        if ccf_x[idx] >= r[thal] - voxel_rd and ccf_x[idx] < r[thal] + voxel_rd and ccf_y[idx] >= c[thal] - voxel_rd and ccf_y[idx] < c[thal] + voxel_rd and ccf_z[idx] >= v[thal] - voxel_rd and ccf_z[idx] < v[thal] + voxel_rd:\n",
    "            Thalidx.append(idx)\n",
    "            break"
   ]
  },
  {
   "cell_type": "code",
   "execution_count": 27,
   "id": "1d8dd298",
   "metadata": {},
   "outputs": [
    {
     "data": {
      "text/plain": [
       "(0, 729368, 354, 354)"
      ]
     },
     "execution_count": 27,
     "metadata": {},
     "output_type": "execute_result"
    }
   ],
   "source": [
    "len(Thalidx),len(r),len(dorsal),len(ccf_x) #129 @0.1 #44 @ 0.2 #35 @0.3 #0 @0.5"
   ]
  },
  {
   "cell_type": "code",
   "execution_count": 38,
   "id": "1bbb5f80",
   "metadata": {},
   "outputs": [],
   "source": [
    "# NOW CHECKING OVERLAP FOR ALM\n",
    "x_alm, y_alm, z_alm = [],[],[]\n",
    "\n",
    "units_Data = unit_result.query(\" Region == 'left ALM'  and ses_no == 1\")\n",
    "for i in list(units_Data.electrodes.reset_index().iloc[:,0]):\n",
    "    try:\n",
    "        x_ccf, y_ccf, z_ccf = get_ccf(i)\n",
    "        x_alm.append(x_ccf)\n",
    "        y_alm.append(y_ccf)\n",
    "        z_alm.append(z_ccf)\n",
    "\n",
    "    except Exception as err:\n",
    "        pass"
   ]
  },
  {
   "cell_type": "code",
   "execution_count": 39,
   "id": "222ec212",
   "metadata": {},
   "outputs": [
    {
     "data": {
      "text/plain": [
       "211"
      ]
     },
     "execution_count": 39,
     "metadata": {},
     "output_type": "execute_result"
    }
   ],
   "source": [
    "len(x_alm)"
   ]
  },
  {
   "cell_type": "code",
   "execution_count": 40,
   "id": "234b4e1b",
   "metadata": {},
   "outputs": [],
   "source": [
    "%matplotlib widget\n",
    "\n",
    "ccf_x = np.array(x_alm)\n",
    "ccf_y = np.array(y_alm)\n",
    "ccf_z = np.array(z_alm)\n",
    "voxel_rd = 50\n",
    "V = np.array(nib.load('ALM_functionalData.nii').get_fdata())\n",
    "r, c, v = np.where(V != 0)\n",
    "v = -v + 114\n",
    "r = r * 100\n",
    "c = c * 100\n",
    "v = v * 100\n",
    "\n",
    "dorsal = np.where(ccf_y < 4000)[0]\n",
    "frontal = np.where(ccf_z < 4000)[0]\n",
    "frontal = np.intersect1d(dorsal, frontal)\n",
    "\n",
    "ALMidx = []\n",
    "for u in range(len(frontal)):\n",
    "    for alm in range(len(c)):\n",
    "        idx = frontal[u]\n",
    "        if ccf_x[idx] >= v[alm] - voxel_rd and ccf_x[idx] < v[alm] + voxel_rd and ccf_y[idx] >= c[alm] - voxel_rd and ccf_y[idx] < c[alm] + voxel_rd and ccf_z[idx] >= r[alm] - voxel_rd and ccf_z[idx] < r[alm] + voxel_rd:\n",
    "            ALMidx.append(idx)\n",
    "            break"
   ]
  },
  {
   "cell_type": "code",
   "execution_count": 41,
   "id": "2de0008a",
   "metadata": {},
   "outputs": [
    {
     "data": {
      "text/plain": [
       "(211, 28)"
      ]
     },
     "execution_count": 41,
     "metadata": {},
     "output_type": "execute_result"
    }
   ],
   "source": [
    "len(ccf_x),len(ALMidx)"
   ]
  },
  {
   "cell_type": "markdown",
   "id": "56c007fc",
   "metadata": {},
   "source": [
    "# CCG Implementation"
   ]
  },
  {
   "cell_type": "code",
   "execution_count": 134,
   "id": "8de71122",
   "metadata": {},
   "outputs": [
    {
     "data": {
      "image/png": "[encoded data removed]",
      "text/plain": [
       "<Figure size 576x144 with 1 Axes>"
      ]
     },
     "metadata": {
      "needs_background": "light"
     },
     "output_type": "display_data"
    }
   ],
   "source": [
    "from scipy import stats\n",
    "import numpy as np\n",
    "import matplotlib.pyplot as plt\n",
    "from scipy import special\n",
    "tmax = 1\n",
    "max_rate = 80\n",
    "f_osc =  2\n",
    "bin_size = 1/30000\n",
    "time = np.arange(0, tmax, bin_size)\n",
    "\n",
    "rate = max_rate * (np.sin(2*np.pi*f_osc*time)+1)/2\n",
    "\n",
    "plt.figure(figsize=(8, 2))\n",
    "plt.plot(time, rate)\n",
    "plt.ylabel('rate (Hz)')\n",
    "plt.xlabel('time (s)');"
   ]
  },
  {
   "cell_type": "code",
   "execution_count": 135,
   "id": "f386b417",
   "metadata": {},
   "outputs": [
    {
     "data": {
      "image/png": "[encoded data removed]",
      "text/plain": [
       "<Figure size 576x144 with 1 Axes>"
      ]
     },
     "metadata": {
      "needs_background": "light"
     },
     "output_type": "display_data"
    }
   ],
   "source": [
    "shift = 20/1000   #in ms\n",
    "rate1 = max_rate * (np.sin(2*np.pi*f_osc*(time - shift))+1)/2\n",
    "plt.figure(figsize=(8, 2))\n",
    "plt.plot(time, rate1)\n",
    "plt.ylabel('rate (Hz)')\n",
    "plt.xlabel('time (s)');"
   ]
  },
  {
   "cell_type": "code",
   "execution_count": 137,
   "id": "f1b6209e",
   "metadata": {},
   "outputs": [
    {
     "data": {
      "text/plain": [
       "(0.125, 0.14500000000000002)"
      ]
     },
     "execution_count": 137,
     "metadata": {},
     "output_type": "execute_result"
    }
   ],
   "source": [
    "list(rate).index(rate.max())*bin_size,list(rate1).index(rate1.max())*bin_size\n",
    "#checking the max point of both the signals"
   ]
  },
  {
   "cell_type": "code",
   "execution_count": 185,
   "id": "5837c555",
   "metadata": {},
   "outputs": [
    {
     "data": {
      "image/png": "[encoded data removed]",
      "text/plain": [
       "<Figure size 576x144 with 2 Axes>"
      ]
     },
     "metadata": {
      "needs_background": "light"
     },
     "output_type": "display_data"
    }
   ],
   "source": [
    "# Trial generator based on poisson sampling\n",
    "\n",
    "def inhomogeneous_poisson(rate, bin_size):\n",
    "    n_bins = len(rate)\n",
    "    spikes = np.random.rand(n_bins) < rate * bin_size\n",
    "    spike_times = np.nonzero(spikes)[0] * bin_size\n",
    "    return spike_times\n",
    "\n",
    "def inhomogeneous_poisson_generator(n_trials, rate, bin_size):\n",
    "    for i in range(n_trials):\n",
    "        yield inhomogeneous_poisson(rate, bin_size)\n",
    "\n",
    "def raster_plot_multi(spike_times):\n",
    "    for i, spt in enumerate(spike_times):\n",
    "        plt.vlines(spt, i, i+1)\n",
    "    plt.yticks([])\n",
    "    \n",
    "n_trials = 200\n",
    "\n",
    "plt.figure(figsize=(8,2))\n",
    "plt.plot(time, rate, lw=2)\n",
    "plt.ylabel('rate (Hz)')\n",
    "plt.xlabel('time (s)')\n",
    "spike_times = list(inhomogeneous_poisson_generator(n_trials, rate, bin_size))\n",
    "plt.twinx()\n",
    "raster_plot_multi(spike_times)"
   ]
  },
  {
   "cell_type": "code",
   "execution_count": 10,
   "id": "36aad870",
   "metadata": {},
   "outputs": [
    {
     "data": {
      "image/png": "[encoded data removed]",
      "text/plain": [
       "<Figure size 576x144 with 2 Axes>"
      ]
     },
     "metadata": {
      "needs_background": "light"
     },
     "output_type": "display_data"
    }
   ],
   "source": [
    "plt.figure(figsize=(8,2))\n",
    "plt.plot(time, rate1, lw=2)\n",
    "plt.ylabel('rate (Hz)')\n",
    "plt.xlabel('time (s)')\n",
    "spike_times1 = list(inhomogeneous_poisson_generator(n_trials, rate1, bin_size))\n",
    "plt.twinx()\n",
    "raster_plot_multi(spike_times1)"
   ]
  },
  {
   "cell_type": "code",
   "execution_count": 11,
   "id": "35c0305b",
   "metadata": {},
   "outputs": [],
   "source": [
    "#Getting Spike vector from spike times\n",
    "spike_vec1 = np.zeros((n_trials, len(rate)))\n",
    "\n",
    "spike_vec2 = np.zeros((n_trials, len(rate1)))\n",
    "\n",
    "for j in range(0,n_trials):\n",
    "\n",
    "    spike_vec1[j, (spike_times[j]/bin_size).astype(int) ] = 1 \n",
    "    spike_vec2[j, (spike_times1[j]/bin_size).astype(int) ] = 1\n"
   ]
  },
  {
   "cell_type": "code",
   "execution_count": 57,
   "id": "bb0d46b4",
   "metadata": {},
   "outputs": [],
   "source": [
    "spikes = []\n",
    "spikes_shift = []\n",
    "for i, spt in enumerate(spike_times):\n",
    "    hist, edges = np.histogram(np.hstack(spt),bins = len(rate) ) #bin_width=0.033ms\n",
    "    spikes.append(hist)\n",
    "    \n",
    "for i, spt in enumerate(spike_times1):\n",
    "    hist1, edges = np.histogram(np.hstack(spt),bins = len(rate))\n",
    "    spikes_shift.append(hist1)"
   ]
  },
  {
   "cell_type": "code",
   "execution_count": 12,
   "id": "5a3a4bb2",
   "metadata": {},
   "outputs": [
    {
     "data": {
      "text/plain": [
       "(200, 30000)"
      ]
     },
     "execution_count": 12,
     "metadata": {},
     "output_type": "execute_result"
    }
   ],
   "source": [
    "np.array(spike_vec1).shape"
   ]
  },
  {
   "cell_type": "code",
   "execution_count": 13,
   "id": "5149dedb",
   "metadata": {},
   "outputs": [
    {
     "data": {
      "text/plain": [
       "[<matplotlib.lines.Line2D at 0x2dc7fceec40>]"
      ]
     },
     "execution_count": 13,
     "metadata": {},
     "output_type": "execute_result"
    },
    {
     "data": {
      "image/png": "[encoded data removed]",
      "text/plain": [
       "<Figure size 921.6x633.6 with 1 Axes>"
      ]
     },
     "metadata": {
      "needs_background": "light"
     },
     "output_type": "display_data"
    }
   ],
   "source": [
    "plt.plot(time,np.mean(spike_vec1,axis=0))\n",
    "plt.xlabel('Time (sec)')\n",
    "plt.ylabel('Rate (Hz)')"
   ]
  },
  {
   "cell_type": "markdown",
   "id": "aeaceabb",
   "metadata": {},
   "source": [
    "# CCG From Paper(Siegel)"
   ]
  },
  {
   "cell_type": "code",
   "execution_count": 121,
   "id": "b207c230",
   "metadata": {},
   "outputs": [],
   "source": [
    "from scipy import stats\n",
    "import scipy\n",
    "\n",
    "def jitter(data, l):\n",
    "    \"\"\"\n",
    "    Jittering multidemntational logical data where \n",
    "    0 means no spikes in that time bin and 1 indicates a spike in that time bin.\n",
    "    \"\"\"\n",
    "    if len(np.shape(data))>3:\n",
    "        flag = 1\n",
    "        sd = np.shape(data)\n",
    "        data = np.reshape(data,(np.shape(data)[0],np.shape(data)[1],len(data.flatten())/(np.shape(data)[0]*np.shape(data)[1])), order='F')\n",
    "    else:\n",
    "        flag = 0\n",
    "\n",
    "    psth = np.mean(data,axis=1)\n",
    "    length = np.shape(data)[0]\n",
    "\n",
    "    if np.mod(np.shape(data)[0],l):\n",
    "        data[length:(length+np.mod(-np.shape(data)[0],l)),:,:] = 0\n",
    "        psth[length:(length+np.mod(-np.shape(data)[0],l)),:]   = 0\n",
    "\n",
    "    if np.shape(psth)[1]>1:\n",
    "        dataj = np.squeeze(np.sum(np.reshape(data,[l,np.shape(data)[0]//l,np.shape(data)[1],np.shape(data)[2]], order='F'), axis=0))\n",
    "        psthj = np.squeeze(np.sum(np.reshape(psth,[l,np.shape(psth)[0]//l,np.shape(psth)[1]], order='F'), axis=0))\n",
    "    else:\n",
    "        dataj = np.squeeze(np.sum(np.reshape(data,l,np.shape(data)[0]//l,np.shape(data)[1], order='F')))\n",
    "        psthj = np.sum(np.reshape(psth,l,np.shape(psth)[0]//l, order='F'))\n",
    "\n",
    "\n",
    "    if np.shape(data)[0] == l:\n",
    "        dataj = np.reshape(dataj,[1,np.shape(dataj)[0],np.shape(dataj)[1]], order='F');\n",
    "        psthj = np.reshape(psthj,[1,np.shape(psthj[0])], order='F');\n",
    "\n",
    "    psthj = np.reshape(psthj,[np.shape(psthj)[0],1,np.shape(psthj)[1]], order='F')\n",
    "    psthj[psthj==0] = 10e-10\n",
    "\n",
    "    corr = dataj/np.tile(psthj,[1, np.shape(dataj)[1], 1]);\n",
    "    corr = np.reshape(corr,[1,np.shape(corr)[0],np.shape(corr)[1],np.shape(corr)[2]], order='F')\n",
    "    corr = np.tile(corr,[l, 1, 1, 1])\n",
    "    corr = np.reshape(corr,[np.shape(corr)[0]*np.shape(corr)[1],np.shape(corr)[2],np.shape(corr)[3]], order='F');\n",
    "\n",
    "    psth = np.reshape(psth,[np.shape(psth)[0],1,np.shape(psth)[1]], order='F');\n",
    "    output = np.tile(psth,[1, np.shape(corr)[1], 1])*corr\n",
    "\n",
    "    output = output[:length,:,:]\n",
    "    return output\n",
    "\n",
    "\n",
    "def xcorrfft(a,b,NFFT):\n",
    "    CCG = np.fft.fftshift(np.fft.ifft(np.multiply(np.fft.fft(a,NFFT), np.conj(np.fft.fft(b,NFFT)))))\n",
    "    return CCG\n",
    "\n",
    "def nextpow2(n):\n",
    "    \"\"\"get the next power of 2 that's greater than n\"\"\"\n",
    "    m_f = np.log2(n)\n",
    "    m_i = np.ceil(m_f)\n",
    "    return 2**m_i\n",
    "\n",
    "def get_ccgjitter(spikes, FR, jitterwindow):\n",
    "    # spikes: neuron*ori*trial*time\n",
    "    assert np.shape(spikes)[0]==len(FR)\n",
    "\n",
    "    n_unit=np.shape(spikes)[0]\n",
    "    n_t = np.shape(spikes)[3]\n",
    "    # triangle function\n",
    "    t = np.arange(-(n_t-1),(n_t-1))\n",
    "    theta = n_t-np.abs(t)\n",
    "    NFFT = int(nextpow2(2*n_t))\n",
    "    target = np.array([int(i) for i in NFFT/2+np.arange((-n_t+2),n_t)])\n",
    "\n",
    "    ccgjitter = []\n",
    "    ccgraw = []\n",
    "    jittered = []\n",
    "    pair=0\n",
    "    \n",
    "    for i in np.arange(n_unit-1):\n",
    "        for m in np.arange(i+1,n_unit):  \n",
    "            if FR[i]>2 and FR[m]>2:\n",
    "                temp1 = np.squeeze(spikes[i,:,:,:])\n",
    "                temp2 = np.squeeze(spikes[m,:,:,:])\n",
    "                FR1 = np.squeeze(np.mean(np.sum(temp1,axis=2), axis=1))\n",
    "                FR2 = np.squeeze(np.mean(np.sum(temp2,axis=2), axis=1))\n",
    "                tempccg = xcorrfft(temp1,temp2,NFFT)\n",
    "                tempccg = np.squeeze(np.nanmean(tempccg[:,:,target],axis=1))\n",
    "\n",
    "# [REMOVE] COMMENT TO GET CCG_CORRECTED and CCG_JITTER                 \n",
    "#                 temp1 = np.rollaxis(np.rollaxis(temp1,2,0), 2,1)\n",
    "#                 temp2 = np.rollaxis(np.rollaxis(temp2,2,0), 2,1)\n",
    "#                 ttemp1 = jitter(temp1,jitterwindow);  \n",
    "#                 ttemp2 = jitter(temp2,jitterwindow);\n",
    "#                 tempjitter = xcorrfft(np.rollaxis(np.rollaxis(ttemp1,2,0), 2,1),np.rollaxis(np.rollaxis(ttemp2,2,0), 2,1),NFFT);  \n",
    "#                 tempjitter = np.squeeze(np.nanmean(tempjitter[:,:,target],axis=1))\n",
    "                \n",
    "                ccgraw.append(tempccg.T/np.multiply(np.tile(np.sqrt(FR[i]*FR[m]), (len(target), 1)), \n",
    "                    np.tile(theta.T.reshape(len(theta),1),(1,len(FR1)))))\n",
    "#                 jittered.append(tempjitter.T/np.multiply(np.tile(np.sqrt(FR[i]*FR[m]), (len(target), 1)), \n",
    "#                     np.tile(theta.T.reshape(len(theta),1),(1,len(FR1)))))\n",
    "                \n",
    "#                 ccgjitter.append((tempccg - tempjitter).T/np.multiply(np.tile(np.sqrt(FR[i]*FR[m]), (len(target), 1)), \n",
    "#                     np.tile(theta.T.reshape(len(theta),1),(1,len(FR1)))))\n",
    "\n",
    "#     ccgjitter = np.array(ccgjitter)\n",
    "    ccgraw = np.array(ccgraw)\n",
    "#     jittered = np.array(jittered)\n",
    "    return ccgraw,t\n"
   ]
  },
  {
   "cell_type": "code",
   "execution_count": 124,
   "id": "670f99b9",
   "metadata": {},
   "outputs": [],
   "source": [
    "def return_smooth_gauss(spike_data,tr,sigma):\n",
    "    smooth_gauss = []\n",
    "\n",
    "    for i in np.arange(len(tr)):\n",
    "        gauss = np.exp((- ( np.arange(len(tr)) - i) ** 2) / ( 2 * (sigma**2) ) )\n",
    "        gauss /=  sum(gauss)\n",
    "        smooth_gauss.append(sum(gauss*spike_data))\n",
    "    \n",
    "    return tr,smooth_gauss\n",
    "\n",
    "\n",
    "#TRYING POLYNOMIAL SMOOTHING FUCNTION \n",
    "from math import factorial\n",
    "def savitzky_golay(y, window_size, order, deriv=0, rate=1):\n",
    "    try:\n",
    "        window_size = np.abs(np.int(window_size))\n",
    "        order = np.abs(np.int(order))\n",
    "    except ValueError:\n",
    "        raise ValueError(\"window_size and order have to be of type int\") \n",
    "    if window_size % 2 != 1 or window_size < 1:\n",
    "        raise TypeError(\"window_size size must be a positive odd number\")\n",
    "    if window_size < order + 2:\n",
    "        raise TypeError(\"window_size is too small for the polynomials order\")\n",
    "    order_range = range(order+1)\n",
    "    half_window = (window_size -1) // 2\n",
    "     # precompute coefficients\n",
    "    b = np.mat([[k**i for i in order_range] for k in range(-half_window, half_window+1)]) \n",
    "    m = np.linalg.pinv(b).A[deriv] * rate**deriv * factorial(deriv)\n",
    "    # values taken from the signal itself\n",
    "    firstvals = y[0] - np.abs( y[1:half_window+1][::-1] - y[0] )\n",
    "    lastvals = y[-1] + np.abs(y[-half_window-1:-1][::-1] - y[-1])\n",
    "    y = np.concatenate((firstvals, y, lastvals))\n",
    "    return np.convolve( m[::-1], y, mode='valid')\n",
    "\n",
    "# edges,smooth_raw = return_smooth_gauss(raw[0].T[0],tr,0.01)"
   ]
  },
  {
   "cell_type": "code",
   "execution_count": 125,
   "id": "88f63b7d",
   "metadata": {},
   "outputs": [],
   "source": [
    "# smoothing_window = (1/bin_size)/1000   #ms\n",
    "# print(smoothing_window)\n",
    "# yhat = savitzky_golay(raw[0].T[0], smoothing_window+1, 7)  #(Data,window,poly order)\n",
    "# plt.plot(tr*bin_size,yhat)\n",
    "# plt.plot(tr*bin_size,raw[0].T[0],alpha=0.3)\n",
    "# plt.xlim(-0.05,0.05)\n",
    "# plt.ylim(0,0.15e-6)"
   ]
  },
  {
   "cell_type": "code",
   "execution_count": 126,
   "id": "63344fc6",
   "metadata": {},
   "outputs": [],
   "source": [
    "# plt.plot(tr*bin_size,ccgjitter[0].T[0])\n",
    "# plt.plot(tr*bin_size,raw[0].T[0],alpha=0.5)\n",
    "# # plt.xlim(-0.05,0.05)\n",
    "# plt.ylim(-1.5e-7,1.5e-7)"
   ]
  },
  {
   "cell_type": "code",
   "execution_count": 127,
   "id": "418d3a88",
   "metadata": {},
   "outputs": [],
   "source": [
    "# plt.plot(tr*bin_size,jit[0].T[0])"
   ]
  },
  {
   "cell_type": "markdown",
   "id": "3261d1d3",
   "metadata": {},
   "source": [
    "# For ALM and Thalamus\n"
   ]
  },
  {
   "cell_type": "code",
   "execution_count": 128,
   "id": "772ee09a",
   "metadata": {},
   "outputs": [],
   "source": [
    "units_Data = unit_result.query(\" Region == 'left Thalamus' and ses_no == 1\")\n",
    "# thal_spike = units_Data.reset_index().loc[Thalidx]    #to get overlapped neurons\n",
    "thal_spike= units_Data[:2]\n",
    "\n",
    "units_Data = unit_result.query(\" Region == 'left ALM'  and ses_no == 1\")\n",
    "# ALM_spike = units_Data.reset_index().loc[ALMidx]      #to get overlapped neurons\n",
    "ALM_spike = units_Data[:2]"
   ]
  },
  {
   "cell_type": "code",
   "execution_count": 129,
   "id": "06b803a4",
   "metadata": {},
   "outputs": [
    {
     "data": {
      "text/plain": [
       "(2, 2)"
      ]
     },
     "execution_count": 129,
     "metadata": {},
     "output_type": "execute_result"
    }
   ],
   "source": [
    "len(thal_spike),len(ALM_spike)"
   ]
  },
  {
   "cell_type": "markdown",
   "id": "66dcffc6",
   "metadata": {},
   "source": [
    "# Aligned with Sample epoch"
   ]
  },
  {
   "cell_type": "code",
   "execution_count": 130,
   "id": "5019cf93",
   "metadata": {},
   "outputs": [],
   "source": [
    "after = 4.3     \n",
    "before = -0.7\n",
    "bin_size = 1/2000\n",
    "def Spike_time(temp_unit):\n",
    " \n",
    "    spike_data_l = []\n",
    "    Time_vec = []\n",
    "    n_trials = len(trials_Data_L)\n",
    "    spike_vec1 = np.zeros((len(temp_unit),n_trials, int((1/bin_size) * (after-before)) ))\n",
    "   \n",
    "    \n",
    "    for unit in temp_unit.reset_index().iloc[:, 0]:\n",
    "        \n",
    "        unit_spike_times = temp_unit[\"spike_times\"][unit]\n",
    "        trial_spikes_l = []\n",
    "        i = 0\n",
    "        for time in trials_Data_L['sample_start'].round(3):\n",
    "            # Compute spike times relative to stimulus onset\n",
    "            aligned_spikes = unit_spike_times - time\n",
    "            aligned_spikes = aligned_spikes[aligned_spikes < after ]\n",
    "            aligned_spikes = aligned_spikes[before < aligned_spikes]\n",
    "            trial_spikes_l.append(aligned_spikes)\n",
    "        spike_data_l.append(trial_spikes_l)\n",
    "    for i in range(spike_vec1.shape[0]):\n",
    "        for j in range(0,n_trials-1):\n",
    "            spike_vec1[i, j, ((spike_data_l[i][j]-before)/bin_size).astype(int) ] = 1 \n",
    "            Time_vec.append(np.multiply(np.where(spike_vec1[i][j] == 1),bin_size)+before)\n",
    "    return spike_vec1,Time_vec\n",
    "    \n",
    "spike_alm,time_alm = Spike_time(ALM_spike)\n",
    "spike_thal,time_thal = Spike_time(thal_spike)"
   ]
  },
  {
   "cell_type": "markdown",
   "id": "e15c48e2",
   "metadata": {},
   "source": [
    "# Aligned with Go que"
   ]
  },
  {
   "cell_type": "code",
   "execution_count": 131,
   "id": "cbbc37a7",
   "metadata": {},
   "outputs": [],
   "source": [
    "after = 3.0     \n",
    "before = -3.0\n",
    "bin_size = 1/2000\n",
    "def Spike_time(temp_unit):\n",
    " \n",
    "    spike_data_l = []\n",
    "    Time_vec = []\n",
    "    n_trials = len(trials_Data_L)\n",
    "    spike_vec1 = np.zeros((len(temp_unit),n_trials, int((1/bin_size) * (after-before)) ))\n",
    "   \n",
    "    \n",
    "    for unit in temp_unit.reset_index().iloc[:, 0]:\n",
    "        \n",
    "        unit_spike_times = temp_unit[\"spike_times\"][unit]\n",
    "        trial_spikes_l = []\n",
    "        i = 0\n",
    "        for time in trials_Data_L['go_start'].round(3):\n",
    "            # Compute spike times relative to go onset\n",
    "            aligned_spikes = unit_spike_times - time\n",
    "            aligned_spikes = aligned_spikes[aligned_spikes < after ]\n",
    "            aligned_spikes = aligned_spikes[before < aligned_spikes]\n",
    "            trial_spikes_l.append(aligned_spikes)\n",
    "        spike_data_l.append(trial_spikes_l)\n",
    "    for i in range(spike_vec1.shape[0]):\n",
    "        for j in range(0,n_trials):\n",
    "            spike_vec1[i, j, ((spike_data_l[i][j]-before)/bin_size).astype(int) ] = 1 \n",
    "            Time_vec.append(np.multiply(np.where(spike_vec1[i][j] == 1),bin_size)+before)\n",
    "    return spike_vec1,Time_vec\n",
    "    \n",
    "spike_alm,time_alm = Spike_time(ALM_spike)\n",
    "spike_thal,time_thal = Spike_time(thal_spike)"
   ]
  },
  {
   "cell_type": "code",
   "execution_count": 78,
   "id": "cd8f821d",
   "metadata": {},
   "outputs": [
    {
     "data": {
      "text/plain": [
       "(2, 242, 12000)"
      ]
     },
     "execution_count": 78,
     "metadata": {},
     "output_type": "execute_result"
    }
   ],
   "source": [
    "spike_alm.shape"
   ]
  },
  {
   "cell_type": "code",
   "execution_count": 133,
   "id": "8c80c4a7",
   "metadata": {},
   "outputs": [
    {
     "data": {
      "image/png": "[encoded data removed]",
      "text/plain": [
       "<Figure size 432x288 with 1 Axes>"
      ]
     },
     "metadata": {
      "needs_background": "light"
     },
     "output_type": "display_data"
    },
    {
     "data": {
      "image/png": "[encoded data removed]",
      "text/plain": [
       "<Figure size 432x288 with 1 Axes>"
      ]
     },
     "metadata": {
      "needs_background": "light"
     },
     "output_type": "display_data"
    },
    {
     "data": {
      "image/png": "[encoded data removed]",
      "text/plain": [
       "<Figure size 432x288 with 1 Axes>"
      ]
     },
     "metadata": {
      "needs_background": "light"
     },
     "output_type": "display_data"
    },
    {
     "data": {
      "image/png": "[encoded data removed]",
      "text/plain": [
       "<Figure size 432x288 with 1 Axes>"
      ]
     },
     "metadata": {
      "needs_background": "light"
     },
     "output_type": "display_data"
    },
    {
     "data": {
      "image/png": "[encoded data removed]",
      "text/plain": [
       "<Figure size 432x288 with 1 Axes>"
      ]
     },
     "metadata": {
      "needs_background": "light"
     },
     "output_type": "display_data"
    }
   ],
   "source": [
    "for i in range(5):\n",
    "    plt.figure()\n",
    "    plt.plot(np.arange(0,6,bin_size)-3,spike_alm[0][i])\n",
    "    plt.title(\"Unit:0 Trial:%s\"%i)\n",
    "    plt.xlim(-3,3)    \n",
    "    plt.xlabel('Time (sec)')\n",
    "#     plt.savefig('Unit_1_Trial_%s.png' % (i))\n",
    "    plt.show()"
   ]
  },
  {
   "cell_type": "code",
   "execution_count": 80,
   "id": "b56e8e8e",
   "metadata": {},
   "outputs": [],
   "source": [
    "# ind=[]\n",
    "# for i in range(101):\n",
    "#     a = np.where(spike_alm[1][i]==1)\n",
    "#     ind.append(a)"
   ]
  },
  {
   "cell_type": "code",
   "execution_count": 81,
   "id": "71eea019",
   "metadata": {},
   "outputs": [],
   "source": [
    "# raster_plot_multi(ind)"
   ]
  },
  {
   "cell_type": "code",
   "execution_count": 82,
   "id": "2d0dc494",
   "metadata": {},
   "outputs": [],
   "source": [
    "def get_ccg(spike_alm,spike_thal):\n",
    "    #creating Extra axis to match the input format for Siegel CCG fuction\n",
    "\n",
    "    new_spikes = np.expand_dims(spike_alm, axis=0)\n",
    "    new_spikes = np.expand_dims(new_spikes, axis=0)\n",
    "    new_spikes = np.hstack((new_spikes, new_spikes))\n",
    "\n",
    "    new_s_spikes = np.expand_dims(spike_thal, axis=0)\n",
    "    new_s_spikes = np.expand_dims(new_s_spikes, axis=0)\n",
    "    new_s_spikes = np.hstack((new_s_spikes, new_s_spikes))\n",
    "    \n",
    "    spik = np.vstack((new_spikes, new_s_spikes))\n",
    "    # spik.shape #Our (Neurons * (2 Orientation with zero degree)(Dummy axis) * trials * timestamp)\n",
    "    \n",
    "    FR = spik.sum(-1).mean(1).mean(1)\n",
    "    jitterwindow = 25/bin_size/1000  #in ms\n",
    "    \n",
    "    raw,tr = get_ccgjitter(spik, FR, jitterwindow= int(jitterwindow))\n",
    "    return raw,tr"
   ]
  },
  {
   "cell_type": "code",
   "execution_count": 87,
   "id": "db06ce45",
   "metadata": {},
   "outputs": [],
   "source": [
    "%matplotlib inline\n",
    "\n",
    "raw = []\n",
    "for i in range(len(spike_alm)):\n",
    "    for j in range(len(spike_thal)):\n",
    "        r,tr = get_ccg(spike_alm[i],spike_thal[j])\n",
    "        raw.append(r)\n"
   ]
  },
  {
   "cell_type": "code",
   "execution_count": 88,
   "id": "c541dc76",
   "metadata": {},
   "outputs": [
    {
     "data": {
      "text/plain": [
       "(4, 1, 23998, 2)"
      ]
     },
     "execution_count": 88,
     "metadata": {},
     "output_type": "execute_result"
    }
   ],
   "source": [
    "np.array(raw).shape"
   ]
  },
  {
   "cell_type": "code",
   "execution_count": 85,
   "id": "4b707676",
   "metadata": {},
   "outputs": [],
   "source": [
    "# PICKEL FILES BELOW ARE CENTERED ON SAMPLE EPOCH\n",
    "import pickle\n",
    "# bin_size = 1/2000\n",
    "# with open('ALM_THAL_440959_with0.5ms.pkl', 'wb') as f:\n",
    "#     pickle.dump(raw, f)\n",
    "\n",
    "# with open('ALM_THAL_440959_with0.5ms.pkl', 'rb') as f: \n",
    "#     raw = pickle.load(f)"
   ]
  },
  {
   "cell_type": "code",
   "execution_count": 102,
   "id": "14de3b5d",
   "metadata": {},
   "outputs": [],
   "source": [
    "n_t = spike_alm.shape[2]\n",
    "tr = np.arange(-(n_t-1),(n_t-1))\n",
    "\n",
    "def get_slice(ccgs, rang1,rang2):\n",
    "    return (ccgs[0].T[0][int((n_t + (rang1/1000/bin_size))): int((n_t + (rang2/1000/bin_size)))])\n",
    "\n",
    "def get_peak(raws):\n",
    "    j = 0\n",
    "    for i in range(len(raws)):\n",
    "        if raws[i].shape[0] != 0:\n",
    "            sd=np.std(get_slice(raws[i],-50,50))\n",
    "            rel_max = np.max(get_slice(raws[i],-10,10))\n",
    "            rel_min = np.min(get_slice(raws[i],-10,10))\n",
    "            relpeak = rel_max-rel_min\n",
    "            if float(relpeak/sd)>5:\n",
    "                j = j+1\n",
    "                plt.figure()\n",
    "                plt.plot(tr*bin_size,raws[i][0].T[0])\n",
    "                plt.xlim(-0.05,0.05)\n",
    "                plt.ylim(0,rel_max*1.2)\n",
    "#                 plt.savefig('ALM_THAL_0.5ms_%s.png' % (i))\n",
    "                plt.show()\n",
    "    print(j)"
   ]
  },
  {
   "cell_type": "code",
   "execution_count": 103,
   "id": "9ff48246",
   "metadata": {
    "scrolled": true
   },
   "outputs": [
    {
     "name": "stderr",
     "output_type": "stream",
     "text": [
      "G:\\Anaconda\\lib\\site-packages\\matplotlib\\cbook\\__init__.py:1333: ComplexWarning: Casting complex values to real discards the imaginary part\n",
      "  return np.asarray(x, float)\n",
      "G:\\Anaconda\\lib\\site-packages\\matplotlib\\transforms.py:2837: ComplexWarning: Casting complex values to real discards the imaginary part\n",
      "  vmin, vmax = map(float, [vmin, vmax])\n"
     ]
    },
    {
     "data": {
      "image/png": "[encoded data removed]",
      "text/plain": [
       "<Figure size 432x288 with 1 Axes>"
      ]
     },
     "metadata": {
      "needs_background": "light"
     },
     "output_type": "display_data"
    },
    {
     "name": "stderr",
     "output_type": "stream",
     "text": [
      "G:\\Anaconda\\lib\\site-packages\\matplotlib\\cbook\\__init__.py:1333: ComplexWarning: Casting complex values to real discards the imaginary part\n",
      "  return np.asarray(x, float)\n",
      "G:\\Anaconda\\lib\\site-packages\\matplotlib\\transforms.py:2837: ComplexWarning: Casting complex values to real discards the imaginary part\n",
      "  vmin, vmax = map(float, [vmin, vmax])\n"
     ]
    },
    {
     "data": {
      "image/png": "[encoded data removed]",
      "text/plain": [
       "<Figure size 432x288 with 1 Axes>"
      ]
     },
     "metadata": {
      "needs_background": "light"
     },
     "output_type": "display_data"
    },
    {
     "name": "stderr",
     "output_type": "stream",
     "text": [
      "G:\\Anaconda\\lib\\site-packages\\matplotlib\\cbook\\__init__.py:1333: ComplexWarning: Casting complex values to real discards the imaginary part\n",
      "  return np.asarray(x, float)\n",
      "G:\\Anaconda\\lib\\site-packages\\matplotlib\\transforms.py:2837: ComplexWarning: Casting complex values to real discards the imaginary part\n",
      "  vmin, vmax = map(float, [vmin, vmax])\n"
     ]
    },
    {
     "data": {
      "image/png": "[encoded data removed]",
      "text/plain": [
       "<Figure size 432x288 with 1 Axes>"
      ]
     },
     "metadata": {
      "needs_background": "light"
     },
     "output_type": "display_data"
    },
    {
     "name": "stderr",
     "output_type": "stream",
     "text": [
      "G:\\Anaconda\\lib\\site-packages\\matplotlib\\cbook\\__init__.py:1333: ComplexWarning: Casting complex values to real discards the imaginary part\n",
      "  return np.asarray(x, float)\n",
      "G:\\Anaconda\\lib\\site-packages\\matplotlib\\transforms.py:2837: ComplexWarning: Casting complex values to real discards the imaginary part\n",
      "  vmin, vmax = map(float, [vmin, vmax])\n"
     ]
    },
    {
     "data": {
      "image/png": "[encoded data removed]",
      "text/plain": [
       "<Figure size 432x288 with 1 Axes>"
      ]
     },
     "metadata": {
      "needs_background": "light"
     },
     "output_type": "display_data"
    }
   ],
   "source": [
    "for i in range(len(raw)):\n",
    "    if raw[i].shape[0] != 0:\n",
    "        plt.figure()\n",
    "        plt.plot(tr*bin_size,raw[i][0].T[0])\n",
    "        plt.xlim(-0.05,0.05)\n",
    "        plt.ylim(0,np.max(get_slice(raw[i],-50,50))*1.2)\n",
    "        plt.xlabel('Time (sec)')\n",
    "        plt.ylabel('Trajectory (a.u.)')\n",
    "        plt.show()"
   ]
  },
  {
   "cell_type": "code",
   "execution_count": 104,
   "id": "2b781095",
   "metadata": {
    "scrolled": false
   },
   "outputs": [
    {
     "name": "stdout",
     "output_type": "stream",
     "text": [
      "0\n"
     ]
    },
    {
     "name": "stderr",
     "output_type": "stream",
     "text": [
      "C:\\Users\\smit3\\AppData\\Local\\Temp/ipykernel_548/3319988256.py:15: ComplexWarning: Casting complex values to real discards the imaginary part\n",
      "  if float(relpeak/sd)>5:\n"
     ]
    }
   ],
   "source": [
    "get_peak(raw)"
   ]
  },
  {
   "cell_type": "code",
   "execution_count": null,
   "id": "3550959c",
   "metadata": {},
   "outputs": [],
   "source": []
  },
  {
   "cell_type": "markdown",
   "id": "2aea2bda",
   "metadata": {},
   "source": [
    "# Controlled Env"
   ]
  },
  {
   "cell_type": "code",
   "execution_count": 106,
   "id": "3960d731",
   "metadata": {},
   "outputs": [],
   "source": [
    "units_Data = unit_result.query(\" Region == 'left Thalamus'\")\n",
    "thal_spike = units_Data[:1]\n",
    "\n",
    "after = 4.3     #(Change bins to vector, Pending**)\n",
    "before = -0.7\n",
    "bin_size = 1/30000\n",
    "def Spike_time(temp_unit,i):\n",
    " \n",
    "    spike_data_l = []\n",
    "    n_trials = len(trials_Data_L)\n",
    "    spike_vec1 = np.zeros((len(temp_unit),n_trials, int((1/bin_size) * (after-before)) ))\n",
    "   \n",
    "    \n",
    "    for unit in temp_unit.reset_index().iloc[:,0]:\n",
    "        if(i==1):\n",
    "            unit_spike_times = np.asarray(temp_unit[\"spike_times\"][unit]) + 0.005 \n",
    "        else:\n",
    "            unit_spike_times = np.asarray(temp_unit[\"spike_times\"][unit])\n",
    "        trial_spikes_l = []\n",
    "        i = 0\n",
    "        for time in trials_Data_L['sample_start'].round(3):\n",
    "            # Compute spike times relative to stimulus onset\n",
    "        \n",
    "            aligned_spikes = unit_spike_times - time\n",
    "            aligned_spikes = aligned_spikes[aligned_spikes < after ]\n",
    "            aligned_spikes = aligned_spikes[before < aligned_spikes]\n",
    "            trial_spikes_l.append(aligned_spikes)\n",
    "        spike_data_l.append(trial_spikes_l)\n",
    "    for i in range(spike_vec1.shape[0]):\n",
    "        for j in range(0,n_trials-1):\n",
    "            spike_vec1[i, j, ((spike_data_l[i][j]-before)/bin_size).astype(int) ] = 1 \n",
    "    return spike_vec1\n",
    "    \n",
    "spike_alm = Spike_time(thal_spike,0)\n",
    "spike_thal = Spike_time(thal_spike,1)"
   ]
  },
  {
   "cell_type": "code",
   "execution_count": 108,
   "id": "1829f474",
   "metadata": {},
   "outputs": [
    {
     "data": {
      "text/plain": [
       "(2, 2, 242, 150000)"
      ]
     },
     "execution_count": 108,
     "metadata": {},
     "output_type": "execute_result"
    }
   ],
   "source": [
    "#creating Extra axis to match the input format for Siegel CCG fuction\n",
    "new_spikes = np.expand_dims(spike_alm, axis=1)\n",
    "new_spikes = np.hstack((new_spikes, new_spikes))\n",
    "\n",
    "new_s_spikes = np.expand_dims(spike_thal, axis=1)\n",
    "new_s_spikes = np.hstack((new_s_spikes, new_s_spikes))\n",
    "\n",
    "spik = np.vstack((new_spikes, new_s_spikes))\n",
    "\n",
    "FR = spik.sum(-1).mean(1).mean(1)\n",
    "spik.shape"
   ]
  },
  {
   "cell_type": "code",
   "execution_count": 110,
   "id": "3e50fc21",
   "metadata": {},
   "outputs": [],
   "source": [
    "tr = np.arange(-(spike_alm[0][0].shape[0]-1),(spike_alm[0][0].shape[0]-1))\n",
    "theta = spike_alm[0][0].shape[0] -np.abs(tr)\n",
    "jitterwindow = 25/bin_size/1000  #in ms\n",
    "rawcon,tr = get_ccgjitter(spik, FR, jitterwindow= int(jitterwindow))"
   ]
  },
  {
   "cell_type": "code",
   "execution_count": 111,
   "id": "201cfba9",
   "metadata": {},
   "outputs": [
    {
     "data": {
      "text/plain": [
       "(1, 299998, 2)"
      ]
     },
     "execution_count": 111,
     "metadata": {},
     "output_type": "execute_result"
    }
   ],
   "source": [
    "rawcon.shape"
   ]
  },
  {
   "cell_type": "code",
   "execution_count": 112,
   "id": "fdfdc5eb",
   "metadata": {},
   "outputs": [
    {
     "name": "stderr",
     "output_type": "stream",
     "text": [
      "G:\\Anaconda\\lib\\site-packages\\matplotlib\\cbook\\__init__.py:1333: ComplexWarning: Casting complex values to real discards the imaginary part\n",
      "  return np.asarray(x, float)\n"
     ]
    },
    {
     "data": {
      "text/plain": [
       "Text(0.5, 0, 'Time(s)')"
      ]
     },
     "execution_count": 112,
     "metadata": {},
     "output_type": "execute_result"
    },
    {
     "data": {
      "image/png": "[encoded data removed]",
      "text/plain": [
       "<Figure size 432x288 with 1 Axes>"
      ]
     },
     "metadata": {
      "needs_background": "light"
     },
     "output_type": "display_data"
    }
   ],
   "source": [
    "plt.plot(tr*bin_size,rawcon[0].T[0])\n",
    "plt.xlim(-0.1,0.1)\n",
    "plt.xlabel(\"Time(s)\")"
   ]
  },
  {
   "cell_type": "code",
   "execution_count": null,
   "id": "83c31990",
   "metadata": {},
   "outputs": [],
   "source": []
  }
 ],
 "metadata": {
  "kernelspec": {
   "display_name": "Python 3 (ipykernel)",
   "language": "python",
   "name": "python3"
  },
  "language_info": {
   "codemirror_mode": {
    "name": "ipython",
    "version": 3
   },
   "file_extension": ".py",
   "mimetype": "text/x-python",
   "name": "python",
   "nbconvert_exporter": "python",
   "pygments_lexer": "ipython3",
   "version": "3.9.7"
  }
 },
 "nbformat": 4,
 "nbformat_minor": 5
}
